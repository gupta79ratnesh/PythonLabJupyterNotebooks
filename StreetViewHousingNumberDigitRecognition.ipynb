{
  "nbformat": 4,
  "nbformat_minor": 0,
  "metadata": {
    "accelerator": "GPU",
    "colab": {
      "name": "Copy of StreetViewHousingNumberDigitRecognitionU.ipynb",
      "provenance": [],
      "collapsed_sections": [
        "lQIdfx485fUS"
      ],
      "include_colab_link": true
    },
    "kernelspec": {
      "display_name": "Python 3",
      "language": "python",
      "name": "python3"
    },
    "language_info": {
      "codemirror_mode": {
        "name": "ipython",
        "version": 3
      },
      "file_extension": ".py",
      "mimetype": "text/x-python",
      "name": "python",
      "nbconvert_exporter": "python",
      "pygments_lexer": "ipython3",
      "version": "3.7.4"
    }
  },
  "cells": [
    {
      "cell_type": "markdown",
      "metadata": {
        "id": "view-in-github",
        "colab_type": "text"
      },
      "source": [
        "<a href=\"https://colab.research.google.com/github/gupta79ratnesh/PythonLabJupyterNotebooks/blob/master/StreetViewHousingNumberDigitRecognition.ipynb\" target=\"_parent\"><img src=\"https://colab.research.google.com/assets/colab-badge.svg\" alt=\"Open In Colab\"/></a>"
      ]
    },
    {
      "cell_type": "markdown",
      "metadata": {
        "colab_type": "text",
        "id": "YZvtavUvSxBp"
      },
      "source": [
        "# The Problem Description:\n",
        "Recognizing multi-digit numbers in photographs captured at street level is an important component of modern-day map making. A classic example of a corpus of such street-level photographs is Google’s Street View imagery comprised of hundreds of millions of geo-located 360-degree panoramic images. The ability to\n",
        "automatically transcribe an address number from a geo-located patch of pixels and associate the transcribed number with a known street address helps pinpoint, with a high degree of accuracy, the location of the building\n",
        "it represents. More broadly, recognizing numbers in photographs is a problem of interest to the optical character recognition community. While OCR on constrained domains like document processing is well studied, arbitrary multi-character text recognition in photographs is still highly challenging. This difficulty arises due to the wide variability in the visual appearance of text in the wild on account of a large range of fonts, colours, styles, orientations, and character arrangements. The recognition problem is further complicated by environmental factors such as lighting, shadows, specularities, and occlusions as well as by image acquisition factors such as resolution, motion, and focus blurs. In this project, we will use the dataset with images centred around a single digit (many of the images do contain some distractors at the sides). Although we are taking a sample of the data which is simpler, it is more complex than MNIST because of the distractors."
      ]
    },
    {
      "cell_type": "markdown",
      "metadata": {
        "id": "Z1mr6lcL6CcW",
        "colab_type": "text"
      },
      "source": [
        "# Dataset\n",
        "SVHN is a real-world image dataset for developing machine learning and object recognition algorithms with the minimal requirement on data formatting but comes from a significantly harder, unsolved, real-world problem (recognizing digits and numbers in natural scene images). SVHN is obtained from house numbers in Google Street View images"
      ]
    },
    {
      "cell_type": "markdown",
      "metadata": {
        "id": "9WJCM8096LEi",
        "colab_type": "text"
      },
      "source": [
        "#Steps\n",
        "##The objective of the project is to learn how to implement a simple image classification pipeline based on a deep neural network and understand the basics of Image Classification\n",
        "<ul>\n",
        "<li>1) Read the data from the h5py file and understand the train/test splits (5 points)</li>\n",
        "<li>2) Reshape and normalize the train and test features (10 points)</li>\n",
        "<li>3) One hot encode the labels for train and test data (15 points)</li>\n",
        "<li>4) Define the model architecture using TensorFlow with a flatten layer followed by dense layers with activation as ReLu and softmax (15 points)</li>\n",
        "<li>5) Compile the model with loss as categorical cross-entropy and adam optimizers. Use accuracy as the metric for evaluation (10 points)</li>\n",
        "<li>6) Fit and evaluate the model. Print the loss and accuracy for the test data (5 points)</li>\n",
        "</ul>"
      ]
    },
    {
      "cell_type": "markdown",
      "metadata": {
        "id": "L4311IpY6Q8c",
        "colab_type": "text"
      },
      "source": [
        "##Import Important Libraries"
      ]
    },
    {
      "cell_type": "code",
      "metadata": {
        "id": "NlMRRGzr6dKL",
        "colab_type": "code",
        "colab": {
          "base_uri": "https://localhost:8080/",
          "height": 35
        },
        "outputId": "2263ac40-3545-44f8-dcdd-4704aeafca41"
      },
      "source": [
        "%tensorflow_version 2.x\n",
        "import tensorflow\n",
        "tensorflow.__version__"
      ],
      "execution_count": null,
      "outputs": [
        {
          "output_type": "execute_result",
          "data": {
            "application/vnd.google.colaboratory.intrinsic+json": {
              "type": "string"
            },
            "text/plain": [
              "'2.3.0'"
            ]
          },
          "metadata": {
            "tags": []
          },
          "execution_count": 3
        }
      ]
    },
    {
      "cell_type": "code",
      "metadata": {
        "id": "Jh4rxPMq6huH",
        "colab_type": "code",
        "colab": {}
      },
      "source": [
        "# Initialize the random number generator\n",
        "import random\n",
        "random.seed(0)\n",
        "\n",
        "# Ignore the warnings\n",
        "import warnings\n",
        "warnings.filterwarnings(\"ignore\")"
      ],
      "execution_count": null,
      "outputs": []
    },
    {
      "cell_type": "code",
      "metadata": {
        "colab_type": "code",
        "id": "LfvotWHRUZyP",
        "colab": {}
      },
      "source": [
        "#Importing important libraries\n",
        "import numpy as np\n",
        "import pandas as pd\n",
        "import h5py\n",
        "import matplotlib.pyplot as plt\n",
        "#To enable plotting graphs in Jupyter notebook\n",
        "%matplotlib inline\n",
        "from sklearn.neighbors import KNeighborsClassifier\n",
        "from sklearn.metrics import confusion_matrix,accuracy_score\n",
        "from sklearn.metrics import classification_report\n",
        "from keras.models import Sequential\n",
        "from keras.utils.np_utils import to_categorical\n",
        "from keras.layers import Activation, Dense\n",
        "from keras.layers import BatchNormalization, Dropout\n",
        "from keras import optimizers\n",
        "import tensorflow as tf\n"
      ],
      "execution_count": null,
      "outputs": []
    },
    {
      "cell_type": "markdown",
      "metadata": {
        "colab_type": "text",
        "id": "8QlH23LWUZyR"
      },
      "source": [
        "##1) Read the data from the h5py file and understand the train/test splits"
      ]
    },
    {
      "cell_type": "code",
      "metadata": {
        "id": "n757g8Ad6pJp",
        "colab_type": "code",
        "colab": {
          "base_uri": "https://localhost:8080/",
          "height": 34
        },
        "outputId": "4fb645e3-01a7-40ed-8b8f-d74dd210e9c0"
      },
      "source": [
        "from google.colab import drive\n",
        "drive.mount('/content/drive')"
      ],
      "execution_count": null,
      "outputs": [
        {
          "output_type": "stream",
          "text": [
            "Drive already mounted at /content/drive; to attempt to forcibly remount, call drive.mount(\"/content/drive\", force_remount=True).\n"
          ],
          "name": "stdout"
        }
      ]
    },
    {
      "cell_type": "code",
      "metadata": {
        "colab_type": "code",
        "id": "WR_XhXkuqaCv",
        "colab": {}
      },
      "source": [
        "#Open the file as readonly\n",
        "data1=h5py.File('/content/drive/My Drive/DeepLearning/SVHN_single_grey1.h5','r')"
      ],
      "execution_count": null,
      "outputs": []
    },
    {
      "cell_type": "code",
      "metadata": {
        "colab_type": "code",
        "id": "Yf46WImxUZyV",
        "colab": {
          "base_uri": "https://localhost:8080/",
          "height": 34
        },
        "outputId": "3096ccc7-5be1-4204-bdd9-2f49ffe57748"
      },
      "source": [
        "data1.keys()"
      ],
      "execution_count": null,
      "outputs": [
        {
          "output_type": "execute_result",
          "data": {
            "text/plain": [
              "<KeysViewHDF5 ['X_test', 'X_train', 'X_val', 'y_test', 'y_train', 'y_val']>"
            ]
          },
          "metadata": {
            "tags": []
          },
          "execution_count": 35
        }
      ]
    },
    {
      "cell_type": "code",
      "metadata": {
        "colab_type": "code",
        "id": "sNnu7PxaUZyX",
        "colab": {}
      },
      "source": [
        "#Load the training, testing, and validation data\n",
        "X_train=data1['X_train']\n",
        "X_test=data1['X_test']\n",
        "X_val=data1['X_val']\n",
        "y_train=data1['y_train']\n",
        "y_test=data1['y_test']\n",
        "y_val=data1['y_val']"
      ],
      "execution_count": null,
      "outputs": []
    },
    {
      "cell_type": "code",
      "metadata": {
        "colab_type": "code",
        "id": "Ta-rmIzCUZyZ",
        "colab": {
          "base_uri": "https://localhost:8080/",
          "height": 119
        },
        "outputId": "8fd869c9-116b-41f6-c29d-7f8f1dbe476c"
      },
      "source": [
        "# Printing the shape and data type of training, testing, and validation data\n",
        "print(\"Training data X-- Shape :\", X_train.shape,\"and Data Type : \", X_train.dtype)\n",
        "print(\"Testing data X-- Shape :\", X_test.shape,\"and Data Type : \", X_test.dtype)\n",
        "print(\"Validation data X-- Shape :\", X_val.shape,\"and Data Type : \", X_val.dtype)\n",
        "print(\"Training data y-- Shape :\", y_train.shape,\"and Data Type : \", y_train.dtype)\n",
        "print(\"Testing data y-- Shape :\", y_test.shape,\"and Data Type : \", y_test.dtype)\n",
        "print(\"Validation data y-- Shape :\", y_val.shape,\"and Data Type : \", y_val.dtype)"
      ],
      "execution_count": null,
      "outputs": [
        {
          "output_type": "stream",
          "text": [
            "Training data X-- Shape : (42000, 32, 32) and Data Type :  float32\n",
            "Testing data X-- Shape : (18000, 32, 32) and Data Type :  float32\n",
            "Validation data X-- Shape : (60000, 32, 32) and Data Type :  float32\n",
            "Training data y-- Shape : (42000,) and Data Type :  uint8\n",
            "Testing data y-- Shape : (18000,) and Data Type :  uint8\n",
            "Validation data y-- Shape : (60000,) and Data Type :  uint8\n"
          ],
          "name": "stdout"
        }
      ]
    },
    {
      "cell_type": "markdown",
      "metadata": {
        "id": "z1WHgCd-5fRv",
        "colab_type": "text"
      },
      "source": [
        "#### Visualizing the dataset"
      ]
    },
    {
      "cell_type": "code",
      "metadata": {
        "colab_type": "code",
        "id": "PCepVJhmUZyd",
        "colab": {
          "base_uri": "https://localhost:8080/",
          "height": 486
        },
        "outputId": "f986d610-3bb7-4453-bbe9-74fd49406a79"
      },
      "source": [
        "fig=plt.figure(figsize=(8,8))\n",
        "columns=10\n",
        "rows=10\n",
        "for i in range(1, columns*rows+1):\n",
        "    img=X_test[i]\n",
        "    fig.add_subplot(rows,columns,i)\n",
        "    plt.imshow(img,cmap='gray')\n",
        "plt.show()"
      ],
      "execution_count": null,
      "outputs": [
        {
          "output_type": "display_data",
          "data": {
            "image/png": "[encoded data removed]",
            "text/plain": [
              "<Figure size 576x576 with 100 Axes>"
            ]
          },
          "metadata": {
            "tags": [],
            "needs_background": "light"
          }
        }
      ]
    },
    {
      "cell_type": "code",
      "metadata": {
        "colab_type": "code",
        "id": "QToVz5t6UZzC",
        "colab": {
          "base_uri": "https://localhost:8080/",
          "height": 283
        },
        "outputId": "ad3894b4-3512-4489-86c9-f0ec5ebfc65c"
      },
      "source": [
        "# show the number in the dataset\n",
        "plt.imshow(X_train[0],cmap='gray')    \n",
        "plt.show()\n",
        "print('Label: ', y_train[0])"
      ],
      "execution_count": null,
      "outputs": [
        {
          "output_type": "display_data",
          "data": {
            "image/png": "[encoded data removed]",
            "text/plain": [
              "<Figure size 432x288 with 1 Axes>"
            ]
          },
          "metadata": {
            "tags": [],
            "needs_background": "light"
          }
        },
        {
          "output_type": "stream",
          "text": [
            "Label:  2\n"
          ],
          "name": "stdout"
        }
      ]
    },
    {
      "cell_type": "code",
      "metadata": {
        "colab_type": "code",
        "id": "NXb9mX72UZzF",
        "colab": {
          "base_uri": "https://localhost:8080/",
          "height": 283
        },
        "outputId": "5999bd33-934b-4058-a453-9a6adb4ede14"
      },
      "source": [
        "# show the number in the dataset\n",
        "plt.imshow(X_test[0],cmap='gray')    \n",
        "plt.show()\n",
        "print('Label: ', y_test[0])"
      ],
      "execution_count": null,
      "outputs": [
        {
          "output_type": "display_data",
          "data": {
            "image/png": "[encoded data removed]",
            "text/plain": [
              "<Figure size 432x288 with 1 Axes>"
            ]
          },
          "metadata": {
            "tags": [],
            "needs_background": "light"
          }
        },
        {
          "output_type": "stream",
          "text": [
            "Label:  1\n"
          ],
          "name": "stdout"
        }
      ]
    },
    {
      "cell_type": "code",
      "metadata": {
        "colab_type": "code",
        "id": "5-8Z7z55UZzJ",
        "colab": {
          "base_uri": "https://localhost:8080/",
          "height": 95
        },
        "outputId": "84bc1613-f17d-4929-908e-21790699f54a"
      },
      "source": [
        "# visualizing the first 10 images in the dataset and their labels\n",
        "%matplotlib inline\n",
        "import matplotlib.pyplot as plt\n",
        "plt.figure(figsize=(10, 1))\n",
        "for i in range(10):\n",
        "    plt.subplot(1, 10, i+1)\n",
        "    plt.imshow(X_train[i].reshape(32,32),cmap='gray')\n",
        "    plt.axis('off')\n",
        "plt.show()\n",
        "print('label for each of the above image: %s' % (y_train[0:10]))"
      ],
      "execution_count": null,
      "outputs": [
        {
          "output_type": "display_data",
          "data": {
            "image/png": "[encoded data removed]",
            "text/plain": [
              "<Figure size 720x72 with 10 Axes>"
            ]
          },
          "metadata": {
            "tags": [],
            "needs_background": "light"
          }
        },
        {
          "output_type": "stream",
          "text": [
            "label for each of the above image: [2 6 7 4 4 0 3 0 7 3]\n"
          ],
          "name": "stdout"
        }
      ]
    },
    {
      "cell_type": "markdown",
      "metadata": {
        "colab_type": "text",
        "id": "Jag4FxwiUZyh"
      },
      "source": [
        "##2) Reshape and normalize the train and test features"
      ]
    },
    {
      "cell_type": "code",
      "metadata": {
        "colab_type": "code",
        "id": "LGNCJDbBUZyj",
        "colab": {}
      },
      "source": [
        "#Reshape data from 2D to 1D -> 32X32 to 1024\n",
        "X_train = np.asarray(X_train).reshape(42000,1024)\n",
        "X_test = np.asarray(X_test).reshape(18000,1024)\n",
        "X_val = np.asarray(X_val).reshape(60000,1024)"
      ],
      "execution_count": null,
      "outputs": []
    },
    {
      "cell_type": "code",
      "metadata": {
        "id": "kOugb3ljlmJH",
        "colab_type": "code",
        "colab": {
          "base_uri": "https://localhost:8080/",
          "height": 85
        },
        "outputId": "61be5707-43ac-4913-ff0c-652f4d817f42"
      },
      "source": [
        "print(X_train.max())\n",
        "print(X_train.min())\n",
        "\n",
        "X_train = X_train / 255.0\n",
        "X_val = X_val / 255.0\n",
        "X_test = X_test / 255.0\n",
        "\n",
        "print(X_train.max())\n",
        "print(X_train.min())"
      ],
      "execution_count": null,
      "outputs": [
        {
          "output_type": "stream",
          "text": [
            "254.9745\n",
            "0.0\n",
            "0.9999\n",
            "0.0\n"
          ],
          "name": "stdout"
        }
      ]
    },
    {
      "cell_type": "markdown",
      "metadata": {
        "id": "72CZ70SFm6_D",
        "colab_type": "text"
      },
      "source": [
        "##3) One hot encode the labels for train and test data"
      ]
    },
    {
      "cell_type": "code",
      "metadata": {
        "id": "-7Yu2CQlmWvR",
        "colab_type": "code",
        "colab": {
          "base_uri": "https://localhost:8080/",
          "height": 68
        },
        "outputId": "c8298f33-9c7d-45c8-a0e8-d341aa187aed"
      },
      "source": [
        "print(y_train[10])\n",
        "y_train = tf.keras.utils.to_categorical(y_train, num_classes=10)\n",
        "y_test = tf.keras.utils.to_categorical(y_test, num_classes=10)\n",
        "y_val = tf.keras.utils.to_categorical(y_val, num_classes=10)\n",
        "print(X_train.shape, X_test.shape,X_val.shape, y_train.shape, y_test.shape,y_val.shape)\n",
        "print(y_train[10])"
      ],
      "execution_count": null,
      "outputs": [
        {
          "output_type": "stream",
          "text": [
            "1\n",
            "(42000, 1024) (18000, 1024) (60000, 1024) (42000, 10) (18000, 10) (60000, 10)\n",
            "[0. 1. 0. 0. 0. 0. 0. 0. 0. 0.]\n"
          ],
          "name": "stdout"
        }
      ]
    },
    {
      "cell_type": "code",
      "metadata": {
        "colab_type": "code",
        "id": "GeqMgXALl2wp",
        "colab": {
          "base_uri": "https://localhost:8080/",
          "height": 236
        },
        "outputId": "c916fb12-d731-4d2f-e8ee-f31b228ef025"
      },
      "source": [
        "# Initializing the value of k and finding the accuracies on validation data\n",
        "k_vals = range(1, 30, 2)\n",
        "accuracies = []\n",
        "\n",
        "for k in range(1, 30, 2):\n",
        "  knn = KNeighborsClassifier(n_neighbors=k)\n",
        "  knn.fit(X_train, y_train)\n",
        "  score = knn.score(X_val, y_val)\n",
        "  print(\"k value=%d, accuracy score=%.2f%%\" % (k, score * 100))\n",
        "  accuracies.append(score)\n",
        " \n",
        "# finding the value of k which has the largest accuracy\n",
        "i = int(np.argmax(accuracies))\n",
        "print(\"k=%d value has highest accuracy of %.2f%% on validation data\" % (k_vals[i],accuracies[i] * 100))"
      ],
      "execution_count": null,
      "outputs": [
        {
          "output_type": "stream",
          "text": [
            "k value=1, accuracy score=83.78%\n",
            "k value=3, accuracy score=62.83%\n",
            "k value=5, accuracy score=62.42%\n",
            "k value=7, accuracy score=61.43%\n",
            "k value=9, accuracy score=60.59%\n",
            "k value=11, accuracy score=60.32%\n",
            "k value=13, accuracy score=59.88%\n",
            "k value=15, accuracy score=59.45%\n",
            "k value=17, accuracy score=59.25%\n",
            "k value=19, accuracy score=59.10%\n",
            "k value=21, accuracy score=58.77%\n",
            "k value=23, accuracy score=58.62%\n",
            "k value=25, accuracy score=58.41%\n",
            "k value=27, accuracy score=58.21%\n",
            "k value=29, accuracy score=58.18%\n",
            "k=1 value has highest accuracy of 83.78% on validation data\n"
          ],
          "name": "stdout"
        }
      ]
    },
    {
      "cell_type": "markdown",
      "metadata": {
        "id": "sP8VRAaH5fSH",
        "colab_type": "text"
      },
      "source": [
        "* It took more than 24hrs to find the k values and accuracy of the model using 4GB RAM and intel i5 processor. "
      ]
    },
    {
      "cell_type": "code",
      "metadata": {
        "colab_type": "code",
        "id": "RyVrj74knj1r",
        "colab": {}
      },
      "source": [
        "# Retraining the model using the best k value and predict the labels on test data\n",
        "\n",
        "knn = KNeighborsClassifier(n_neighbors=1)\n",
        "knn.fit(X_train, y_train)\n",
        "predictions = knn.predict(X_test)"
      ],
      "execution_count": null,
      "outputs": []
    },
    {
      "cell_type": "markdown",
      "metadata": {
        "colab_type": "text",
        "id": "oUtEGPE7UZy5"
      },
      "source": [
        " # 4. Printing Classification Metric Report"
      ]
    },
    {
      "cell_type": "code",
      "metadata": {
        "colab_type": "code",
        "id": "eL_HE_HPUZy5",
        "colab": {
          "base_uri": "https://localhost:8080/",
          "height": 493
        },
        "outputId": "75f31bbe-622a-45c3-df53-9cf1892620a0"
      },
      "source": [
        "# show a final classification report demonstrating the accuracy of the classifier\n",
        "print(\"EVALUATION ON TESTING DATA\")\n",
        "print(confusion_matrix(y_test,predictions))\n",
        "print(classification_report(y_test, predictions))"
      ],
      "execution_count": null,
      "outputs": [
        {
          "output_type": "stream",
          "text": [
            "EVALUATION ON TESTING DATA\n",
            "[[ 935   43   51   64   71   65  185   40  170  190]\n",
            " [  51 1034  109  122  123   69   68  119   67   66]\n",
            " [  63  135  872  131   82   74   65  168   79  134]\n",
            " [  67  166  127  610   88  229   82   80  149  121]\n",
            " [  85  195   51   71 1039   55  111   35   98   72]\n",
            " [  94  103   71  220   54  588  203   48  205  182]\n",
            " [ 225   74   51   72  102  154  711   33  295  115]\n",
            " [  65  173  146  100   34   38   48 1071   53   80]\n",
            " [ 150   62   59  130   86  153  267   44  675  186]\n",
            " [ 238   87   89  115   60  113  115   65  192  730]]\n",
            "              precision    recall  f1-score   support\n",
            "\n",
            "           0       0.47      0.52      0.49      1814\n",
            "           1       0.50      0.57      0.53      1828\n",
            "           2       0.54      0.48      0.51      1803\n",
            "           3       0.37      0.35      0.36      1719\n",
            "           4       0.60      0.57      0.59      1812\n",
            "           5       0.38      0.33      0.36      1768\n",
            "           6       0.38      0.39      0.39      1832\n",
            "           7       0.63      0.59      0.61      1808\n",
            "           8       0.34      0.37      0.36      1812\n",
            "           9       0.39      0.40      0.40      1804\n",
            "\n",
            "    accuracy                           0.46     18000\n",
            "   macro avg       0.46      0.46      0.46     18000\n",
            "weighted avg       0.46      0.46      0.46     18000\n",
            "\n"
          ],
          "name": "stdout"
        }
      ]
    },
    {
      "cell_type": "markdown",
      "metadata": {
        "id": "qDUPctCb5fSO",
        "colab_type": "text"
      },
      "source": [
        "* The accuracy of the model is 46%.That is not good. The digit 4 and 6 are classified correctly and achieved approx 60% accuracy."
      ]
    },
    {
      "cell_type": "markdown",
      "metadata": {
        "id": "yfoKNqH-5fSP",
        "colab_type": "text"
      },
      "source": [
        "#### Predicting the digits using KNN Classifier"
      ]
    },
    {
      "cell_type": "code",
      "metadata": {
        "id": "0Bp-mMfr5fSP",
        "colab_type": "code",
        "colab": {
          "base_uri": "https://localhost:8080/",
          "height": 176
        },
        "outputId": "1275011f-6ab9-492a-81ec-ca6a819f4b9a"
      },
      "source": [
        "plt.figure(figsize=(2,2))\n",
        "plt.imshow(X_test[59].reshape(32,32))\n",
        "plt.show()\n",
        "image = X_test[15]\n",
        "print(knn.predict(image.reshape(1, -1)))"
      ],
      "execution_count": null,
      "outputs": [
        {
          "output_type": "display_data",
          "data": {
            "image/png": "[encoded data removed]",
            "text/plain": [
              "<Figure size 144x144 with 1 Axes>"
            ]
          },
          "metadata": {
            "tags": [],
            "needs_background": "light"
          }
        },
        {
          "output_type": "stream",
          "text": [
            "[9]\n"
          ],
          "name": "stdout"
        }
      ]
    },
    {
      "cell_type": "markdown",
      "metadata": {
        "colab_type": "text",
        "id": "CKt41c2zUZzO"
      },
      "source": [
        "# Implementing Deep Neural Network"
      ]
    },
    {
      "cell_type": "code",
      "metadata": {
        "colab_type": "code",
        "id": "wRZtrDmiUZzV",
        "colab": {}
      },
      "source": [
        "#Reshape data from 2D to 1D -> 32X32 to 1024\n",
        "X_train = np.asarray(X_train).reshape(42000,1024)\n",
        "X_test = np.asarray(X_test).reshape(18000,1024)\n",
        "X_val = np.asarray(X_val).reshape(60000,1024)"
      ],
      "execution_count": null,
      "outputs": []
    },
    {
      "cell_type": "markdown",
      "metadata": {
        "colab_type": "text",
        "id": "rC2jjqr6UZza"
      },
      "source": [
        "#### Converting output label to multiple values"
      ]
    },
    {
      "cell_type": "code",
      "metadata": {
        "colab_type": "code",
        "id": "YoLlsAyFUZzc",
        "colab": {
          "base_uri": "https://localhost:8080/",
          "height": 34
        },
        "outputId": "6318ec12-06c4-44d5-c63c-68be9c5708ca"
      },
      "source": [
        "y_train = tf.keras.utils.to_categorical(y_train, num_classes=10)\n",
        "y_test = tf.keras.utils.to_categorical(y_test, num_classes=10)\n",
        "y_val = tf.keras.utils.to_categorical(y_val, num_classes=10)\n",
        "print(X_train.shape, X_test.shape,X_val.shape, y_train.shape, y_test.shape,y_val.shape)"
      ],
      "execution_count": null,
      "outputs": [
        {
          "output_type": "stream",
          "text": [
            "(42000, 1024) (18000, 1024) (60000, 1024) (42000, 10) (18000, 10) (60000, 10)\n"
          ],
          "name": "stdout"
        }
      ]
    },
    {
      "cell_type": "markdown",
      "metadata": {
        "id": "G0HmnqRZ5fSm",
        "colab_type": "text"
      },
      "source": [
        "##4) Define the model architecture using TensorFlow with a flatten layer followed by dense layers with activation as ReLu and softmax"
      ]
    },
    {
      "cell_type": "code",
      "metadata": {
        "colab_type": "code",
        "id": "VhQqcR5nUZzt",
        "colab": {}
      },
      "source": [
        "##Initialize the Artificial Neural Network Classifier\n",
        "keras_model = Sequential()"
      ],
      "execution_count": null,
      "outputs": []
    },
    {
      "cell_type": "code",
      "metadata": {
        "id": "b665oXUe5fSp",
        "colab_type": "code",
        "colab": {}
      },
      "source": [
        "# Input Layer\n",
        "#Adding Input layer and activation functions ReLU\n",
        "keras_model.add(Dense(512, kernel_initializer='he_normal',input_shape = (1024, )))\n",
        "#Adding Activation function\n",
        "keras_model.add(Activation('relu'))\n",
        "\n",
        "#Hidden Layer 1\n",
        "#Adding first Hidden layer\n",
        "keras_model.add(Dense(256, kernel_initializer='he_normal'))\n",
        "#Adding Activation function\n",
        "keras_model.add(Activation('relu'))\n",
        "\n",
        "#Hidden Layer 2\n",
        "#Adding second Hidden layer\n",
        "keras_model.add(Dense(128, kernel_initializer='he_normal'))\n",
        "#Adding Activation function\n",
        "keras_model.add(Activation('relu'))\n",
        "\n",
        "#Hidden Layer 3\n",
        "#Adding third Hidden layer\n",
        "keras_model.add(Dense(64, kernel_initializer='he_normal'))\n",
        "#Adding Activation function\n",
        "keras_model.add(Activation('relu'))\n",
        "\n",
        "#Hidden Layer 4\n",
        "#Adding fourth Hidden layer\n",
        "keras_model.add(Dense(32, kernel_initializer='he_normal'))\n",
        "#Adding Activation function\n",
        "keras_model.add(Activation('relu'))\n",
        "\n",
        "# Output Layer\n",
        "#Adding output layer which is of 10 nodes (digits)\n",
        "keras_model.add(Dense(10))\n",
        "#Adding Activation function\n",
        "# Here, we are using softmax function because we have multiclass classsification\n",
        "keras_model.add(Activation('softmax'))"
      ],
      "execution_count": null,
      "outputs": []
    },
    {
      "cell_type": "code",
      "metadata": {
        "colab_type": "code",
        "id": "J9oI6gOHUZ0I",
        "colab": {
          "base_uri": "https://localhost:8080/",
          "height": 561
        },
        "outputId": "bde75884-a7bd-49ab-ea7b-213e0734a697"
      },
      "source": [
        "keras_model.summary()"
      ],
      "execution_count": null,
      "outputs": [
        {
          "output_type": "stream",
          "text": [
            "Model: \"sequential_1\"\n",
            "_________________________________________________________________\n",
            "Layer (type)                 Output Shape              Param #   \n",
            "=================================================================\n",
            "dense_6 (Dense)              (None, 512)               524800    \n",
            "_________________________________________________________________\n",
            "activation_6 (Activation)    (None, 512)               0         \n",
            "_________________________________________________________________\n",
            "dense_7 (Dense)              (None, 256)               131328    \n",
            "_________________________________________________________________\n",
            "activation_7 (Activation)    (None, 256)               0         \n",
            "_________________________________________________________________\n",
            "dense_8 (Dense)              (None, 128)               32896     \n",
            "_________________________________________________________________\n",
            "activation_8 (Activation)    (None, 128)               0         \n",
            "_________________________________________________________________\n",
            "dense_9 (Dense)              (None, 64)                8256      \n",
            "_________________________________________________________________\n",
            "activation_9 (Activation)    (None, 64)                0         \n",
            "_________________________________________________________________\n",
            "dense_10 (Dense)             (None, 32)                2080      \n",
            "_________________________________________________________________\n",
            "activation_10 (Activation)   (None, 32)                0         \n",
            "_________________________________________________________________\n",
            "dense_11 (Dense)             (None, 10)                330       \n",
            "_________________________________________________________________\n",
            "activation_11 (Activation)   (None, 10)                0         \n",
            "=================================================================\n",
            "Total params: 699,690\n",
            "Trainable params: 699,690\n",
            "Non-trainable params: 0\n",
            "_________________________________________________________________\n"
          ],
          "name": "stdout"
        }
      ]
    },
    {
      "cell_type": "markdown",
      "metadata": {
        "id": "ANa6VdDQ5fSw",
        "colab_type": "text"
      },
      "source": [
        "##5) Compile the model with loss as categorical cross-entropy and adam optimizers. Use accuracy as the metric for evaluation "
      ]
    },
    {
      "cell_type": "code",
      "metadata": {
        "id": "nOC9rvN85fSx",
        "colab_type": "code",
        "colab": {}
      },
      "source": [
        "# compiling the ANN classifier\n",
        "keras_model.compile(optimizer = 'sgd', loss = 'categorical_crossentropy', metrics = ['accuracy'])"
      ],
      "execution_count": null,
      "outputs": []
    },
    {
      "cell_type": "code",
      "metadata": {
        "id": "PH-Kv4rf5fSz",
        "colab_type": "code",
        "colab": {
          "base_uri": "https://localhost:8080/",
          "height": 357
        },
        "outputId": "6b58490c-4e60-4858-836d-2274d45c918c"
      },
      "source": [
        "# Fitting the ANN to the Training data\n",
        "history = keras_model.fit(X_train, y_train, validation_data=(X_val,y_val),batch_size = 200, epochs = 10, verbose = 1)"
      ],
      "execution_count": null,
      "outputs": [
        {
          "output_type": "stream",
          "text": [
            "Epoch 1/10\n",
            "210/210 [==============================] - 1s 6ms/step - loss: 2.2852 - accuracy: 0.1412 - val_loss: 2.2565 - val_accuracy: 0.2062\n",
            "Epoch 2/10\n",
            "210/210 [==============================] - 1s 6ms/step - loss: 2.2280 - accuracy: 0.2136 - val_loss: 2.1841 - val_accuracy: 0.2704\n",
            "Epoch 3/10\n",
            "210/210 [==============================] - 1s 6ms/step - loss: 2.1376 - accuracy: 0.2695 - val_loss: 2.0681 - val_accuracy: 0.3096\n",
            "Epoch 4/10\n",
            "210/210 [==============================] - 1s 6ms/step - loss: 2.0122 - accuracy: 0.3181 - val_loss: 1.8978 - val_accuracy: 0.3825\n",
            "Epoch 5/10\n",
            "210/210 [==============================] - 1s 6ms/step - loss: 1.8832 - accuracy: 0.3541 - val_loss: 1.7454 - val_accuracy: 0.4278\n",
            "Epoch 6/10\n",
            "210/210 [==============================] - 1s 6ms/step - loss: 1.7625 - accuracy: 0.4007 - val_loss: 1.6885 - val_accuracy: 0.4250\n",
            "Epoch 7/10\n",
            "210/210 [==============================] - 1s 6ms/step - loss: 1.6694 - accuracy: 0.4379 - val_loss: 1.5658 - val_accuracy: 0.4888\n",
            "Epoch 8/10\n",
            "210/210 [==============================] - 1s 6ms/step - loss: 1.5704 - accuracy: 0.4837 - val_loss: 1.4565 - val_accuracy: 0.5501\n",
            "Epoch 9/10\n",
            "210/210 [==============================] - 1s 6ms/step - loss: 1.5094 - accuracy: 0.5068 - val_loss: 1.4649 - val_accuracy: 0.5238\n",
            "Epoch 10/10\n",
            "210/210 [==============================] - 1s 6ms/step - loss: 1.4246 - accuracy: 0.5411 - val_loss: 1.3089 - val_accuracy: 0.5993\n"
          ],
          "name": "stdout"
        }
      ]
    },
    {
      "cell_type": "markdown",
      "metadata": {
        "id": "-KX34tzV5fS1",
        "colab_type": "text"
      },
      "source": [
        "#### Using adam optimizer  and Categorical Crossentropy as loss function and Accuracy as the metric to monitor"
      ]
    },
    {
      "cell_type": "code",
      "metadata": {
        "colab_type": "code",
        "id": "IoOqs012UZ0L",
        "colab": {}
      },
      "source": [
        "# compiling the ANN classifier\n",
        "keras_model.compile(optimizer = 'adam', loss = 'categorical_crossentropy', metrics = ['accuracy'])"
      ],
      "execution_count": null,
      "outputs": []
    },
    {
      "cell_type": "code",
      "metadata": {
        "colab_type": "code",
        "id": "s_GSON3iUZ0R",
        "colab": {
          "base_uri": "https://localhost:8080/",
          "height": 357
        },
        "outputId": "0402a732-e151-4e4c-be4f-aa76ae88cfa1"
      },
      "source": [
        "# Fitting the ANN to the Training data\n",
        "history = keras_model.fit(X_train, y_train, validation_data=(X_val,y_val),batch_size = 200, epochs = 10, verbose = 1)"
      ],
      "execution_count": null,
      "outputs": [
        {
          "output_type": "stream",
          "text": [
            "Epoch 1/10\n",
            "210/210 [==============================] - 1s 7ms/step - loss: 1.7378 - accuracy: 0.4176 - val_loss: 1.3141 - val_accuracy: 0.5864\n",
            "Epoch 2/10\n",
            "210/210 [==============================] - 1s 6ms/step - loss: 1.3023 - accuracy: 0.5806 - val_loss: 1.1946 - val_accuracy: 0.6201\n",
            "Epoch 3/10\n",
            "210/210 [==============================] - 1s 6ms/step - loss: 1.1305 - accuracy: 0.6442 - val_loss: 1.0193 - val_accuracy: 0.6846\n",
            "Epoch 4/10\n",
            "210/210 [==============================] - 1s 6ms/step - loss: 1.0332 - accuracy: 0.6753 - val_loss: 0.9442 - val_accuracy: 0.7133\n",
            "Epoch 5/10\n",
            "210/210 [==============================] - 1s 6ms/step - loss: 0.9572 - accuracy: 0.7016 - val_loss: 0.9618 - val_accuracy: 0.6961\n",
            "Epoch 6/10\n",
            "210/210 [==============================] - 1s 6ms/step - loss: 0.9095 - accuracy: 0.7167 - val_loss: 0.9409 - val_accuracy: 0.7009\n",
            "Epoch 7/10\n",
            "210/210 [==============================] - 1s 6ms/step - loss: 0.8635 - accuracy: 0.7318 - val_loss: 0.8334 - val_accuracy: 0.7413\n",
            "Epoch 8/10\n",
            "210/210 [==============================] - 1s 6ms/step - loss: 0.8202 - accuracy: 0.7420 - val_loss: 0.8499 - val_accuracy: 0.7305\n",
            "Epoch 9/10\n",
            "210/210 [==============================] - 1s 6ms/step - loss: 0.7936 - accuracy: 0.7520 - val_loss: 0.7908 - val_accuracy: 0.7510\n",
            "Epoch 10/10\n",
            "210/210 [==============================] - 1s 6ms/step - loss: 0.7592 - accuracy: 0.7625 - val_loss: 0.7713 - val_accuracy: 0.7577\n"
          ],
          "name": "stdout"
        }
      ]
    },
    {
      "cell_type": "markdown",
      "metadata": {
        "id": "L5BCdEHG5fS7",
        "colab_type": "text"
      },
      "source": [
        "* The accuracy of the model is good when we are using adam optimizer comparison than sgd optimizer."
      ]
    },
    {
      "cell_type": "markdown",
      "metadata": {
        "id": "oOFq8ts25fS7",
        "colab_type": "text"
      },
      "source": [
        "#### Now, try to change the learning rate in SGD optimizer\n",
        "As, we are taking learning rate small means model will learn slowly. So, we have to take more number of epochs."
      ]
    },
    {
      "cell_type": "code",
      "metadata": {
        "id": "Qu87Zdtt5fS8",
        "colab_type": "code",
        "colab": {
          "base_uri": "https://localhost:8080/",
          "height": 1000
        },
        "outputId": "baed711c-f306-474d-c1d7-6752a096b48b"
      },
      "source": [
        "#Setting the learning rate  and decay in sgd\n",
        "sgd = optimizers.SGD(lr=0.0001, decay=1e-6, momentum=0.9)\n",
        "# compiling the ANN classifier\n",
        "keras_model.compile(optimizer = sgd, loss = 'categorical_crossentropy', metrics = ['accuracy'])\n",
        "# Fitting the ANN to the Training data\n",
        "history = keras_model.fit(X_train, y_train, validation_data=(X_val,y_val),batch_size = 200, epochs = 100, verbose = 1)"
      ],
      "execution_count": null,
      "outputs": [
        {
          "output_type": "stream",
          "text": [
            "Epoch 1/100\n",
            "210/210 [==============================] - 1s 6ms/step - loss: 0.6445 - accuracy: 0.8011 - val_loss: 0.6500 - val_accuracy: 0.8033\n",
            "Epoch 2/100\n",
            "210/210 [==============================] - 1s 6ms/step - loss: 0.6206 - accuracy: 0.8100 - val_loss: 0.6424 - val_accuracy: 0.8054\n",
            "Epoch 3/100\n",
            "210/210 [==============================] - 1s 6ms/step - loss: 0.6139 - accuracy: 0.8123 - val_loss: 0.6376 - val_accuracy: 0.8069\n",
            "Epoch 4/100\n",
            "210/210 [==============================] - 1s 6ms/step - loss: 0.6095 - accuracy: 0.8132 - val_loss: 0.6339 - val_accuracy: 0.8082\n",
            "Epoch 5/100\n",
            "210/210 [==============================] - 1s 6ms/step - loss: 0.6063 - accuracy: 0.8147 - val_loss: 0.6309 - val_accuracy: 0.8090\n",
            "Epoch 6/100\n",
            "210/210 [==============================] - 1s 6ms/step - loss: 0.6037 - accuracy: 0.8154 - val_loss: 0.6289 - val_accuracy: 0.8095\n",
            "Epoch 7/100\n",
            "210/210 [==============================] - 1s 6ms/step - loss: 0.6015 - accuracy: 0.8156 - val_loss: 0.6276 - val_accuracy: 0.8098\n",
            "Epoch 8/100\n",
            "210/210 [==============================] - 1s 6ms/step - loss: 0.5997 - accuracy: 0.8161 - val_loss: 0.6259 - val_accuracy: 0.8104\n",
            "Epoch 9/100\n",
            "210/210 [==============================] - 1s 6ms/step - loss: 0.5981 - accuracy: 0.8170 - val_loss: 0.6251 - val_accuracy: 0.8098\n",
            "Epoch 10/100\n",
            "210/210 [==============================] - 1s 6ms/step - loss: 0.5965 - accuracy: 0.8173 - val_loss: 0.6238 - val_accuracy: 0.8108\n",
            "Epoch 11/100\n",
            "210/210 [==============================] - 1s 6ms/step - loss: 0.5956 - accuracy: 0.8172 - val_loss: 0.6223 - val_accuracy: 0.8114\n",
            "Epoch 12/100\n",
            "210/210 [==============================] - 1s 6ms/step - loss: 0.5943 - accuracy: 0.8177 - val_loss: 0.6214 - val_accuracy: 0.8116\n",
            "Epoch 13/100\n",
            "210/210 [==============================] - 1s 6ms/step - loss: 0.5930 - accuracy: 0.8183 - val_loss: 0.6205 - val_accuracy: 0.8115\n",
            "Epoch 14/100\n",
            "210/210 [==============================] - 1s 6ms/step - loss: 0.5919 - accuracy: 0.8179 - val_loss: 0.6195 - val_accuracy: 0.8121\n",
            "Epoch 15/100\n",
            "210/210 [==============================] - 1s 6ms/step - loss: 0.5909 - accuracy: 0.8190 - val_loss: 0.6188 - val_accuracy: 0.8127\n",
            "Epoch 16/100\n",
            "210/210 [==============================] - 1s 6ms/step - loss: 0.5899 - accuracy: 0.8191 - val_loss: 0.6178 - val_accuracy: 0.8127\n",
            "Epoch 17/100\n",
            "210/210 [==============================] - 1s 6ms/step - loss: 0.5893 - accuracy: 0.8190 - val_loss: 0.6174 - val_accuracy: 0.8133\n",
            "Epoch 18/100\n",
            "210/210 [==============================] - 1s 6ms/step - loss: 0.5883 - accuracy: 0.8195 - val_loss: 0.6163 - val_accuracy: 0.8135\n",
            "Epoch 19/100\n",
            "210/210 [==============================] - 1s 6ms/step - loss: 0.5875 - accuracy: 0.8202 - val_loss: 0.6161 - val_accuracy: 0.8133\n",
            "Epoch 20/100\n",
            "210/210 [==============================] - 1s 6ms/step - loss: 0.5866 - accuracy: 0.8200 - val_loss: 0.6153 - val_accuracy: 0.8134\n",
            "Epoch 21/100\n",
            "210/210 [==============================] - 1s 7ms/step - loss: 0.5859 - accuracy: 0.8207 - val_loss: 0.6144 - val_accuracy: 0.8144\n",
            "Epoch 22/100\n",
            "210/210 [==============================] - 1s 7ms/step - loss: 0.5852 - accuracy: 0.8210 - val_loss: 0.6138 - val_accuracy: 0.8141\n",
            "Epoch 23/100\n",
            "210/210 [==============================] - 1s 7ms/step - loss: 0.5844 - accuracy: 0.8210 - val_loss: 0.6134 - val_accuracy: 0.8145\n",
            "Epoch 24/100\n",
            "210/210 [==============================] - 1s 7ms/step - loss: 0.5837 - accuracy: 0.8208 - val_loss: 0.6125 - val_accuracy: 0.8145\n",
            "Epoch 25/100\n",
            "210/210 [==============================] - 1s 7ms/step - loss: 0.5828 - accuracy: 0.8212 - val_loss: 0.6129 - val_accuracy: 0.8144\n",
            "Epoch 26/100\n",
            "210/210 [==============================] - 1s 7ms/step - loss: 0.5824 - accuracy: 0.8218 - val_loss: 0.6116 - val_accuracy: 0.8148\n",
            "Epoch 27/100\n",
            "210/210 [==============================] - 1s 7ms/step - loss: 0.5816 - accuracy: 0.8214 - val_loss: 0.6110 - val_accuracy: 0.8155\n",
            "Epoch 28/100\n",
            "210/210 [==============================] - 1s 7ms/step - loss: 0.5809 - accuracy: 0.8219 - val_loss: 0.6104 - val_accuracy: 0.8155\n",
            "Epoch 29/100\n",
            "210/210 [==============================] - 1s 6ms/step - loss: 0.5802 - accuracy: 0.8221 - val_loss: 0.6099 - val_accuracy: 0.8158\n",
            "Epoch 30/100\n",
            "210/210 [==============================] - 1s 6ms/step - loss: 0.5797 - accuracy: 0.8229 - val_loss: 0.6094 - val_accuracy: 0.8156\n",
            "Epoch 31/100\n",
            "210/210 [==============================] - 1s 6ms/step - loss: 0.5790 - accuracy: 0.8229 - val_loss: 0.6091 - val_accuracy: 0.8162\n",
            "Epoch 32/100\n",
            "210/210 [==============================] - 1s 6ms/step - loss: 0.5782 - accuracy: 0.8233 - val_loss: 0.6084 - val_accuracy: 0.8157\n",
            "Epoch 33/100\n",
            "210/210 [==============================] - 1s 6ms/step - loss: 0.5778 - accuracy: 0.8233 - val_loss: 0.6081 - val_accuracy: 0.8164\n",
            "Epoch 34/100\n",
            "210/210 [==============================] - 1s 6ms/step - loss: 0.5773 - accuracy: 0.8234 - val_loss: 0.6076 - val_accuracy: 0.8161\n",
            "Epoch 35/100\n",
            "210/210 [==============================] - 1s 6ms/step - loss: 0.5766 - accuracy: 0.8237 - val_loss: 0.6074 - val_accuracy: 0.8162\n",
            "Epoch 36/100\n",
            "210/210 [==============================] - 1s 6ms/step - loss: 0.5761 - accuracy: 0.8241 - val_loss: 0.6063 - val_accuracy: 0.8166\n",
            "Epoch 37/100\n",
            "210/210 [==============================] - 1s 6ms/step - loss: 0.5754 - accuracy: 0.8241 - val_loss: 0.6061 - val_accuracy: 0.8172\n",
            "Epoch 38/100\n",
            "210/210 [==============================] - 1s 6ms/step - loss: 0.5751 - accuracy: 0.8244 - val_loss: 0.6054 - val_accuracy: 0.8172\n",
            "Epoch 39/100\n",
            "210/210 [==============================] - 1s 6ms/step - loss: 0.5743 - accuracy: 0.8244 - val_loss: 0.6052 - val_accuracy: 0.8173\n",
            "Epoch 40/100\n",
            "210/210 [==============================] - 1s 6ms/step - loss: 0.5738 - accuracy: 0.8243 - val_loss: 0.6045 - val_accuracy: 0.8176\n",
            "Epoch 41/100\n",
            "210/210 [==============================] - 1s 6ms/step - loss: 0.5734 - accuracy: 0.8246 - val_loss: 0.6044 - val_accuracy: 0.8173\n",
            "Epoch 42/100\n",
            "210/210 [==============================] - 1s 6ms/step - loss: 0.5727 - accuracy: 0.8252 - val_loss: 0.6041 - val_accuracy: 0.8172\n",
            "Epoch 43/100\n",
            "210/210 [==============================] - 1s 6ms/step - loss: 0.5722 - accuracy: 0.8247 - val_loss: 0.6035 - val_accuracy: 0.8180\n",
            "Epoch 44/100\n",
            "210/210 [==============================] - 1s 6ms/step - loss: 0.5716 - accuracy: 0.8260 - val_loss: 0.6033 - val_accuracy: 0.8176\n",
            "Epoch 45/100\n",
            "210/210 [==============================] - 1s 6ms/step - loss: 0.5710 - accuracy: 0.8255 - val_loss: 0.6027 - val_accuracy: 0.8186\n",
            "Epoch 46/100\n",
            "210/210 [==============================] - 1s 6ms/step - loss: 0.5708 - accuracy: 0.8256 - val_loss: 0.6021 - val_accuracy: 0.8182\n",
            "Epoch 47/100\n",
            "210/210 [==============================] - 1s 6ms/step - loss: 0.5701 - accuracy: 0.8258 - val_loss: 0.6016 - val_accuracy: 0.8187\n",
            "Epoch 48/100\n",
            "210/210 [==============================] - 1s 6ms/step - loss: 0.5697 - accuracy: 0.8264 - val_loss: 0.6011 - val_accuracy: 0.8186\n",
            "Epoch 49/100\n",
            "210/210 [==============================] - 1s 6ms/step - loss: 0.5689 - accuracy: 0.8262 - val_loss: 0.6016 - val_accuracy: 0.8186\n",
            "Epoch 50/100\n",
            "210/210 [==============================] - 1s 6ms/step - loss: 0.5687 - accuracy: 0.8261 - val_loss: 0.6002 - val_accuracy: 0.8190\n",
            "Epoch 51/100\n",
            "210/210 [==============================] - 1s 6ms/step - loss: 0.5680 - accuracy: 0.8269 - val_loss: 0.6003 - val_accuracy: 0.8189\n",
            "Epoch 52/100\n",
            "210/210 [==============================] - 1s 6ms/step - loss: 0.5676 - accuracy: 0.8270 - val_loss: 0.6000 - val_accuracy: 0.8194\n",
            "Epoch 53/100\n",
            "210/210 [==============================] - 1s 6ms/step - loss: 0.5671 - accuracy: 0.8272 - val_loss: 0.5993 - val_accuracy: 0.8192\n",
            "Epoch 54/100\n",
            "210/210 [==============================] - 1s 6ms/step - loss: 0.5668 - accuracy: 0.8265 - val_loss: 0.5991 - val_accuracy: 0.8197\n",
            "Epoch 55/100\n",
            "210/210 [==============================] - 1s 6ms/step - loss: 0.5661 - accuracy: 0.8274 - val_loss: 0.5983 - val_accuracy: 0.8198\n",
            "Epoch 56/100\n",
            "210/210 [==============================] - 1s 6ms/step - loss: 0.5656 - accuracy: 0.8276 - val_loss: 0.5983 - val_accuracy: 0.8199\n",
            "Epoch 57/100\n",
            "210/210 [==============================] - 1s 6ms/step - loss: 0.5653 - accuracy: 0.8278 - val_loss: 0.5977 - val_accuracy: 0.8205\n",
            "Epoch 58/100\n",
            "210/210 [==============================] - 1s 6ms/step - loss: 0.5648 - accuracy: 0.8285 - val_loss: 0.5978 - val_accuracy: 0.8198\n",
            "Epoch 59/100\n",
            "210/210 [==============================] - 1s 6ms/step - loss: 0.5644 - accuracy: 0.8285 - val_loss: 0.5972 - val_accuracy: 0.8200\n",
            "Epoch 60/100\n",
            "210/210 [==============================] - 1s 6ms/step - loss: 0.5640 - accuracy: 0.8282 - val_loss: 0.5964 - val_accuracy: 0.8203\n",
            "Epoch 61/100\n",
            "210/210 [==============================] - 1s 6ms/step - loss: 0.5634 - accuracy: 0.8286 - val_loss: 0.5966 - val_accuracy: 0.8206\n",
            "Epoch 62/100\n",
            "210/210 [==============================] - 1s 6ms/step - loss: 0.5630 - accuracy: 0.8287 - val_loss: 0.5959 - val_accuracy: 0.8203\n",
            "Epoch 63/100\n",
            "210/210 [==============================] - 1s 6ms/step - loss: 0.5626 - accuracy: 0.8285 - val_loss: 0.5953 - val_accuracy: 0.8209\n",
            "Epoch 64/100\n",
            "210/210 [==============================] - 1s 6ms/step - loss: 0.5621 - accuracy: 0.8288 - val_loss: 0.5953 - val_accuracy: 0.8209\n",
            "Epoch 65/100\n",
            "210/210 [==============================] - 1s 6ms/step - loss: 0.5617 - accuracy: 0.8285 - val_loss: 0.5945 - val_accuracy: 0.8213\n",
            "Epoch 66/100\n",
            "210/210 [==============================] - 1s 6ms/step - loss: 0.5612 - accuracy: 0.8289 - val_loss: 0.5944 - val_accuracy: 0.8213\n",
            "Epoch 67/100\n",
            "210/210 [==============================] - 1s 6ms/step - loss: 0.5609 - accuracy: 0.8295 - val_loss: 0.5940 - val_accuracy: 0.8214\n",
            "Epoch 68/100\n",
            "210/210 [==============================] - 1s 6ms/step - loss: 0.5603 - accuracy: 0.8293 - val_loss: 0.5942 - val_accuracy: 0.8212\n",
            "Epoch 69/100\n",
            "210/210 [==============================] - 1s 6ms/step - loss: 0.5599 - accuracy: 0.8297 - val_loss: 0.5933 - val_accuracy: 0.8214\n",
            "Epoch 70/100\n",
            "210/210 [==============================] - 1s 6ms/step - loss: 0.5594 - accuracy: 0.8294 - val_loss: 0.5928 - val_accuracy: 0.8217\n",
            "Epoch 71/100\n",
            "210/210 [==============================] - 1s 6ms/step - loss: 0.5590 - accuracy: 0.8300 - val_loss: 0.5926 - val_accuracy: 0.8214\n",
            "Epoch 72/100\n",
            "210/210 [==============================] - 1s 6ms/step - loss: 0.5586 - accuracy: 0.8300 - val_loss: 0.5922 - val_accuracy: 0.8215\n",
            "Epoch 73/100\n",
            "210/210 [==============================] - 1s 6ms/step - loss: 0.5582 - accuracy: 0.8300 - val_loss: 0.5916 - val_accuracy: 0.8221\n",
            "Epoch 74/100\n",
            "210/210 [==============================] - 1s 6ms/step - loss: 0.5577 - accuracy: 0.8305 - val_loss: 0.5916 - val_accuracy: 0.8220\n",
            "Epoch 75/100\n",
            "210/210 [==============================] - 1s 6ms/step - loss: 0.5574 - accuracy: 0.8302 - val_loss: 0.5912 - val_accuracy: 0.8220\n",
            "Epoch 76/100\n",
            "210/210 [==============================] - 1s 6ms/step - loss: 0.5571 - accuracy: 0.8309 - val_loss: 0.5906 - val_accuracy: 0.8225\n",
            "Epoch 77/100\n",
            "210/210 [==============================] - 1s 6ms/step - loss: 0.5565 - accuracy: 0.8306 - val_loss: 0.5902 - val_accuracy: 0.8224\n",
            "Epoch 78/100\n",
            "210/210 [==============================] - 1s 6ms/step - loss: 0.5560 - accuracy: 0.8309 - val_loss: 0.5903 - val_accuracy: 0.8227\n",
            "Epoch 79/100\n",
            "210/210 [==============================] - 1s 6ms/step - loss: 0.5558 - accuracy: 0.8311 - val_loss: 0.5900 - val_accuracy: 0.8226\n",
            "Epoch 80/100\n",
            "210/210 [==============================] - 1s 6ms/step - loss: 0.5554 - accuracy: 0.8314 - val_loss: 0.5896 - val_accuracy: 0.8225\n",
            "Epoch 81/100\n",
            "210/210 [==============================] - 1s 6ms/step - loss: 0.5548 - accuracy: 0.8314 - val_loss: 0.5890 - val_accuracy: 0.8234\n",
            "Epoch 82/100\n",
            "210/210 [==============================] - 1s 6ms/step - loss: 0.5543 - accuracy: 0.8317 - val_loss: 0.5888 - val_accuracy: 0.8236\n",
            "Epoch 83/100\n",
            "210/210 [==============================] - 1s 6ms/step - loss: 0.5539 - accuracy: 0.8318 - val_loss: 0.5885 - val_accuracy: 0.8232\n",
            "Epoch 84/100\n",
            "210/210 [==============================] - 1s 6ms/step - loss: 0.5537 - accuracy: 0.8315 - val_loss: 0.5880 - val_accuracy: 0.8232\n",
            "Epoch 85/100\n",
            "210/210 [==============================] - 1s 6ms/step - loss: 0.5532 - accuracy: 0.8321 - val_loss: 0.5881 - val_accuracy: 0.8231\n",
            "Epoch 86/100\n",
            "210/210 [==============================] - 1s 6ms/step - loss: 0.5528 - accuracy: 0.8323 - val_loss: 0.5876 - val_accuracy: 0.8232\n",
            "Epoch 87/100\n",
            "210/210 [==============================] - 1s 6ms/step - loss: 0.5522 - accuracy: 0.8324 - val_loss: 0.5870 - val_accuracy: 0.8238\n",
            "Epoch 88/100\n",
            "210/210 [==============================] - 1s 6ms/step - loss: 0.5520 - accuracy: 0.8323 - val_loss: 0.5867 - val_accuracy: 0.8235\n",
            "Epoch 89/100\n",
            "210/210 [==============================] - 1s 6ms/step - loss: 0.5515 - accuracy: 0.8325 - val_loss: 0.5866 - val_accuracy: 0.8239\n",
            "Epoch 90/100\n",
            "210/210 [==============================] - 1s 6ms/step - loss: 0.5512 - accuracy: 0.8323 - val_loss: 0.5860 - val_accuracy: 0.8242\n",
            "Epoch 91/100\n",
            "210/210 [==============================] - 1s 6ms/step - loss: 0.5508 - accuracy: 0.8331 - val_loss: 0.5860 - val_accuracy: 0.8249\n",
            "Epoch 92/100\n",
            "210/210 [==============================] - 1s 6ms/step - loss: 0.5503 - accuracy: 0.8330 - val_loss: 0.5851 - val_accuracy: 0.8245\n",
            "Epoch 93/100\n",
            "210/210 [==============================] - 1s 6ms/step - loss: 0.5498 - accuracy: 0.8332 - val_loss: 0.5852 - val_accuracy: 0.8242\n",
            "Epoch 94/100\n",
            "210/210 [==============================] - 1s 6ms/step - loss: 0.5497 - accuracy: 0.8333 - val_loss: 0.5846 - val_accuracy: 0.8246\n",
            "Epoch 95/100\n",
            "210/210 [==============================] - 1s 6ms/step - loss: 0.5494 - accuracy: 0.8330 - val_loss: 0.5843 - val_accuracy: 0.8245\n",
            "Epoch 96/100\n",
            "210/210 [==============================] - 1s 6ms/step - loss: 0.5489 - accuracy: 0.8334 - val_loss: 0.5839 - val_accuracy: 0.8250\n",
            "Epoch 97/100\n",
            "210/210 [==============================] - 1s 6ms/step - loss: 0.5485 - accuracy: 0.8338 - val_loss: 0.5836 - val_accuracy: 0.8249\n",
            "Epoch 98/100\n",
            "210/210 [==============================] - 1s 6ms/step - loss: 0.5479 - accuracy: 0.8334 - val_loss: 0.5836 - val_accuracy: 0.8250\n",
            "Epoch 99/100\n",
            "210/210 [==============================] - 1s 6ms/step - loss: 0.5475 - accuracy: 0.8340 - val_loss: 0.5835 - val_accuracy: 0.8252\n",
            "Epoch 100/100\n",
            "210/210 [==============================] - 1s 6ms/step - loss: 0.5473 - accuracy: 0.8338 - val_loss: 0.5827 - val_accuracy: 0.8249\n"
          ],
          "name": "stdout"
        }
      ]
    },
    {
      "cell_type": "markdown",
      "metadata": {
        "id": "RHKm0ffH5fS-",
        "colab_type": "text"
      },
      "source": [
        "* The accuracy of the model on val data using sgd with learning rate=0.0001 is improving a bit but not much."
      ]
    },
    {
      "cell_type": "markdown",
      "metadata": {
        "id": "7tCiEUfp5fS_",
        "colab_type": "text"
      },
      "source": [
        "#### Now, let's try to change the learning rate in ADAM optimizer\n",
        "As, we are taking learning rate small means model will learn slowly. So, we have to take more number of epochs."
      ]
    },
    {
      "cell_type": "code",
      "metadata": {
        "id": "A_PXNauw5fS_",
        "colab_type": "code",
        "colab": {
          "base_uri": "https://localhost:8080/",
          "height": 1000
        },
        "outputId": "b3765da3-c744-478b-c384-61003e15eb60"
      },
      "source": [
        "#Setting the learning rate  and decay in adam\n",
        "adam = optimizers.Adam(lr=0.0001, decay=1e-6)\n",
        "# compiling the ANN classifier\n",
        "keras_model.compile(optimizer = adam, loss = 'categorical_crossentropy', metrics = ['accuracy'])\n",
        "# Fitting the ANN to the Training data\n",
        "history = keras_model.fit(X_train, y_train, validation_data=(X_val,y_val),batch_size = 200, epochs = 100, verbose = 1)"
      ],
      "execution_count": null,
      "outputs": [
        {
          "output_type": "stream",
          "text": [
            "Epoch 1/100\n",
            "210/210 [==============================] - 1s 7ms/step - loss: 0.5673 - accuracy: 0.8267 - val_loss: 0.5933 - val_accuracy: 0.8205\n",
            "Epoch 2/100\n",
            "210/210 [==============================] - 1s 6ms/step - loss: 0.5582 - accuracy: 0.8295 - val_loss: 0.5882 - val_accuracy: 0.8225\n",
            "Epoch 3/100\n",
            "210/210 [==============================] - 1s 6ms/step - loss: 0.5519 - accuracy: 0.8314 - val_loss: 0.5836 - val_accuracy: 0.8231\n",
            "Epoch 4/100\n",
            "210/210 [==============================] - 1s 6ms/step - loss: 0.5479 - accuracy: 0.8327 - val_loss: 0.5816 - val_accuracy: 0.8234\n",
            "Epoch 5/100\n",
            "210/210 [==============================] - 1s 6ms/step - loss: 0.5419 - accuracy: 0.8340 - val_loss: 0.5766 - val_accuracy: 0.8249\n",
            "Epoch 6/100\n",
            "210/210 [==============================] - 1s 6ms/step - loss: 0.5350 - accuracy: 0.8374 - val_loss: 0.5640 - val_accuracy: 0.8299\n",
            "Epoch 7/100\n",
            "210/210 [==============================] - 1s 6ms/step - loss: 0.5317 - accuracy: 0.8375 - val_loss: 0.5598 - val_accuracy: 0.8317\n",
            "Epoch 8/100\n",
            "210/210 [==============================] - 1s 6ms/step - loss: 0.5234 - accuracy: 0.8399 - val_loss: 0.5567 - val_accuracy: 0.8327\n",
            "Epoch 9/100\n",
            "210/210 [==============================] - 1s 6ms/step - loss: 0.5179 - accuracy: 0.8416 - val_loss: 0.5506 - val_accuracy: 0.8343\n",
            "Epoch 10/100\n",
            "210/210 [==============================] - 1s 6ms/step - loss: 0.5121 - accuracy: 0.8433 - val_loss: 0.5497 - val_accuracy: 0.8352\n",
            "Epoch 11/100\n",
            "210/210 [==============================] - 1s 6ms/step - loss: 0.5100 - accuracy: 0.8447 - val_loss: 0.5605 - val_accuracy: 0.8312\n",
            "Epoch 12/100\n",
            "210/210 [==============================] - 1s 6ms/step - loss: 0.5030 - accuracy: 0.8462 - val_loss: 0.5412 - val_accuracy: 0.8369\n",
            "Epoch 13/100\n",
            "210/210 [==============================] - 1s 6ms/step - loss: 0.4958 - accuracy: 0.8495 - val_loss: 0.5353 - val_accuracy: 0.8396\n",
            "Epoch 14/100\n",
            "210/210 [==============================] - 1s 6ms/step - loss: 0.4935 - accuracy: 0.8488 - val_loss: 0.5256 - val_accuracy: 0.8434\n",
            "Epoch 15/100\n",
            "210/210 [==============================] - 1s 6ms/step - loss: 0.4846 - accuracy: 0.8528 - val_loss: 0.5339 - val_accuracy: 0.8390\n",
            "Epoch 16/100\n",
            "210/210 [==============================] - 1s 6ms/step - loss: 0.4808 - accuracy: 0.8530 - val_loss: 0.5210 - val_accuracy: 0.8438\n",
            "Epoch 17/100\n",
            "210/210 [==============================] - 1s 6ms/step - loss: 0.4772 - accuracy: 0.8529 - val_loss: 0.5282 - val_accuracy: 0.8416\n",
            "Epoch 18/100\n",
            "210/210 [==============================] - 1s 6ms/step - loss: 0.4709 - accuracy: 0.8566 - val_loss: 0.5315 - val_accuracy: 0.8405\n",
            "Epoch 19/100\n",
            "210/210 [==============================] - 1s 6ms/step - loss: 0.4667 - accuracy: 0.8574 - val_loss: 0.5109 - val_accuracy: 0.8477\n",
            "Epoch 20/100\n",
            "210/210 [==============================] - 1s 6ms/step - loss: 0.4629 - accuracy: 0.8581 - val_loss: 0.5151 - val_accuracy: 0.8460\n",
            "Epoch 21/100\n",
            "210/210 [==============================] - 1s 6ms/step - loss: 0.4578 - accuracy: 0.8592 - val_loss: 0.5063 - val_accuracy: 0.8478\n",
            "Epoch 22/100\n",
            "210/210 [==============================] - 1s 6ms/step - loss: 0.4539 - accuracy: 0.8618 - val_loss: 0.5035 - val_accuracy: 0.8487\n",
            "Epoch 23/100\n",
            "210/210 [==============================] - 1s 6ms/step - loss: 0.4455 - accuracy: 0.8629 - val_loss: 0.4924 - val_accuracy: 0.8537\n",
            "Epoch 24/100\n",
            "210/210 [==============================] - 1s 6ms/step - loss: 0.4399 - accuracy: 0.8661 - val_loss: 0.4887 - val_accuracy: 0.8541\n",
            "Epoch 25/100\n",
            "210/210 [==============================] - 1s 6ms/step - loss: 0.4388 - accuracy: 0.8650 - val_loss: 0.4839 - val_accuracy: 0.8565\n",
            "Epoch 26/100\n",
            "210/210 [==============================] - 1s 6ms/step - loss: 0.4326 - accuracy: 0.8686 - val_loss: 0.4924 - val_accuracy: 0.8533\n",
            "Epoch 27/100\n",
            "210/210 [==============================] - 1s 6ms/step - loss: 0.4308 - accuracy: 0.8672 - val_loss: 0.4816 - val_accuracy: 0.8567\n",
            "Epoch 28/100\n",
            "210/210 [==============================] - 1s 6ms/step - loss: 0.4280 - accuracy: 0.8679 - val_loss: 0.4807 - val_accuracy: 0.8568\n",
            "Epoch 29/100\n",
            "210/210 [==============================] - 1s 6ms/step - loss: 0.4176 - accuracy: 0.8732 - val_loss: 0.4765 - val_accuracy: 0.8573\n",
            "Epoch 30/100\n",
            "210/210 [==============================] - 1s 6ms/step - loss: 0.4174 - accuracy: 0.8716 - val_loss: 0.4755 - val_accuracy: 0.8587\n",
            "Epoch 31/100\n",
            "210/210 [==============================] - 1s 6ms/step - loss: 0.4102 - accuracy: 0.8755 - val_loss: 0.4670 - val_accuracy: 0.8625\n",
            "Epoch 32/100\n",
            "210/210 [==============================] - 1s 6ms/step - loss: 0.4092 - accuracy: 0.8746 - val_loss: 0.4705 - val_accuracy: 0.8600\n",
            "Epoch 33/100\n",
            "210/210 [==============================] - 1s 6ms/step - loss: 0.4035 - accuracy: 0.8764 - val_loss: 0.4599 - val_accuracy: 0.8633\n",
            "Epoch 34/100\n",
            "210/210 [==============================] - 1s 6ms/step - loss: 0.3997 - accuracy: 0.8775 - val_loss: 0.4620 - val_accuracy: 0.8626\n",
            "Epoch 35/100\n",
            "210/210 [==============================] - 1s 6ms/step - loss: 0.3959 - accuracy: 0.8784 - val_loss: 0.4671 - val_accuracy: 0.8611\n",
            "Epoch 36/100\n",
            "210/210 [==============================] - 1s 6ms/step - loss: 0.3908 - accuracy: 0.8809 - val_loss: 0.4575 - val_accuracy: 0.8653\n",
            "Epoch 37/100\n",
            "210/210 [==============================] - 1s 6ms/step - loss: 0.3904 - accuracy: 0.8804 - val_loss: 0.4496 - val_accuracy: 0.8678\n",
            "Epoch 38/100\n",
            "210/210 [==============================] - 1s 6ms/step - loss: 0.3848 - accuracy: 0.8832 - val_loss: 0.4497 - val_accuracy: 0.8655\n",
            "Epoch 39/100\n",
            "210/210 [==============================] - 1s 6ms/step - loss: 0.3798 - accuracy: 0.8843 - val_loss: 0.4447 - val_accuracy: 0.8694\n",
            "Epoch 40/100\n",
            "210/210 [==============================] - 1s 6ms/step - loss: 0.3756 - accuracy: 0.8849 - val_loss: 0.4529 - val_accuracy: 0.8658\n",
            "Epoch 41/100\n",
            "210/210 [==============================] - 1s 6ms/step - loss: 0.3726 - accuracy: 0.8859 - val_loss: 0.4375 - val_accuracy: 0.8730\n",
            "Epoch 42/100\n",
            "210/210 [==============================] - 1s 6ms/step - loss: 0.3685 - accuracy: 0.8880 - val_loss: 0.4427 - val_accuracy: 0.8694\n",
            "Epoch 43/100\n",
            "210/210 [==============================] - 1s 6ms/step - loss: 0.3622 - accuracy: 0.8894 - val_loss: 0.4445 - val_accuracy: 0.8692\n",
            "Epoch 44/100\n",
            "210/210 [==============================] - 1s 6ms/step - loss: 0.3607 - accuracy: 0.8891 - val_loss: 0.4378 - val_accuracy: 0.8718\n",
            "Epoch 45/100\n",
            "210/210 [==============================] - 1s 6ms/step - loss: 0.3565 - accuracy: 0.8915 - val_loss: 0.4306 - val_accuracy: 0.8737\n",
            "Epoch 46/100\n",
            "210/210 [==============================] - 1s 6ms/step - loss: 0.3546 - accuracy: 0.8921 - val_loss: 0.4471 - val_accuracy: 0.8690\n",
            "Epoch 47/100\n",
            "210/210 [==============================] - 1s 6ms/step - loss: 0.3473 - accuracy: 0.8949 - val_loss: 0.4358 - val_accuracy: 0.8730\n",
            "Epoch 48/100\n",
            "210/210 [==============================] - 1s 6ms/step - loss: 0.3443 - accuracy: 0.8963 - val_loss: 0.4301 - val_accuracy: 0.8743\n",
            "Epoch 49/100\n",
            "210/210 [==============================] - 1s 6ms/step - loss: 0.3417 - accuracy: 0.8960 - val_loss: 0.4285 - val_accuracy: 0.8747\n",
            "Epoch 50/100\n",
            "210/210 [==============================] - 1s 6ms/step - loss: 0.3410 - accuracy: 0.8955 - val_loss: 0.4175 - val_accuracy: 0.8788\n",
            "Epoch 51/100\n",
            "210/210 [==============================] - 1s 6ms/step - loss: 0.3358 - accuracy: 0.8969 - val_loss: 0.4155 - val_accuracy: 0.8798\n",
            "Epoch 52/100\n",
            "210/210 [==============================] - 1s 6ms/step - loss: 0.3309 - accuracy: 0.8998 - val_loss: 0.4221 - val_accuracy: 0.8784\n",
            "Epoch 53/100\n",
            "210/210 [==============================] - 1s 6ms/step - loss: 0.3292 - accuracy: 0.8994 - val_loss: 0.4219 - val_accuracy: 0.8779\n",
            "Epoch 54/100\n",
            "210/210 [==============================] - 1s 6ms/step - loss: 0.3256 - accuracy: 0.9011 - val_loss: 0.4152 - val_accuracy: 0.8794\n",
            "Epoch 55/100\n",
            "210/210 [==============================] - 1s 6ms/step - loss: 0.3210 - accuracy: 0.9024 - val_loss: 0.4041 - val_accuracy: 0.8841\n",
            "Epoch 56/100\n",
            "210/210 [==============================] - 1s 6ms/step - loss: 0.3166 - accuracy: 0.9051 - val_loss: 0.4055 - val_accuracy: 0.8837\n",
            "Epoch 57/100\n",
            "210/210 [==============================] - 1s 6ms/step - loss: 0.3113 - accuracy: 0.9050 - val_loss: 0.4131 - val_accuracy: 0.8805\n",
            "Epoch 58/100\n",
            "210/210 [==============================] - 1s 6ms/step - loss: 0.3128 - accuracy: 0.9051 - val_loss: 0.4099 - val_accuracy: 0.8826\n",
            "Epoch 59/100\n",
            "210/210 [==============================] - 1s 6ms/step - loss: 0.3090 - accuracy: 0.9056 - val_loss: 0.4108 - val_accuracy: 0.8814\n",
            "Epoch 60/100\n",
            "210/210 [==============================] - 1s 6ms/step - loss: 0.3065 - accuracy: 0.9071 - val_loss: 0.3993 - val_accuracy: 0.8870\n",
            "Epoch 61/100\n",
            "210/210 [==============================] - 1s 6ms/step - loss: 0.2998 - accuracy: 0.9095 - val_loss: 0.3976 - val_accuracy: 0.8859\n",
            "Epoch 62/100\n",
            "210/210 [==============================] - 1s 6ms/step - loss: 0.2990 - accuracy: 0.9092 - val_loss: 0.3966 - val_accuracy: 0.8867\n",
            "Epoch 63/100\n",
            "210/210 [==============================] - 1s 6ms/step - loss: 0.2953 - accuracy: 0.9112 - val_loss: 0.3944 - val_accuracy: 0.8881\n",
            "Epoch 64/100\n",
            "210/210 [==============================] - 1s 6ms/step - loss: 0.2917 - accuracy: 0.9118 - val_loss: 0.3963 - val_accuracy: 0.8880\n",
            "Epoch 65/100\n",
            "210/210 [==============================] - 1s 6ms/step - loss: 0.2895 - accuracy: 0.9133 - val_loss: 0.3837 - val_accuracy: 0.8913\n",
            "Epoch 66/100\n",
            "210/210 [==============================] - 1s 6ms/step - loss: 0.2858 - accuracy: 0.9142 - val_loss: 0.3856 - val_accuracy: 0.8918\n",
            "Epoch 67/100\n",
            "210/210 [==============================] - 1s 6ms/step - loss: 0.2844 - accuracy: 0.9138 - val_loss: 0.3878 - val_accuracy: 0.8916\n",
            "Epoch 68/100\n",
            "210/210 [==============================] - 1s 6ms/step - loss: 0.2810 - accuracy: 0.9151 - val_loss: 0.3805 - val_accuracy: 0.8942\n",
            "Epoch 69/100\n",
            "210/210 [==============================] - 1s 6ms/step - loss: 0.2757 - accuracy: 0.9172 - val_loss: 0.3924 - val_accuracy: 0.8903\n",
            "Epoch 70/100\n",
            "210/210 [==============================] - 1s 6ms/step - loss: 0.2749 - accuracy: 0.9178 - val_loss: 0.3876 - val_accuracy: 0.8910\n",
            "Epoch 71/100\n",
            "210/210 [==============================] - 1s 6ms/step - loss: 0.2680 - accuracy: 0.9197 - val_loss: 0.3808 - val_accuracy: 0.8938\n",
            "Epoch 72/100\n",
            "210/210 [==============================] - 1s 6ms/step - loss: 0.2679 - accuracy: 0.9192 - val_loss: 0.3737 - val_accuracy: 0.8973\n",
            "Epoch 73/100\n",
            "210/210 [==============================] - 1s 6ms/step - loss: 0.2652 - accuracy: 0.9209 - val_loss: 0.3762 - val_accuracy: 0.8955\n",
            "Epoch 74/100\n",
            "210/210 [==============================] - 1s 6ms/step - loss: 0.2617 - accuracy: 0.9211 - val_loss: 0.3770 - val_accuracy: 0.8949\n",
            "Epoch 75/100\n",
            "210/210 [==============================] - 1s 6ms/step - loss: 0.2589 - accuracy: 0.9221 - val_loss: 0.3816 - val_accuracy: 0.8928\n",
            "Epoch 76/100\n",
            "210/210 [==============================] - 1s 6ms/step - loss: 0.2561 - accuracy: 0.9240 - val_loss: 0.3742 - val_accuracy: 0.8959\n",
            "Epoch 77/100\n",
            "210/210 [==============================] - 1s 6ms/step - loss: 0.2532 - accuracy: 0.9237 - val_loss: 0.3781 - val_accuracy: 0.8945\n",
            "Epoch 78/100\n",
            "210/210 [==============================] - 1s 6ms/step - loss: 0.2512 - accuracy: 0.9250 - val_loss: 0.3799 - val_accuracy: 0.8956\n",
            "Epoch 79/100\n",
            "210/210 [==============================] - 1s 6ms/step - loss: 0.2479 - accuracy: 0.9263 - val_loss: 0.3694 - val_accuracy: 0.8986\n",
            "Epoch 80/100\n",
            "210/210 [==============================] - 1s 6ms/step - loss: 0.2460 - accuracy: 0.9271 - val_loss: 0.3647 - val_accuracy: 0.9016\n",
            "Epoch 81/100\n",
            "210/210 [==============================] - 1s 6ms/step - loss: 0.2422 - accuracy: 0.9283 - val_loss: 0.3741 - val_accuracy: 0.8981\n",
            "Epoch 82/100\n",
            "210/210 [==============================] - 1s 6ms/step - loss: 0.2410 - accuracy: 0.9279 - val_loss: 0.3663 - val_accuracy: 0.9007\n",
            "Epoch 83/100\n",
            "210/210 [==============================] - 1s 6ms/step - loss: 0.2363 - accuracy: 0.9302 - val_loss: 0.3763 - val_accuracy: 0.8969\n",
            "Epoch 84/100\n",
            "210/210 [==============================] - 1s 6ms/step - loss: 0.2338 - accuracy: 0.9293 - val_loss: 0.3593 - val_accuracy: 0.9033\n",
            "Epoch 85/100\n",
            "210/210 [==============================] - 1s 6ms/step - loss: 0.2311 - accuracy: 0.9315 - val_loss: 0.3710 - val_accuracy: 0.8987\n",
            "Epoch 86/100\n",
            "210/210 [==============================] - 1s 6ms/step - loss: 0.2282 - accuracy: 0.9323 - val_loss: 0.3598 - val_accuracy: 0.9038\n",
            "Epoch 87/100\n",
            "210/210 [==============================] - 1s 6ms/step - loss: 0.2264 - accuracy: 0.9329 - val_loss: 0.3714 - val_accuracy: 0.8998\n",
            "Epoch 88/100\n",
            "210/210 [==============================] - 1s 6ms/step - loss: 0.2257 - accuracy: 0.9328 - val_loss: 0.3563 - val_accuracy: 0.9055\n",
            "Epoch 89/100\n",
            "210/210 [==============================] - 1s 6ms/step - loss: 0.2200 - accuracy: 0.9346 - val_loss: 0.3594 - val_accuracy: 0.9046\n",
            "Epoch 90/100\n",
            "210/210 [==============================] - 1s 6ms/step - loss: 0.2190 - accuracy: 0.9352 - val_loss: 0.3673 - val_accuracy: 0.9020\n",
            "Epoch 91/100\n",
            "210/210 [==============================] - 1s 6ms/step - loss: 0.2160 - accuracy: 0.9362 - val_loss: 0.3601 - val_accuracy: 0.9046\n",
            "Epoch 92/100\n",
            "210/210 [==============================] - 1s 6ms/step - loss: 0.2119 - accuracy: 0.9373 - val_loss: 0.3566 - val_accuracy: 0.9063\n",
            "Epoch 93/100\n",
            "210/210 [==============================] - 1s 6ms/step - loss: 0.2103 - accuracy: 0.9371 - val_loss: 0.3662 - val_accuracy: 0.9019\n",
            "Epoch 94/100\n",
            "210/210 [==============================] - 1s 6ms/step - loss: 0.2053 - accuracy: 0.9403 - val_loss: 0.3561 - val_accuracy: 0.9066\n",
            "Epoch 95/100\n",
            "210/210 [==============================] - 1s 6ms/step - loss: 0.2032 - accuracy: 0.9411 - val_loss: 0.3489 - val_accuracy: 0.9102\n",
            "Epoch 96/100\n",
            "210/210 [==============================] - 1s 6ms/step - loss: 0.2045 - accuracy: 0.9390 - val_loss: 0.3529 - val_accuracy: 0.9086\n",
            "Epoch 97/100\n",
            "210/210 [==============================] - 1s 6ms/step - loss: 0.1996 - accuracy: 0.9414 - val_loss: 0.3569 - val_accuracy: 0.9073\n",
            "Epoch 98/100\n",
            "210/210 [==============================] - 1s 6ms/step - loss: 0.1975 - accuracy: 0.9425 - val_loss: 0.3478 - val_accuracy: 0.9109\n",
            "Epoch 99/100\n",
            "210/210 [==============================] - 1s 6ms/step - loss: 0.1993 - accuracy: 0.9407 - val_loss: 0.3456 - val_accuracy: 0.9111\n",
            "Epoch 100/100\n",
            "210/210 [==============================] - 1s 6ms/step - loss: 0.1935 - accuracy: 0.9435 - val_loss: 0.3527 - val_accuracy: 0.9087\n"
          ],
          "name": "stdout"
        }
      ]
    },
    {
      "cell_type": "markdown",
      "metadata": {
        "id": "bQSL0ets5fTB",
        "colab_type": "text"
      },
      "source": [
        "* The accuracy of the model on val data using ADAM with learning rate=0.0001 has shown significant improvement."
      ]
    },
    {
      "cell_type": "code",
      "metadata": {
        "colab_type": "code",
        "id": "BviBAo04UZ0W",
        "colab": {
          "base_uri": "https://localhost:8080/",
          "height": 51
        },
        "outputId": "7d780ab7-af14-4284-c655-71c9254a6a6b"
      },
      "source": [
        "results = keras_model.evaluate(X_val, y_val)\n",
        "print('Val_acc using simple NN adam : ', results[1])"
      ],
      "execution_count": null,
      "outputs": [
        {
          "output_type": "stream",
          "text": [
            "1875/1875 [==============================] - 4s 2ms/step - loss: 0.3527 - accuracy: 0.9087\n",
            "Val_acc using simple NN adam :  0.9087166786193848\n"
          ],
          "name": "stdout"
        }
      ]
    },
    {
      "cell_type": "code",
      "metadata": {
        "id": "SxNcp8J-5fTE",
        "colab_type": "code",
        "colab": {
          "base_uri": "https://localhost:8080/",
          "height": 80
        },
        "outputId": "f95115ee-ebe9-434a-cbb3-ee908a36570c"
      },
      "source": [
        "#Store the accuracy results for each model in a dataframe for final comparison\n",
        "results_on_val = pd.DataFrame({'Method':['NN'], 'accuracy': results[1]},index={'1'})\n",
        "results_on_val = results_on_val[['Method', 'accuracy']]\n",
        "results_on_val"
      ],
      "execution_count": null,
      "outputs": [
        {
          "output_type": "execute_result",
          "data": {
            "text/html": [
              "<div>\n",
              "<style scoped>\n",
              "    .dataframe tbody tr th:only-of-type {\n",
              "        vertical-align: middle;\n",
              "    }\n",
              "\n",
              "    .dataframe tbody tr th {\n",
              "        vertical-align: top;\n",
              "    }\n",
              "\n",
              "    .dataframe thead th {\n",
              "        text-align: right;\n",
              "    }\n",
              "</style>\n",
              "<table border=\"1\" class=\"dataframe\">\n",
              "  <thead>\n",
              "    <tr style=\"text-align: right;\">\n",
              "      <th></th>\n",
              "      <th>Method</th>\n",
              "      <th>accuracy</th>\n",
              "    </tr>\n",
              "  </thead>\n",
              "  <tbody>\n",
              "    <tr>\n",
              "      <th>1</th>\n",
              "      <td>NN</td>\n",
              "      <td>0.908717</td>\n",
              "    </tr>\n",
              "  </tbody>\n",
              "</table>\n",
              "</div>"
            ],
            "text/plain": [
              "  Method  accuracy\n",
              "1     NN  0.908717"
            ]
          },
          "metadata": {
            "tags": []
          },
          "execution_count": 60
        }
      ]
    },
    {
      "cell_type": "markdown",
      "metadata": {
        "id": "guxTqjxg5fTG",
        "colab_type": "text"
      },
      "source": [
        "## Implementing batch normalization for training the neural network "
      ]
    },
    {
      "cell_type": "code",
      "metadata": {
        "id": "z7yemNqS5fTH",
        "colab_type": "code",
        "colab": {}
      },
      "source": [
        "##Initialize the Artificial Neural Network Classifier\n",
        "keras_model_1 = Sequential()"
      ],
      "execution_count": null,
      "outputs": []
    },
    {
      "cell_type": "markdown",
      "metadata": {
        "id": "8E2adD525fTJ",
        "colab_type": "text"
      },
      "source": [
        "#### Adding Batch normalization layer "
      ]
    },
    {
      "cell_type": "code",
      "metadata": {
        "id": "8o1SXSVO5fTJ",
        "colab_type": "code",
        "colab": {}
      },
      "source": [
        "# Input Layer\n",
        "#Adding Input layer and activation functions ReLU\n",
        "keras_model_1.add(Dense(512, kernel_initializer='he_normal',input_shape = (1024, )))\n",
        "#Adding BatchNormalization Layer\n",
        "keras_model_1.add(BatchNormalization())\n",
        "#Adding Activation function\n",
        "keras_model_1.add(Activation('relu'))\n",
        "\n",
        "#Hidden Layer 1\n",
        "#Adding first Hidden layer\n",
        "keras_model_1.add(Dense(256, kernel_initializer='he_normal'))\n",
        "#Adding BatchNormalization Layer\n",
        "keras_model_1.add(BatchNormalization())\n",
        "#Adding Activation function\n",
        "keras_model_1.add(Activation('relu'))\n",
        "\n",
        "#Hidden Layer 2\n",
        "#Adding second Hidden layer\n",
        "keras_model_1.add(Dense(128, kernel_initializer='he_normal'))\n",
        "#Adding BatchNormalization Layer\n",
        "keras_model_1.add(BatchNormalization())\n",
        "#Adding Activation function\n",
        "keras_model_1.add(Activation('relu'))\n",
        "\n",
        "#Hidden Layer 3\n",
        "#Adding third Hidden layer\n",
        "keras_model_1.add(Dense(64, kernel_initializer='he_normal'))\n",
        "#Adding BatchNormalization Layer\n",
        "keras_model_1.add(BatchNormalization())\n",
        "#Adding Activation function\n",
        "keras_model_1.add(Activation('relu'))\n",
        "\n",
        "#Hidden Layer 4\n",
        "#Adding fourth Hidden layer\n",
        "keras_model_1.add(Dense(32, kernel_initializer='he_normal'))\n",
        "#Adding BatchNormalization Layer\n",
        "keras_model_1.add(BatchNormalization())\n",
        "#Adding Activation function\n",
        "keras_model_1.add(Activation('relu'))\n",
        "\n",
        "# Output Layer\n",
        "#Adding output layer which is of 10 nodes (digidts)\n",
        "keras_model_1.add(Dense(10))\n",
        "#Adding Activation function\n",
        "# Here, we are using softmax function because we have multiclass classsification\n",
        "keras_model_1.add(Activation('softmax'))"
      ],
      "execution_count": null,
      "outputs": []
    },
    {
      "cell_type": "code",
      "metadata": {
        "id": "b5JCfRE55fTL",
        "colab_type": "code",
        "colab": {
          "base_uri": "https://localhost:8080/",
          "height": 731
        },
        "outputId": "23629650-54df-43a0-f89a-6bafb39a6662"
      },
      "source": [
        "keras_model_1.summary()"
      ],
      "execution_count": null,
      "outputs": [
        {
          "output_type": "stream",
          "text": [
            "Model: \"sequential_2\"\n",
            "_________________________________________________________________\n",
            "Layer (type)                 Output Shape              Param #   \n",
            "=================================================================\n",
            "dense_12 (Dense)             (None, 512)               524800    \n",
            "_________________________________________________________________\n",
            "batch_normalization (BatchNo (None, 512)               2048      \n",
            "_________________________________________________________________\n",
            "activation_12 (Activation)   (None, 512)               0         \n",
            "_________________________________________________________________\n",
            "dense_13 (Dense)             (None, 256)               131328    \n",
            "_________________________________________________________________\n",
            "batch_normalization_1 (Batch (None, 256)               1024      \n",
            "_________________________________________________________________\n",
            "activation_13 (Activation)   (None, 256)               0         \n",
            "_________________________________________________________________\n",
            "dense_14 (Dense)             (None, 128)               32896     \n",
            "_________________________________________________________________\n",
            "batch_normalization_2 (Batch (None, 128)               512       \n",
            "_________________________________________________________________\n",
            "activation_14 (Activation)   (None, 128)               0         \n",
            "_________________________________________________________________\n",
            "dense_15 (Dense)             (None, 64)                8256      \n",
            "_________________________________________________________________\n",
            "batch_normalization_3 (Batch (None, 64)                256       \n",
            "_________________________________________________________________\n",
            "activation_15 (Activation)   (None, 64)                0         \n",
            "_________________________________________________________________\n",
            "dense_16 (Dense)             (None, 32)                2080      \n",
            "_________________________________________________________________\n",
            "batch_normalization_4 (Batch (None, 32)                128       \n",
            "_________________________________________________________________\n",
            "activation_16 (Activation)   (None, 32)                0         \n",
            "_________________________________________________________________\n",
            "dense_17 (Dense)             (None, 10)                330       \n",
            "_________________________________________________________________\n",
            "activation_17 (Activation)   (None, 10)                0         \n",
            "=================================================================\n",
            "Total params: 703,658\n",
            "Trainable params: 701,674\n",
            "Non-trainable params: 1,984\n",
            "_________________________________________________________________\n"
          ],
          "name": "stdout"
        }
      ]
    },
    {
      "cell_type": "markdown",
      "metadata": {
        "id": "CqtQyZQL5fTN",
        "colab_type": "text"
      },
      "source": [
        "#### Using ADAM optimizer.\n",
        "* learning rate= 0.0001\n"
      ]
    },
    {
      "cell_type": "code",
      "metadata": {
        "id": "h22dAMku5fTO",
        "colab_type": "code",
        "colab": {}
      },
      "source": [
        "#Setting the learning rate  and decay in sgd\n",
        "adam = optimizers.Adam(lr = 0.0001)\n",
        "# compiling the ANN classifier\n",
        "keras_model_1.compile(optimizer = adam, loss = 'categorical_crossentropy', metrics = ['accuracy'])"
      ],
      "execution_count": null,
      "outputs": []
    },
    {
      "cell_type": "code",
      "metadata": {
        "id": "WakmAGVw5fTQ",
        "colab_type": "code",
        "colab": {
          "base_uri": "https://localhost:8080/",
          "height": 1000
        },
        "outputId": "4c277fc5-e226-4f88-ce72-af500b3bda4d"
      },
      "source": [
        "# Fitting the ANN to the Training data\n",
        "history_1 = keras_model_1.fit(X_train, y_train, validation_data=(X_val,y_val),batch_size = 200, epochs = 100, verbose = 1)"
      ],
      "execution_count": null,
      "outputs": [
        {
          "output_type": "stream",
          "text": [
            "Epoch 1/100\n",
            "210/210 [==============================] - 2s 8ms/step - loss: 2.1157 - accuracy: 0.2678 - val_loss: 2.0740 - val_accuracy: 0.2977\n",
            "Epoch 2/100\n",
            "210/210 [==============================] - 2s 7ms/step - loss: 1.6002 - accuracy: 0.5031 - val_loss: 1.6358 - val_accuracy: 0.4952\n",
            "Epoch 3/100\n",
            "210/210 [==============================] - 2s 7ms/step - loss: 1.3198 - accuracy: 0.6236 - val_loss: 1.3814 - val_accuracy: 0.5885\n",
            "Epoch 4/100\n",
            "210/210 [==============================] - 1s 7ms/step - loss: 1.1229 - accuracy: 0.6890 - val_loss: 1.2530 - val_accuracy: 0.6279\n",
            "Epoch 5/100\n",
            "210/210 [==============================] - 2s 7ms/step - loss: 0.9822 - accuracy: 0.7270 - val_loss: 1.0798 - val_accuracy: 0.6881\n",
            "Epoch 6/100\n",
            "210/210 [==============================] - 2s 8ms/step - loss: 0.8708 - accuracy: 0.7573 - val_loss: 1.0402 - val_accuracy: 0.6895\n",
            "Epoch 7/100\n",
            "210/210 [==============================] - 2s 8ms/step - loss: 0.7891 - accuracy: 0.7769 - val_loss: 0.9450 - val_accuracy: 0.7206\n",
            "Epoch 8/100\n",
            "210/210 [==============================] - 2s 8ms/step - loss: 0.7142 - accuracy: 0.7963 - val_loss: 0.9048 - val_accuracy: 0.7250\n",
            "Epoch 9/100\n",
            "210/210 [==============================] - 1s 7ms/step - loss: 0.6566 - accuracy: 0.8119 - val_loss: 0.9434 - val_accuracy: 0.7064\n",
            "Epoch 10/100\n",
            "210/210 [==============================] - 1s 7ms/step - loss: 0.6135 - accuracy: 0.8221 - val_loss: 0.9736 - val_accuracy: 0.6915\n",
            "Epoch 11/100\n",
            "210/210 [==============================] - 1s 7ms/step - loss: 0.5633 - accuracy: 0.8371 - val_loss: 0.7399 - val_accuracy: 0.7783\n",
            "Epoch 12/100\n",
            "210/210 [==============================] - 1s 7ms/step - loss: 0.5245 - accuracy: 0.8484 - val_loss: 0.7748 - val_accuracy: 0.7597\n",
            "Epoch 13/100\n",
            "210/210 [==============================] - 2s 7ms/step - loss: 0.4922 - accuracy: 0.8593 - val_loss: 0.8288 - val_accuracy: 0.7447\n",
            "Epoch 14/100\n",
            "210/210 [==============================] - 2s 7ms/step - loss: 0.4648 - accuracy: 0.8652 - val_loss: 0.7409 - val_accuracy: 0.7734\n",
            "Epoch 15/100\n",
            "210/210 [==============================] - 1s 7ms/step - loss: 0.4374 - accuracy: 0.8715 - val_loss: 0.8263 - val_accuracy: 0.7449\n",
            "Epoch 16/100\n",
            "210/210 [==============================] - 1s 7ms/step - loss: 0.4094 - accuracy: 0.8815 - val_loss: 0.8088 - val_accuracy: 0.7477\n",
            "Epoch 17/100\n",
            "210/210 [==============================] - 2s 8ms/step - loss: 0.3918 - accuracy: 0.8849 - val_loss: 0.7673 - val_accuracy: 0.7609\n",
            "Epoch 18/100\n",
            "210/210 [==============================] - 2s 7ms/step - loss: 0.3699 - accuracy: 0.8931 - val_loss: 0.6826 - val_accuracy: 0.7859\n",
            "Epoch 19/100\n",
            "210/210 [==============================] - 2s 7ms/step - loss: 0.3463 - accuracy: 0.9000 - val_loss: 0.7078 - val_accuracy: 0.7794\n",
            "Epoch 20/100\n",
            "210/210 [==============================] - 2s 8ms/step - loss: 0.3299 - accuracy: 0.9046 - val_loss: 0.7653 - val_accuracy: 0.7643\n",
            "Epoch 21/100\n",
            "210/210 [==============================] - 1s 7ms/step - loss: 0.3134 - accuracy: 0.9090 - val_loss: 0.7725 - val_accuracy: 0.7623\n",
            "Epoch 22/100\n",
            "210/210 [==============================] - 2s 8ms/step - loss: 0.2962 - accuracy: 0.9152 - val_loss: 0.6253 - val_accuracy: 0.8055\n",
            "Epoch 23/100\n",
            "210/210 [==============================] - 1s 7ms/step - loss: 0.2819 - accuracy: 0.9192 - val_loss: 0.6374 - val_accuracy: 0.8016\n",
            "Epoch 24/100\n",
            "210/210 [==============================] - 2s 7ms/step - loss: 0.2707 - accuracy: 0.9221 - val_loss: 0.7748 - val_accuracy: 0.7695\n",
            "Epoch 25/100\n",
            "210/210 [==============================] - 2s 7ms/step - loss: 0.2572 - accuracy: 0.9267 - val_loss: 0.6706 - val_accuracy: 0.7946\n",
            "Epoch 26/100\n",
            "210/210 [==============================] - 2s 7ms/step - loss: 0.2463 - accuracy: 0.9278 - val_loss: 0.5831 - val_accuracy: 0.8190\n",
            "Epoch 27/100\n",
            "210/210 [==============================] - 2s 7ms/step - loss: 0.2348 - accuracy: 0.9310 - val_loss: 0.8807 - val_accuracy: 0.7536\n",
            "Epoch 28/100\n",
            "210/210 [==============================] - 2s 7ms/step - loss: 0.2196 - accuracy: 0.9366 - val_loss: 0.7271 - val_accuracy: 0.7926\n",
            "Epoch 29/100\n",
            "210/210 [==============================] - 2s 7ms/step - loss: 0.2175 - accuracy: 0.9366 - val_loss: 0.7241 - val_accuracy: 0.7870\n",
            "Epoch 30/100\n",
            "210/210 [==============================] - 2s 7ms/step - loss: 0.2007 - accuracy: 0.9439 - val_loss: 0.8209 - val_accuracy: 0.7642\n",
            "Epoch 31/100\n",
            "210/210 [==============================] - 2s 7ms/step - loss: 0.1897 - accuracy: 0.9464 - val_loss: 0.6199 - val_accuracy: 0.8160\n",
            "Epoch 32/100\n",
            "210/210 [==============================] - 2s 8ms/step - loss: 0.1909 - accuracy: 0.9453 - val_loss: 0.5813 - val_accuracy: 0.8301\n",
            "Epoch 33/100\n",
            "210/210 [==============================] - 2s 7ms/step - loss: 0.1752 - accuracy: 0.9505 - val_loss: 0.6549 - val_accuracy: 0.8087\n",
            "Epoch 34/100\n",
            "210/210 [==============================] - 2s 7ms/step - loss: 0.1713 - accuracy: 0.9510 - val_loss: 0.5761 - val_accuracy: 0.8279\n",
            "Epoch 35/100\n",
            "210/210 [==============================] - 2s 7ms/step - loss: 0.1651 - accuracy: 0.9529 - val_loss: 0.5711 - val_accuracy: 0.8316\n",
            "Epoch 36/100\n",
            "210/210 [==============================] - 2s 7ms/step - loss: 0.1632 - accuracy: 0.9528 - val_loss: 0.7505 - val_accuracy: 0.7848\n",
            "Epoch 37/100\n",
            "210/210 [==============================] - 2s 8ms/step - loss: 0.1581 - accuracy: 0.9538 - val_loss: 0.6111 - val_accuracy: 0.8170\n",
            "Epoch 38/100\n",
            "210/210 [==============================] - 2s 7ms/step - loss: 0.1523 - accuracy: 0.9558 - val_loss: 0.7514 - val_accuracy: 0.7838\n",
            "Epoch 39/100\n",
            "210/210 [==============================] - 2s 7ms/step - loss: 0.1418 - accuracy: 0.9593 - val_loss: 0.7097 - val_accuracy: 0.8045\n",
            "Epoch 40/100\n",
            "210/210 [==============================] - 2s 8ms/step - loss: 0.1386 - accuracy: 0.9606 - val_loss: 1.1654 - val_accuracy: 0.7153\n",
            "Epoch 41/100\n",
            "210/210 [==============================] - 2s 8ms/step - loss: 0.1334 - accuracy: 0.9621 - val_loss: 0.6343 - val_accuracy: 0.8153\n",
            "Epoch 42/100\n",
            "210/210 [==============================] - 2s 7ms/step - loss: 0.1225 - accuracy: 0.9649 - val_loss: 0.6368 - val_accuracy: 0.8167\n",
            "Epoch 43/100\n",
            "210/210 [==============================] - 2s 7ms/step - loss: 0.1235 - accuracy: 0.9655 - val_loss: 0.5126 - val_accuracy: 0.8527\n",
            "Epoch 44/100\n",
            "210/210 [==============================] - 2s 7ms/step - loss: 0.1156 - accuracy: 0.9673 - val_loss: 0.6785 - val_accuracy: 0.8119\n",
            "Epoch 45/100\n",
            "210/210 [==============================] - 1s 7ms/step - loss: 0.1153 - accuracy: 0.9677 - val_loss: 0.7357 - val_accuracy: 0.8020\n",
            "Epoch 46/100\n",
            "210/210 [==============================] - 1s 7ms/step - loss: 0.1157 - accuracy: 0.9656 - val_loss: 0.6141 - val_accuracy: 0.8317\n",
            "Epoch 47/100\n",
            "210/210 [==============================] - 1s 7ms/step - loss: 0.1117 - accuracy: 0.9681 - val_loss: 0.6939 - val_accuracy: 0.8152\n",
            "Epoch 48/100\n",
            "210/210 [==============================] - 1s 7ms/step - loss: 0.1092 - accuracy: 0.9685 - val_loss: 0.7443 - val_accuracy: 0.8153\n",
            "Epoch 49/100\n",
            "210/210 [==============================] - 2s 7ms/step - loss: 0.1046 - accuracy: 0.9698 - val_loss: 0.8792 - val_accuracy: 0.7709\n",
            "Epoch 50/100\n",
            "210/210 [==============================] - 2s 7ms/step - loss: 0.0998 - accuracy: 0.9718 - val_loss: 0.5698 - val_accuracy: 0.8367\n",
            "Epoch 51/100\n",
            "210/210 [==============================] - 2s 7ms/step - loss: 0.1001 - accuracy: 0.9700 - val_loss: 0.7673 - val_accuracy: 0.7962\n",
            "Epoch 52/100\n",
            "210/210 [==============================] - 2s 7ms/step - loss: 0.0942 - accuracy: 0.9723 - val_loss: 0.6236 - val_accuracy: 0.8311\n",
            "Epoch 53/100\n",
            "210/210 [==============================] - 1s 7ms/step - loss: 0.0973 - accuracy: 0.9712 - val_loss: 0.8689 - val_accuracy: 0.7929\n",
            "Epoch 54/100\n",
            "210/210 [==============================] - 2s 7ms/step - loss: 0.0912 - accuracy: 0.9742 - val_loss: 0.7275 - val_accuracy: 0.8078\n",
            "Epoch 55/100\n",
            "210/210 [==============================] - 2s 7ms/step - loss: 0.0879 - accuracy: 0.9740 - val_loss: 0.7868 - val_accuracy: 0.8046\n",
            "Epoch 56/100\n",
            "210/210 [==============================] - 1s 7ms/step - loss: 0.0851 - accuracy: 0.9759 - val_loss: 0.8449 - val_accuracy: 0.7883\n",
            "Epoch 57/100\n",
            "210/210 [==============================] - 2s 7ms/step - loss: 0.0847 - accuracy: 0.9758 - val_loss: 0.5611 - val_accuracy: 0.8449\n",
            "Epoch 58/100\n",
            "210/210 [==============================] - 2s 7ms/step - loss: 0.0794 - accuracy: 0.9775 - val_loss: 0.7458 - val_accuracy: 0.8016\n",
            "Epoch 59/100\n",
            "210/210 [==============================] - 2s 7ms/step - loss: 0.0804 - accuracy: 0.9767 - val_loss: 0.7351 - val_accuracy: 0.8127\n",
            "Epoch 60/100\n",
            "210/210 [==============================] - 1s 7ms/step - loss: 0.0808 - accuracy: 0.9767 - val_loss: 0.6925 - val_accuracy: 0.8181\n",
            "Epoch 61/100\n",
            "210/210 [==============================] - 2s 8ms/step - loss: 0.0784 - accuracy: 0.9770 - val_loss: 0.7442 - val_accuracy: 0.8135\n",
            "Epoch 62/100\n",
            "210/210 [==============================] - 1s 7ms/step - loss: 0.0760 - accuracy: 0.9778 - val_loss: 0.6858 - val_accuracy: 0.8268\n",
            "Epoch 63/100\n",
            "210/210 [==============================] - 2s 7ms/step - loss: 0.0688 - accuracy: 0.9791 - val_loss: 0.7951 - val_accuracy: 0.7987\n",
            "Epoch 64/100\n",
            "210/210 [==============================] - 1s 7ms/step - loss: 0.0793 - accuracy: 0.9767 - val_loss: 0.6994 - val_accuracy: 0.8213\n",
            "Epoch 65/100\n",
            "210/210 [==============================] - 1s 7ms/step - loss: 0.0726 - accuracy: 0.9787 - val_loss: 0.7017 - val_accuracy: 0.8232\n",
            "Epoch 66/100\n",
            "210/210 [==============================] - 2s 7ms/step - loss: 0.0677 - accuracy: 0.9812 - val_loss: 0.7279 - val_accuracy: 0.8264\n",
            "Epoch 67/100\n",
            "210/210 [==============================] - 2s 7ms/step - loss: 0.0706 - accuracy: 0.9794 - val_loss: 0.9358 - val_accuracy: 0.7799\n",
            "Epoch 68/100\n",
            "210/210 [==============================] - 2s 8ms/step - loss: 0.0740 - accuracy: 0.9775 - val_loss: 0.7277 - val_accuracy: 0.8208\n",
            "Epoch 69/100\n",
            "210/210 [==============================] - 2s 7ms/step - loss: 0.0674 - accuracy: 0.9806 - val_loss: 0.6489 - val_accuracy: 0.8380\n",
            "Epoch 70/100\n",
            "210/210 [==============================] - 1s 7ms/step - loss: 0.0598 - accuracy: 0.9831 - val_loss: 0.6373 - val_accuracy: 0.8422\n",
            "Epoch 71/100\n",
            "210/210 [==============================] - 2s 7ms/step - loss: 0.0626 - accuracy: 0.9825 - val_loss: 0.6620 - val_accuracy: 0.8321\n",
            "Epoch 72/100\n",
            "210/210 [==============================] - 2s 8ms/step - loss: 0.0692 - accuracy: 0.9792 - val_loss: 0.7431 - val_accuracy: 0.8198\n",
            "Epoch 73/100\n",
            "210/210 [==============================] - 2s 8ms/step - loss: 0.0645 - accuracy: 0.9805 - val_loss: 0.5897 - val_accuracy: 0.8482\n",
            "Epoch 74/100\n",
            "210/210 [==============================] - 2s 8ms/step - loss: 0.0625 - accuracy: 0.9819 - val_loss: 0.5806 - val_accuracy: 0.8560\n",
            "Epoch 75/100\n",
            "210/210 [==============================] - 2s 8ms/step - loss: 0.0554 - accuracy: 0.9835 - val_loss: 0.7170 - val_accuracy: 0.8221\n",
            "Epoch 76/100\n",
            "210/210 [==============================] - 2s 8ms/step - loss: 0.0577 - accuracy: 0.9832 - val_loss: 0.8643 - val_accuracy: 0.8054\n",
            "Epoch 77/100\n",
            "210/210 [==============================] - 2s 8ms/step - loss: 0.0515 - accuracy: 0.9852 - val_loss: 0.5612 - val_accuracy: 0.8608\n",
            "Epoch 78/100\n",
            "210/210 [==============================] - 2s 8ms/step - loss: 0.0564 - accuracy: 0.9833 - val_loss: 0.6728 - val_accuracy: 0.8374\n",
            "Epoch 79/100\n",
            "210/210 [==============================] - 2s 7ms/step - loss: 0.0539 - accuracy: 0.9840 - val_loss: 0.8264 - val_accuracy: 0.8166\n",
            "Epoch 80/100\n",
            "210/210 [==============================] - 2s 8ms/step - loss: 0.0635 - accuracy: 0.9805 - val_loss: 0.8588 - val_accuracy: 0.7983\n",
            "Epoch 81/100\n",
            "210/210 [==============================] - 2s 7ms/step - loss: 0.0554 - accuracy: 0.9832 - val_loss: 0.6303 - val_accuracy: 0.8533\n",
            "Epoch 82/100\n",
            "210/210 [==============================] - 2s 7ms/step - loss: 0.0562 - accuracy: 0.9833 - val_loss: 0.6197 - val_accuracy: 0.8493\n",
            "Epoch 83/100\n",
            "210/210 [==============================] - 2s 7ms/step - loss: 0.0546 - accuracy: 0.9839 - val_loss: 0.7711 - val_accuracy: 0.8158\n",
            "Epoch 84/100\n",
            "210/210 [==============================] - 2s 8ms/step - loss: 0.0545 - accuracy: 0.9835 - val_loss: 0.8249 - val_accuracy: 0.8244\n",
            "Epoch 85/100\n",
            "210/210 [==============================] - 2s 7ms/step - loss: 0.0484 - accuracy: 0.9853 - val_loss: 0.6811 - val_accuracy: 0.8393\n",
            "Epoch 86/100\n",
            "210/210 [==============================] - 2s 8ms/step - loss: 0.0486 - accuracy: 0.9861 - val_loss: 0.7381 - val_accuracy: 0.8237\n",
            "Epoch 87/100\n",
            "210/210 [==============================] - 2s 8ms/step - loss: 0.0548 - accuracy: 0.9832 - val_loss: 0.6015 - val_accuracy: 0.8565\n",
            "Epoch 88/100\n",
            "210/210 [==============================] - 2s 7ms/step - loss: 0.0482 - accuracy: 0.9861 - val_loss: 0.6778 - val_accuracy: 0.8441\n",
            "Epoch 89/100\n",
            "210/210 [==============================] - 2s 7ms/step - loss: 0.0438 - accuracy: 0.9870 - val_loss: 0.9503 - val_accuracy: 0.7969\n",
            "Epoch 90/100\n",
            "210/210 [==============================] - 2s 7ms/step - loss: 0.0525 - accuracy: 0.9838 - val_loss: 0.9772 - val_accuracy: 0.7947\n",
            "Epoch 91/100\n",
            "210/210 [==============================] - 2s 7ms/step - loss: 0.0511 - accuracy: 0.9850 - val_loss: 0.8686 - val_accuracy: 0.7997\n",
            "Epoch 92/100\n",
            "210/210 [==============================] - 2s 7ms/step - loss: 0.0506 - accuracy: 0.9854 - val_loss: 0.6779 - val_accuracy: 0.8414\n",
            "Epoch 93/100\n",
            "210/210 [==============================] - 2s 7ms/step - loss: 0.0490 - accuracy: 0.9848 - val_loss: 0.8080 - val_accuracy: 0.8119\n",
            "Epoch 94/100\n",
            "210/210 [==============================] - 2s 7ms/step - loss: 0.0443 - accuracy: 0.9867 - val_loss: 0.5163 - val_accuracy: 0.8759\n",
            "Epoch 95/100\n",
            "210/210 [==============================] - 2s 7ms/step - loss: 0.0502 - accuracy: 0.9848 - val_loss: 0.6440 - val_accuracy: 0.8439\n",
            "Epoch 96/100\n",
            "210/210 [==============================] - 1s 7ms/step - loss: 0.0472 - accuracy: 0.9859 - val_loss: 0.6291 - val_accuracy: 0.8529\n",
            "Epoch 97/100\n",
            "210/210 [==============================] - 2s 7ms/step - loss: 0.0424 - accuracy: 0.9875 - val_loss: 0.9817 - val_accuracy: 0.7970\n",
            "Epoch 98/100\n",
            "210/210 [==============================] - 1s 7ms/step - loss: 0.0453 - accuracy: 0.9863 - val_loss: 0.7573 - val_accuracy: 0.8257\n",
            "Epoch 99/100\n",
            "210/210 [==============================] - 2s 7ms/step - loss: 0.0400 - accuracy: 0.9882 - val_loss: 0.6231 - val_accuracy: 0.8555\n",
            "Epoch 100/100\n",
            "210/210 [==============================] - 1s 7ms/step - loss: 0.0461 - accuracy: 0.9863 - val_loss: 0.7385 - val_accuracy: 0.8314\n"
          ],
          "name": "stdout"
        }
      ]
    },
    {
      "cell_type": "code",
      "metadata": {
        "id": "KZrrhoCE5fTS",
        "colab_type": "code",
        "colab": {
          "base_uri": "https://localhost:8080/",
          "height": 51
        },
        "outputId": "95967bb9-d264-4684-ac81-55d1356255fa"
      },
      "source": [
        "results_1 = keras_model_1.evaluate(X_val, y_val)\n",
        "print('Val_acc using Batch ANN adam : ', results_1[1])"
      ],
      "execution_count": null,
      "outputs": [
        {
          "output_type": "stream",
          "text": [
            "1875/1875 [==============================] - 5s 2ms/step - loss: 0.7385 - accuracy: 0.8314\n",
            "Val_acc using Batch ANN adam :  0.8314333558082581\n"
          ],
          "name": "stdout"
        }
      ]
    },
    {
      "cell_type": "code",
      "metadata": {
        "id": "7PmfxLr85fTV",
        "colab_type": "code",
        "colab": {
          "base_uri": "https://localhost:8080/",
          "height": 111
        },
        "outputId": "cd122c66-9543-4782-993c-1edc6b4da830"
      },
      "source": [
        "#Store the accuracy results for each model in a dataframe for final comparison\n",
        "tempResultsDf = pd.DataFrame({'Method':['NN_Batch_adam'], 'accuracy': [results_1[1]]},index={'2'})\n",
        "results_on_val= pd.concat([results_on_val, tempResultsDf])\n",
        "results_on_val = results_on_val[['Method', 'accuracy']]\n",
        "results_on_val"
      ],
      "execution_count": null,
      "outputs": [
        {
          "output_type": "execute_result",
          "data": {
            "text/html": [
              "<div>\n",
              "<style scoped>\n",
              "    .dataframe tbody tr th:only-of-type {\n",
              "        vertical-align: middle;\n",
              "    }\n",
              "\n",
              "    .dataframe tbody tr th {\n",
              "        vertical-align: top;\n",
              "    }\n",
              "\n",
              "    .dataframe thead th {\n",
              "        text-align: right;\n",
              "    }\n",
              "</style>\n",
              "<table border=\"1\" class=\"dataframe\">\n",
              "  <thead>\n",
              "    <tr style=\"text-align: right;\">\n",
              "      <th></th>\n",
              "      <th>Method</th>\n",
              "      <th>accuracy</th>\n",
              "    </tr>\n",
              "  </thead>\n",
              "  <tbody>\n",
              "    <tr>\n",
              "      <th>1</th>\n",
              "      <td>NN</td>\n",
              "      <td>0.908717</td>\n",
              "    </tr>\n",
              "    <tr>\n",
              "      <th>2</th>\n",
              "      <td>NN_Batch_adam</td>\n",
              "      <td>0.831433</td>\n",
              "    </tr>\n",
              "  </tbody>\n",
              "</table>\n",
              "</div>"
            ],
            "text/plain": [
              "          Method  accuracy\n",
              "1             NN  0.908717\n",
              "2  NN_Batch_adam  0.831433"
            ]
          },
          "metadata": {
            "tags": []
          },
          "execution_count": 68
        }
      ]
    },
    {
      "cell_type": "markdown",
      "metadata": {
        "id": "nowcZB3Z5fTX",
        "colab_type": "text"
      },
      "source": [
        "## Implementing (vectorized) backpropagation (cost stochastic gradient descent, cross entropy loss, cost functions)"
      ]
    },
    {
      "cell_type": "code",
      "metadata": {
        "id": "5ngP1dYJ5fTY",
        "colab_type": "code",
        "colab": {}
      },
      "source": [
        "#Initialize the Artificial Neural Network Classifier\n",
        "keras_model_2 = Sequential()"
      ],
      "execution_count": null,
      "outputs": []
    },
    {
      "cell_type": "markdown",
      "metadata": {
        "id": "E1QA4J2o5fTa",
        "colab_type": "text"
      },
      "source": [
        "#### Adding Batch normalization layer  "
      ]
    },
    {
      "cell_type": "code",
      "metadata": {
        "id": "E_g4LVCl5fTa",
        "colab_type": "code",
        "colab": {}
      },
      "source": [
        "# Input Layer\n",
        "#Adding Input layer and activation functions ReLU\n",
        "keras_model_2.add(Dense(512, kernel_initializer='he_normal',input_shape = (1024, )))\n",
        "#Adding BatchNormalization Layer\n",
        "keras_model_2.add(BatchNormalization())\n",
        "#Adding Activation function\n",
        "keras_model_2.add(Activation('relu'))\n",
        "\n",
        "#Hidden Layer 1\n",
        "#Adding first Hidden layer\n",
        "keras_model_2.add(Dense(256, kernel_initializer='he_normal'))\n",
        "#Adding BatchNormalization Layer\n",
        "keras_model_2.add(BatchNormalization())\n",
        "#Adding Activation function\n",
        "keras_model_2.add(Activation('relu'))\n",
        "\n",
        "#Hidden Layer 2\n",
        "#Adding second Hidden layer\n",
        "keras_model_2.add(Dense(128, kernel_initializer='he_normal'))\n",
        "#Adding BatchNormalization Layer\n",
        "keras_model_2.add(BatchNormalization())\n",
        "#Adding Activation function\n",
        "keras_model_2.add(Activation('relu'))\n",
        "\n",
        "#Hidden Layer 3\n",
        "#Adding third Hidden layer\n",
        "keras_model_2.add(Dense(64, kernel_initializer='he_normal'))\n",
        "#Adding BatchNormalization Layer\n",
        "keras_model_2.add(BatchNormalization())\n",
        "#Adding Activation function\n",
        "keras_model_2.add(Activation('relu'))\n",
        "\n",
        "#Hidden Layer 4\n",
        "#Adding fourth Hidden layer\n",
        "keras_model_2.add(Dense(32, kernel_initializer='he_normal'))\n",
        "#Adding BatchNormalization Layer\n",
        "keras_model_2.add(BatchNormalization())\n",
        "#Adding Activation function\n",
        "keras_model_2.add(Activation('relu'))\n",
        "\n",
        "# Output Layer\n",
        "#Adding output layer which is of 10 nodes (digidts)\n",
        "keras_model_2.add(Dense(10))\n",
        "#Adding Activation function\n",
        "# Here, we are using softmax function because we have multiclass classsification\n",
        "keras_model_2.add(Activation('softmax'))"
      ],
      "execution_count": null,
      "outputs": []
    },
    {
      "cell_type": "code",
      "metadata": {
        "id": "HrD17AW85fTc",
        "colab_type": "code",
        "colab": {
          "base_uri": "https://localhost:8080/",
          "height": 731
        },
        "outputId": "c7e02e11-0e08-445e-d677-a2e90963ff4a"
      },
      "source": [
        "keras_model_2.summary()"
      ],
      "execution_count": null,
      "outputs": [
        {
          "output_type": "stream",
          "text": [
            "Model: \"sequential_4\"\n",
            "_________________________________________________________________\n",
            "Layer (type)                 Output Shape              Param #   \n",
            "=================================================================\n",
            "dense_30 (Dense)             (None, 512)               524800    \n",
            "_________________________________________________________________\n",
            "batch_normalization_15 (Batc (None, 512)               2048      \n",
            "_________________________________________________________________\n",
            "activation_30 (Activation)   (None, 512)               0         \n",
            "_________________________________________________________________\n",
            "dense_31 (Dense)             (None, 256)               131328    \n",
            "_________________________________________________________________\n",
            "batch_normalization_16 (Batc (None, 256)               1024      \n",
            "_________________________________________________________________\n",
            "activation_31 (Activation)   (None, 256)               0         \n",
            "_________________________________________________________________\n",
            "dense_32 (Dense)             (None, 128)               32896     \n",
            "_________________________________________________________________\n",
            "batch_normalization_17 (Batc (None, 128)               512       \n",
            "_________________________________________________________________\n",
            "activation_32 (Activation)   (None, 128)               0         \n",
            "_________________________________________________________________\n",
            "dense_33 (Dense)             (None, 64)                8256      \n",
            "_________________________________________________________________\n",
            "batch_normalization_18 (Batc (None, 64)                256       \n",
            "_________________________________________________________________\n",
            "activation_33 (Activation)   (None, 64)                0         \n",
            "_________________________________________________________________\n",
            "dense_34 (Dense)             (None, 32)                2080      \n",
            "_________________________________________________________________\n",
            "batch_normalization_19 (Batc (None, 32)                128       \n",
            "_________________________________________________________________\n",
            "activation_34 (Activation)   (None, 32)                0         \n",
            "_________________________________________________________________\n",
            "dense_35 (Dense)             (None, 10)                330       \n",
            "_________________________________________________________________\n",
            "activation_35 (Activation)   (None, 10)                0         \n",
            "=================================================================\n",
            "Total params: 703,658\n",
            "Trainable params: 701,674\n",
            "Non-trainable params: 1,984\n",
            "_________________________________________________________________\n"
          ],
          "name": "stdout"
        }
      ]
    },
    {
      "cell_type": "markdown",
      "metadata": {
        "id": "tBUNz2t65fTf",
        "colab_type": "text"
      },
      "source": [
        "#### Using SGD optimizer\n",
        "* learning rate =0.0001\n"
      ]
    },
    {
      "cell_type": "code",
      "metadata": {
        "id": "GF0PMRoT5fTf",
        "colab_type": "code",
        "colab": {}
      },
      "source": [
        "#Setting the learning rate in sgd\n",
        "sgd = optimizers.Adam(lr = 0.0001)\n",
        "# compiling the ANN classifier\n",
        "keras_model_2.compile(optimizer = sgd, loss = 'categorical_crossentropy', metrics = ['accuracy'])"
      ],
      "execution_count": null,
      "outputs": []
    },
    {
      "cell_type": "code",
      "metadata": {
        "id": "dXrjF8Ub5fTi",
        "colab_type": "code",
        "colab": {
          "base_uri": "https://localhost:8080/",
          "height": 1000
        },
        "outputId": "09c63eca-5e66-4d29-bead-1ed9d159ec60"
      },
      "source": [
        "# Fitting the ANN to the Training data\n",
        "history_2 = keras_model_2.fit(X_train, y_train, validation_data=(X_val,y_val),batch_size = 200, epochs = 100, verbose = 1)"
      ],
      "execution_count": null,
      "outputs": [
        {
          "output_type": "stream",
          "text": [
            "Epoch 1/100\n",
            "210/210 [==============================] - 2s 8ms/step - loss: 2.0970 - accuracy: 0.2700 - val_loss: 2.0513 - val_accuracy: 0.3012\n",
            "Epoch 2/100\n",
            "210/210 [==============================] - 2s 7ms/step - loss: 1.5643 - accuracy: 0.5144 - val_loss: 1.5951 - val_accuracy: 0.5179\n",
            "Epoch 3/100\n",
            "210/210 [==============================] - 2s 7ms/step - loss: 1.2779 - accuracy: 0.6312 - val_loss: 1.3930 - val_accuracy: 0.5773\n",
            "Epoch 4/100\n",
            "210/210 [==============================] - 2s 7ms/step - loss: 1.0830 - accuracy: 0.6986 - val_loss: 1.1682 - val_accuracy: 0.6615\n",
            "Epoch 5/100\n",
            "210/210 [==============================] - 2s 7ms/step - loss: 0.9460 - accuracy: 0.7348 - val_loss: 1.0483 - val_accuracy: 0.6925\n",
            "Epoch 6/100\n",
            "210/210 [==============================] - 2s 7ms/step - loss: 0.8425 - accuracy: 0.7620 - val_loss: 1.0065 - val_accuracy: 0.7020\n",
            "Epoch 7/100\n",
            "210/210 [==============================] - 1s 7ms/step - loss: 0.7597 - accuracy: 0.7838 - val_loss: 0.9575 - val_accuracy: 0.7189\n",
            "Epoch 8/100\n",
            "210/210 [==============================] - 2s 8ms/step - loss: 0.6964 - accuracy: 0.7992 - val_loss: 0.8680 - val_accuracy: 0.7422\n",
            "Epoch 9/100\n",
            "210/210 [==============================] - 1s 7ms/step - loss: 0.6395 - accuracy: 0.8164 - val_loss: 0.9179 - val_accuracy: 0.7219\n",
            "Epoch 10/100\n",
            "210/210 [==============================] - 2s 7ms/step - loss: 0.5920 - accuracy: 0.8273 - val_loss: 0.8322 - val_accuracy: 0.7493\n",
            "Epoch 11/100\n",
            "210/210 [==============================] - 1s 7ms/step - loss: 0.5512 - accuracy: 0.8398 - val_loss: 0.7902 - val_accuracy: 0.7558\n",
            "Epoch 12/100\n",
            "210/210 [==============================] - 2s 7ms/step - loss: 0.5181 - accuracy: 0.8472 - val_loss: 0.7656 - val_accuracy: 0.7650\n",
            "Epoch 13/100\n",
            "210/210 [==============================] - 2s 8ms/step - loss: 0.4817 - accuracy: 0.8589 - val_loss: 0.7755 - val_accuracy: 0.7585\n",
            "Epoch 14/100\n",
            "210/210 [==============================] - 2s 7ms/step - loss: 0.4514 - accuracy: 0.8691 - val_loss: 0.7443 - val_accuracy: 0.7671\n",
            "Epoch 15/100\n",
            "210/210 [==============================] - 2s 8ms/step - loss: 0.4211 - accuracy: 0.8769 - val_loss: 0.6783 - val_accuracy: 0.7883\n",
            "Epoch 16/100\n",
            "210/210 [==============================] - 2s 7ms/step - loss: 0.3997 - accuracy: 0.8832 - val_loss: 0.7707 - val_accuracy: 0.7582\n",
            "Epoch 17/100\n",
            "210/210 [==============================] - 2s 7ms/step - loss: 0.3787 - accuracy: 0.8887 - val_loss: 0.6614 - val_accuracy: 0.7968\n",
            "Epoch 18/100\n",
            "210/210 [==============================] - 1s 7ms/step - loss: 0.3567 - accuracy: 0.8959 - val_loss: 0.7048 - val_accuracy: 0.7775\n",
            "Epoch 19/100\n",
            "210/210 [==============================] - 2s 7ms/step - loss: 0.3398 - accuracy: 0.9010 - val_loss: 0.8231 - val_accuracy: 0.7474\n",
            "Epoch 20/100\n",
            "210/210 [==============================] - 1s 7ms/step - loss: 0.3244 - accuracy: 0.9053 - val_loss: 0.6005 - val_accuracy: 0.8147\n",
            "Epoch 21/100\n",
            "210/210 [==============================] - 2s 9ms/step - loss: 0.3025 - accuracy: 0.9130 - val_loss: 0.6099 - val_accuracy: 0.8086\n",
            "Epoch 22/100\n",
            "210/210 [==============================] - 2s 7ms/step - loss: 0.2892 - accuracy: 0.9168 - val_loss: 0.5744 - val_accuracy: 0.8214\n",
            "Epoch 23/100\n",
            "210/210 [==============================] - 2s 7ms/step - loss: 0.2758 - accuracy: 0.9200 - val_loss: 0.6442 - val_accuracy: 0.8012\n",
            "Epoch 24/100\n",
            "210/210 [==============================] - 1s 7ms/step - loss: 0.2585 - accuracy: 0.9248 - val_loss: 0.6038 - val_accuracy: 0.8136\n",
            "Epoch 25/100\n",
            "210/210 [==============================] - 2s 7ms/step - loss: 0.2488 - accuracy: 0.9286 - val_loss: 0.6411 - val_accuracy: 0.8003\n",
            "Epoch 26/100\n",
            "210/210 [==============================] - 2s 7ms/step - loss: 0.2397 - accuracy: 0.9312 - val_loss: 0.6573 - val_accuracy: 0.7977\n",
            "Epoch 27/100\n",
            "210/210 [==============================] - 2s 7ms/step - loss: 0.2280 - accuracy: 0.9337 - val_loss: 0.6215 - val_accuracy: 0.8093\n",
            "Epoch 28/100\n",
            "210/210 [==============================] - 2s 9ms/step - loss: 0.2240 - accuracy: 0.9350 - val_loss: 0.9531 - val_accuracy: 0.7457\n",
            "Epoch 29/100\n",
            "210/210 [==============================] - 2s 8ms/step - loss: 0.2132 - accuracy: 0.9395 - val_loss: 0.7713 - val_accuracy: 0.7752\n",
            "Epoch 30/100\n",
            "210/210 [==============================] - 2s 8ms/step - loss: 0.1982 - accuracy: 0.9435 - val_loss: 0.8055 - val_accuracy: 0.7739\n",
            "Epoch 31/100\n",
            "210/210 [==============================] - 2s 8ms/step - loss: 0.1956 - accuracy: 0.9437 - val_loss: 0.6948 - val_accuracy: 0.7952\n",
            "Epoch 32/100\n",
            "210/210 [==============================] - 2s 8ms/step - loss: 0.1793 - accuracy: 0.9495 - val_loss: 0.6141 - val_accuracy: 0.8171\n",
            "Epoch 33/100\n",
            "210/210 [==============================] - 2s 8ms/step - loss: 0.1745 - accuracy: 0.9511 - val_loss: 0.7375 - val_accuracy: 0.7832\n",
            "Epoch 34/100\n",
            "210/210 [==============================] - 2s 7ms/step - loss: 0.1677 - accuracy: 0.9525 - val_loss: 0.6164 - val_accuracy: 0.8176\n",
            "Epoch 35/100\n",
            "210/210 [==============================] - 1s 7ms/step - loss: 0.1593 - accuracy: 0.9553 - val_loss: 0.5712 - val_accuracy: 0.8289\n",
            "Epoch 36/100\n",
            "210/210 [==============================] - 2s 7ms/step - loss: 0.1609 - accuracy: 0.9539 - val_loss: 0.6295 - val_accuracy: 0.8143\n",
            "Epoch 37/100\n",
            "210/210 [==============================] - 2s 7ms/step - loss: 0.1514 - accuracy: 0.9570 - val_loss: 0.5897 - val_accuracy: 0.8245\n",
            "Epoch 38/100\n",
            "210/210 [==============================] - 2s 8ms/step - loss: 0.1517 - accuracy: 0.9565 - val_loss: 0.7490 - val_accuracy: 0.7908\n",
            "Epoch 39/100\n",
            "210/210 [==============================] - 1s 7ms/step - loss: 0.1420 - accuracy: 0.9595 - val_loss: 0.6005 - val_accuracy: 0.8240\n",
            "Epoch 40/100\n",
            "210/210 [==============================] - 2s 7ms/step - loss: 0.1308 - accuracy: 0.9637 - val_loss: 0.6121 - val_accuracy: 0.8209\n",
            "Epoch 41/100\n",
            "210/210 [==============================] - 2s 7ms/step - loss: 0.1313 - accuracy: 0.9622 - val_loss: 0.9706 - val_accuracy: 0.7628\n",
            "Epoch 42/100\n",
            "210/210 [==============================] - 2s 8ms/step - loss: 0.1279 - accuracy: 0.9628 - val_loss: 0.4927 - val_accuracy: 0.8581\n",
            "Epoch 43/100\n",
            "210/210 [==============================] - 2s 7ms/step - loss: 0.1247 - accuracy: 0.9650 - val_loss: 0.6985 - val_accuracy: 0.8098\n",
            "Epoch 44/100\n",
            "210/210 [==============================] - 2s 7ms/step - loss: 0.1184 - accuracy: 0.9664 - val_loss: 0.7537 - val_accuracy: 0.7804\n",
            "Epoch 45/100\n",
            "210/210 [==============================] - 2s 7ms/step - loss: 0.1133 - accuracy: 0.9678 - val_loss: 0.7008 - val_accuracy: 0.8069\n",
            "Epoch 46/100\n",
            "210/210 [==============================] - 1s 7ms/step - loss: 0.1120 - accuracy: 0.9691 - val_loss: 0.7224 - val_accuracy: 0.8044\n",
            "Epoch 47/100\n",
            "210/210 [==============================] - 2s 7ms/step - loss: 0.1081 - accuracy: 0.9689 - val_loss: 0.7241 - val_accuracy: 0.8033\n",
            "Epoch 48/100\n",
            "210/210 [==============================] - 2s 7ms/step - loss: 0.1088 - accuracy: 0.9689 - val_loss: 0.5136 - val_accuracy: 0.8532\n",
            "Epoch 49/100\n",
            "210/210 [==============================] - 1s 7ms/step - loss: 0.1053 - accuracy: 0.9696 - val_loss: 0.6608 - val_accuracy: 0.8108\n",
            "Epoch 50/100\n",
            "210/210 [==============================] - 2s 7ms/step - loss: 0.1016 - accuracy: 0.9715 - val_loss: 0.7447 - val_accuracy: 0.8000\n",
            "Epoch 51/100\n",
            "210/210 [==============================] - 2s 8ms/step - loss: 0.0981 - accuracy: 0.9716 - val_loss: 0.7722 - val_accuracy: 0.7962\n",
            "Epoch 52/100\n",
            "210/210 [==============================] - 2s 7ms/step - loss: 0.0923 - accuracy: 0.9735 - val_loss: 0.5843 - val_accuracy: 0.8389\n",
            "Epoch 53/100\n",
            "210/210 [==============================] - 2s 8ms/step - loss: 0.0927 - accuracy: 0.9736 - val_loss: 0.6620 - val_accuracy: 0.8197\n",
            "Epoch 54/100\n",
            "210/210 [==============================] - 2s 7ms/step - loss: 0.0903 - accuracy: 0.9750 - val_loss: 0.7379 - val_accuracy: 0.8027\n",
            "Epoch 55/100\n",
            "210/210 [==============================] - 2s 8ms/step - loss: 0.0896 - accuracy: 0.9739 - val_loss: 0.6409 - val_accuracy: 0.8278\n",
            "Epoch 56/100\n",
            "210/210 [==============================] - 2s 7ms/step - loss: 0.0802 - accuracy: 0.9779 - val_loss: 0.6147 - val_accuracy: 0.8371\n",
            "Epoch 57/100\n",
            "210/210 [==============================] - 1s 7ms/step - loss: 0.0809 - accuracy: 0.9766 - val_loss: 0.8017 - val_accuracy: 0.7936\n",
            "Epoch 58/100\n",
            "210/210 [==============================] - 2s 7ms/step - loss: 0.0855 - accuracy: 0.9751 - val_loss: 0.6630 - val_accuracy: 0.8213\n",
            "Epoch 59/100\n",
            "210/210 [==============================] - 2s 8ms/step - loss: 0.0823 - accuracy: 0.9756 - val_loss: 0.6127 - val_accuracy: 0.8384\n",
            "Epoch 60/100\n",
            "210/210 [==============================] - 2s 8ms/step - loss: 0.0766 - accuracy: 0.9775 - val_loss: 0.7050 - val_accuracy: 0.8228\n",
            "Epoch 61/100\n",
            "210/210 [==============================] - 2s 7ms/step - loss: 0.0718 - accuracy: 0.9790 - val_loss: 0.7651 - val_accuracy: 0.8070\n",
            "Epoch 62/100\n",
            "210/210 [==============================] - 2s 7ms/step - loss: 0.0767 - accuracy: 0.9774 - val_loss: 0.7811 - val_accuracy: 0.8053\n",
            "Epoch 63/100\n",
            "210/210 [==============================] - 2s 7ms/step - loss: 0.0674 - accuracy: 0.9803 - val_loss: 0.8286 - val_accuracy: 0.8007\n",
            "Epoch 64/100\n",
            "210/210 [==============================] - 1s 7ms/step - loss: 0.0705 - accuracy: 0.9801 - val_loss: 0.6441 - val_accuracy: 0.8280\n",
            "Epoch 65/100\n",
            "210/210 [==============================] - 2s 7ms/step - loss: 0.0723 - accuracy: 0.9784 - val_loss: 0.8635 - val_accuracy: 0.8009\n",
            "Epoch 66/100\n",
            "210/210 [==============================] - 2s 7ms/step - loss: 0.0663 - accuracy: 0.9807 - val_loss: 0.5973 - val_accuracy: 0.8477\n",
            "Epoch 67/100\n",
            "210/210 [==============================] - 2s 7ms/step - loss: 0.0634 - accuracy: 0.9817 - val_loss: 0.7442 - val_accuracy: 0.8105\n",
            "Epoch 68/100\n",
            "210/210 [==============================] - 1s 7ms/step - loss: 0.0664 - accuracy: 0.9810 - val_loss: 0.6296 - val_accuracy: 0.8407\n",
            "Epoch 69/100\n",
            "210/210 [==============================] - 2s 8ms/step - loss: 0.0693 - accuracy: 0.9801 - val_loss: 0.7237 - val_accuracy: 0.8276\n",
            "Epoch 70/100\n",
            "210/210 [==============================] - 2s 8ms/step - loss: 0.0706 - accuracy: 0.9784 - val_loss: 0.8024 - val_accuracy: 0.7961\n",
            "Epoch 71/100\n",
            "210/210 [==============================] - 1s 7ms/step - loss: 0.0681 - accuracy: 0.9789 - val_loss: 0.6815 - val_accuracy: 0.8285\n",
            "Epoch 72/100\n",
            "210/210 [==============================] - 1s 7ms/step - loss: 0.0585 - accuracy: 0.9827 - val_loss: 0.7551 - val_accuracy: 0.8183\n",
            "Epoch 73/100\n",
            "210/210 [==============================] - 2s 7ms/step - loss: 0.0595 - accuracy: 0.9823 - val_loss: 0.8551 - val_accuracy: 0.8063\n",
            "Epoch 74/100\n",
            "210/210 [==============================] - 1s 7ms/step - loss: 0.0589 - accuracy: 0.9827 - val_loss: 0.6855 - val_accuracy: 0.8384\n",
            "Epoch 75/100\n",
            "210/210 [==============================] - 2s 7ms/step - loss: 0.0556 - accuracy: 0.9834 - val_loss: 0.5633 - val_accuracy: 0.8564\n",
            "Epoch 76/100\n",
            "210/210 [==============================] - 2s 8ms/step - loss: 0.0591 - accuracy: 0.9829 - val_loss: 0.7052 - val_accuracy: 0.8318\n",
            "Epoch 77/100\n",
            "210/210 [==============================] - 2s 8ms/step - loss: 0.0627 - accuracy: 0.9806 - val_loss: 0.7397 - val_accuracy: 0.8225\n",
            "Epoch 78/100\n",
            "210/210 [==============================] - 1s 7ms/step - loss: 0.0606 - accuracy: 0.9817 - val_loss: 1.0396 - val_accuracy: 0.7641\n",
            "Epoch 79/100\n",
            "210/210 [==============================] - 1s 7ms/step - loss: 0.0578 - accuracy: 0.9835 - val_loss: 0.8453 - val_accuracy: 0.8006\n",
            "Epoch 80/100\n",
            "210/210 [==============================] - 2s 7ms/step - loss: 0.0555 - accuracy: 0.9831 - val_loss: 0.7455 - val_accuracy: 0.8207\n",
            "Epoch 81/100\n",
            "210/210 [==============================] - 2s 7ms/step - loss: 0.0504 - accuracy: 0.9851 - val_loss: 0.6192 - val_accuracy: 0.8519\n",
            "Epoch 82/100\n",
            "210/210 [==============================] - 2s 8ms/step - loss: 0.0453 - accuracy: 0.9866 - val_loss: 0.6726 - val_accuracy: 0.8491\n",
            "Epoch 83/100\n",
            "210/210 [==============================] - 2s 7ms/step - loss: 0.0526 - accuracy: 0.9845 - val_loss: 0.7396 - val_accuracy: 0.8258\n",
            "Epoch 84/100\n",
            "210/210 [==============================] - 2s 8ms/step - loss: 0.0569 - accuracy: 0.9829 - val_loss: 0.6285 - val_accuracy: 0.8464\n",
            "Epoch 85/100\n",
            "210/210 [==============================] - 1s 7ms/step - loss: 0.0533 - accuracy: 0.9836 - val_loss: 0.7365 - val_accuracy: 0.8241\n",
            "Epoch 86/100\n",
            "210/210 [==============================] - 2s 8ms/step - loss: 0.0529 - accuracy: 0.9840 - val_loss: 0.9078 - val_accuracy: 0.8007\n",
            "Epoch 87/100\n",
            "210/210 [==============================] - 2s 7ms/step - loss: 0.0553 - accuracy: 0.9827 - val_loss: 0.7441 - val_accuracy: 0.8217\n",
            "Epoch 88/100\n",
            "210/210 [==============================] - 2s 7ms/step - loss: 0.0528 - accuracy: 0.9847 - val_loss: 0.7336 - val_accuracy: 0.8306\n",
            "Epoch 89/100\n",
            "210/210 [==============================] - 2s 7ms/step - loss: 0.0535 - accuracy: 0.9835 - val_loss: 0.6715 - val_accuracy: 0.8355\n",
            "Epoch 90/100\n",
            "210/210 [==============================] - 2s 8ms/step - loss: 0.0491 - accuracy: 0.9857 - val_loss: 0.6412 - val_accuracy: 0.8403\n",
            "Epoch 91/100\n",
            "210/210 [==============================] - 2s 7ms/step - loss: 0.0457 - accuracy: 0.9865 - val_loss: 0.9779 - val_accuracy: 0.8037\n",
            "Epoch 92/100\n",
            "210/210 [==============================] - 1s 7ms/step - loss: 0.0447 - accuracy: 0.9867 - val_loss: 0.6436 - val_accuracy: 0.8458\n",
            "Epoch 93/100\n",
            "210/210 [==============================] - 2s 7ms/step - loss: 0.0508 - accuracy: 0.9849 - val_loss: 0.7584 - val_accuracy: 0.8244\n",
            "Epoch 94/100\n",
            "210/210 [==============================] - 2s 8ms/step - loss: 0.0422 - accuracy: 0.9875 - val_loss: 0.6815 - val_accuracy: 0.8403\n",
            "Epoch 95/100\n",
            "210/210 [==============================] - 2s 8ms/step - loss: 0.0403 - accuracy: 0.9881 - val_loss: 0.5880 - val_accuracy: 0.8614\n",
            "Epoch 96/100\n",
            "210/210 [==============================] - 2s 8ms/step - loss: 0.0445 - accuracy: 0.9862 - val_loss: 0.8515 - val_accuracy: 0.8199\n",
            "Epoch 97/100\n",
            "210/210 [==============================] - 2s 7ms/step - loss: 0.0503 - accuracy: 0.9843 - val_loss: 0.8296 - val_accuracy: 0.8141\n",
            "Epoch 98/100\n",
            "210/210 [==============================] - 2s 8ms/step - loss: 0.0453 - accuracy: 0.9860 - val_loss: 0.7629 - val_accuracy: 0.8304\n",
            "Epoch 99/100\n",
            "210/210 [==============================] - 2s 8ms/step - loss: 0.0366 - accuracy: 0.9893 - val_loss: 1.1417 - val_accuracy: 0.7855\n",
            "Epoch 100/100\n",
            "210/210 [==============================] - 2s 8ms/step - loss: 0.0413 - accuracy: 0.9878 - val_loss: 0.7102 - val_accuracy: 0.8395\n"
          ],
          "name": "stdout"
        }
      ]
    },
    {
      "cell_type": "code",
      "metadata": {
        "id": "41CTUbVi5fTm",
        "colab_type": "code",
        "colab": {
          "base_uri": "https://localhost:8080/",
          "height": 51
        },
        "outputId": "f12b311c-68b8-4dee-d8ce-6f8a12bd6ee7"
      },
      "source": [
        "results_2 = keras_model_2.evaluate(X_val, y_val)\n",
        "print('Val_acc using BatchNorm sgd : ', results_2[1])"
      ],
      "execution_count": null,
      "outputs": [
        {
          "output_type": "stream",
          "text": [
            "1875/1875 [==============================] - 5s 2ms/step - loss: 0.7102 - accuracy: 0.8395\n",
            "Val_acc using BatchNorm sgd :  0.8395000100135803\n"
          ],
          "name": "stdout"
        }
      ]
    },
    {
      "cell_type": "code",
      "metadata": {
        "id": "PMQ42SnW5fTp",
        "colab_type": "code",
        "colab": {
          "base_uri": "https://localhost:8080/",
          "height": 142
        },
        "outputId": "a1207843-4eb6-4c37-bedf-c919abcca548"
      },
      "source": [
        "#Store the accuracy results for each model in a dataframe for final comparison\n",
        "tempResultsDf = pd.DataFrame({'Method':['NN_Batch_sgd'], 'accuracy': [results_2[1]]},index={'3'})\n",
        "results_on_val= pd.concat([results_on_val, tempResultsDf])\n",
        "results_on_val = results_on_val[['Method', 'accuracy']]\n",
        "results_on_val"
      ],
      "execution_count": null,
      "outputs": [
        {
          "output_type": "execute_result",
          "data": {
            "text/html": [
              "<div>\n",
              "<style scoped>\n",
              "    .dataframe tbody tr th:only-of-type {\n",
              "        vertical-align: middle;\n",
              "    }\n",
              "\n",
              "    .dataframe tbody tr th {\n",
              "        vertical-align: top;\n",
              "    }\n",
              "\n",
              "    .dataframe thead th {\n",
              "        text-align: right;\n",
              "    }\n",
              "</style>\n",
              "<table border=\"1\" class=\"dataframe\">\n",
              "  <thead>\n",
              "    <tr style=\"text-align: right;\">\n",
              "      <th></th>\n",
              "      <th>Method</th>\n",
              "      <th>accuracy</th>\n",
              "    </tr>\n",
              "  </thead>\n",
              "  <tbody>\n",
              "    <tr>\n",
              "      <th>1</th>\n",
              "      <td>NN</td>\n",
              "      <td>0.908717</td>\n",
              "    </tr>\n",
              "    <tr>\n",
              "      <th>2</th>\n",
              "      <td>NN_Batch_adam</td>\n",
              "      <td>0.831433</td>\n",
              "    </tr>\n",
              "    <tr>\n",
              "      <th>3</th>\n",
              "      <td>NN_Batch_sgd</td>\n",
              "      <td>0.839500</td>\n",
              "    </tr>\n",
              "  </tbody>\n",
              "</table>\n",
              "</div>"
            ],
            "text/plain": [
              "          Method  accuracy\n",
              "1             NN  0.908717\n",
              "2  NN_Batch_adam  0.831433\n",
              "3   NN_Batch_sgd  0.839500"
            ]
          },
          "metadata": {
            "tags": []
          },
          "execution_count": 82
        }
      ]
    },
    {
      "cell_type": "markdown",
      "metadata": {
        "id": "NYnOgb6j5fTs",
        "colab_type": "text"
      },
      "source": [
        "* The batch normalization using SGD optimizer is giving better results than using adam optimizer."
      ]
    },
    {
      "cell_type": "markdown",
      "metadata": {
        "id": "4Jb1zYBP5fTt",
        "colab_type": "text"
      },
      "source": [
        "## Implementing batch normalization and Dropout for training the neural network "
      ]
    },
    {
      "cell_type": "code",
      "metadata": {
        "id": "heSwxko75fTt",
        "colab_type": "code",
        "colab": {}
      },
      "source": [
        "##Initialize the Artificial Neural Network Classifier\n",
        "keras_model_3 = Sequential()"
      ],
      "execution_count": null,
      "outputs": []
    },
    {
      "cell_type": "markdown",
      "metadata": {
        "id": "GY8c4v1J5fTv",
        "colab_type": "text"
      },
      "source": [
        "#### Adding BatchNormalization Layer and Dropout Layer (0.5)"
      ]
    },
    {
      "cell_type": "code",
      "metadata": {
        "id": "OifKJHuI5fTw",
        "colab_type": "code",
        "colab": {}
      },
      "source": [
        "# Input Layer\n",
        "#Adding Input layer and activation functions ReLU\n",
        "keras_model_3.add(Dense(512, kernel_initializer='he_normal',input_shape = (1024, )))\n",
        "#Adding BatchNormalization Layer\n",
        "keras_model_3.add(BatchNormalization())\n",
        "#Adding Activation function\n",
        "keras_model_3.add(Activation('relu'))\n",
        "#Adding Dropout Layer\n",
        "keras_model_3.add(Dropout(0.5))\n",
        "\n",
        "#Hidden Layer 1\n",
        "#Adding first Hidden layer\n",
        "keras_model_3.add(Dense(256,kernel_initializer='he_normal'))\n",
        "#Adding BatchNormalization Layer\n",
        "keras_model_3.add(BatchNormalization())\n",
        "#Adding Activation function\n",
        "keras_model_3.add(Activation('relu'))\n",
        "#Adding Dropout Layer\n",
        "keras_model_3.add(Dropout(0.5))\n",
        "\n",
        "#Hidden Layer 2\n",
        "#Adding second Hidden layer\n",
        "keras_model_3.add(Dense(128, kernel_initializer='he_normal'))\n",
        "#Adding BatchNormalization Layer\n",
        "keras_model_3.add(BatchNormalization())\n",
        "#Adding Activation function\n",
        "keras_model_3.add(Activation('relu'))\n",
        "#Adding Dropout Layer\n",
        "keras_model_3.add(Dropout(0.5))\n",
        "\n",
        "#Hidden Layer 3\n",
        "#Adding third Hidden layer\n",
        "keras_model_3.add(Dense(64, kernel_initializer='he_normal'))\n",
        "#Adding BatchNormalization Layer\n",
        "keras_model_3.add(BatchNormalization())\n",
        "#Adding Activation function\n",
        "keras_model_3.add(Activation('relu'))\n",
        "#Adding Dropout Layer\n",
        "keras_model_3.add(Dropout(0.5))\n",
        "\n",
        "#Hidden Layer 4\n",
        "#Adding fourth Hidden layer\n",
        "keras_model_3.add(Dense(32, kernel_initializer='he_normal'))\n",
        "#Adding BatchNormalization Layer\n",
        "keras_model_3.add(BatchNormalization())\n",
        "#Adding Activation function\n",
        "keras_model_3.add(Activation('relu'))\n",
        "#Adding Dropout Layer\n",
        "keras_model_3.add(Dropout(0.5))\n",
        "\n",
        "# Output Layer\n",
        "#Adding output layer which is of 10 nodes (digidts)\n",
        "keras_model_3.add(Dense(10))\n",
        "#Adding Activation function\n",
        "# Here, we are using softmax function because we have multiclass classsification\n",
        "keras_model_3.add(Activation('softmax'))"
      ],
      "execution_count": null,
      "outputs": []
    },
    {
      "cell_type": "code",
      "metadata": {
        "id": "WKRWcxS25fTz",
        "colab_type": "code",
        "colab": {
          "base_uri": "https://localhost:8080/",
          "height": 901
        },
        "outputId": "8a8010a9-d937-4615-f0cd-e69329168657"
      },
      "source": [
        "keras_model_3.summary()"
      ],
      "execution_count": null,
      "outputs": [
        {
          "output_type": "stream",
          "text": [
            "Model: \"sequential_5\"\n",
            "_________________________________________________________________\n",
            "Layer (type)                 Output Shape              Param #   \n",
            "=================================================================\n",
            "dense_36 (Dense)             (None, 512)               524800    \n",
            "_________________________________________________________________\n",
            "batch_normalization_20 (Batc (None, 512)               2048      \n",
            "_________________________________________________________________\n",
            "activation_36 (Activation)   (None, 512)               0         \n",
            "_________________________________________________________________\n",
            "dropout (Dropout)            (None, 512)               0         \n",
            "_________________________________________________________________\n",
            "dense_37 (Dense)             (None, 256)               131328    \n",
            "_________________________________________________________________\n",
            "batch_normalization_21 (Batc (None, 256)               1024      \n",
            "_________________________________________________________________\n",
            "activation_37 (Activation)   (None, 256)               0         \n",
            "_________________________________________________________________\n",
            "dropout_1 (Dropout)          (None, 256)               0         \n",
            "_________________________________________________________________\n",
            "dense_38 (Dense)             (None, 128)               32896     \n",
            "_________________________________________________________________\n",
            "batch_normalization_22 (Batc (None, 128)               512       \n",
            "_________________________________________________________________\n",
            "activation_38 (Activation)   (None, 128)               0         \n",
            "_________________________________________________________________\n",
            "dropout_2 (Dropout)          (None, 128)               0         \n",
            "_________________________________________________________________\n",
            "dense_39 (Dense)             (None, 64)                8256      \n",
            "_________________________________________________________________\n",
            "batch_normalization_23 (Batc (None, 64)                256       \n",
            "_________________________________________________________________\n",
            "activation_39 (Activation)   (None, 64)                0         \n",
            "_________________________________________________________________\n",
            "dropout_3 (Dropout)          (None, 64)                0         \n",
            "_________________________________________________________________\n",
            "dense_40 (Dense)             (None, 32)                2080      \n",
            "_________________________________________________________________\n",
            "batch_normalization_24 (Batc (None, 32)                128       \n",
            "_________________________________________________________________\n",
            "activation_40 (Activation)   (None, 32)                0         \n",
            "_________________________________________________________________\n",
            "dropout_4 (Dropout)          (None, 32)                0         \n",
            "_________________________________________________________________\n",
            "dense_41 (Dense)             (None, 10)                330       \n",
            "_________________________________________________________________\n",
            "activation_41 (Activation)   (None, 10)                0         \n",
            "=================================================================\n",
            "Total params: 703,658\n",
            "Trainable params: 701,674\n",
            "Non-trainable params: 1,984\n",
            "_________________________________________________________________\n"
          ],
          "name": "stdout"
        }
      ]
    },
    {
      "cell_type": "markdown",
      "metadata": {
        "id": "q7wAME2N5fT2",
        "colab_type": "text"
      },
      "source": [
        "#### Using ADAM optimizer.\n",
        "* learning rate= 0.0001"
      ]
    },
    {
      "cell_type": "code",
      "metadata": {
        "id": "30XE9Sb25fT3",
        "colab_type": "code",
        "colab": {}
      },
      "source": [
        "#Setting the learning rate in adam\n",
        "adam = optimizers.Adam(lr = 0.0001)\n",
        "# compiling the ANN classifier\n",
        "keras_model_3.compile(optimizer = adam, loss = 'categorical_crossentropy', metrics = ['accuracy'])"
      ],
      "execution_count": null,
      "outputs": []
    },
    {
      "cell_type": "code",
      "metadata": {
        "id": "CJAgQycB5fT6",
        "colab_type": "code",
        "colab": {
          "base_uri": "https://localhost:8080/",
          "height": 1000
        },
        "outputId": "6b1e6f07-27d2-4f57-d075-d92b8bbafa65"
      },
      "source": [
        "# Fitting the ANN to the Training data\n",
        "history_3 = keras_model_3.fit(X_train, y_train, validation_data=(X_val,y_val),batch_size = 200, epochs = 100, verbose = 1)"
      ],
      "execution_count": null,
      "outputs": [
        {
          "output_type": "stream",
          "text": [
            "Epoch 1/100\n",
            "210/210 [==============================] - 2s 8ms/step - loss: 2.8244 - accuracy: 0.1005 - val_loss: 2.3161 - val_accuracy: 0.1021\n",
            "Epoch 2/100\n",
            "210/210 [==============================] - 2s 8ms/step - loss: 2.6887 - accuracy: 0.1017 - val_loss: 2.3143 - val_accuracy: 0.1122\n",
            "Epoch 3/100\n",
            "210/210 [==============================] - 2s 7ms/step - loss: 2.6103 - accuracy: 0.1047 - val_loss: 2.3045 - val_accuracy: 0.1158\n",
            "Epoch 4/100\n",
            "210/210 [==============================] - 2s 8ms/step - loss: 2.5430 - accuracy: 0.1022 - val_loss: 2.2980 - val_accuracy: 0.1229\n",
            "Epoch 5/100\n",
            "210/210 [==============================] - 2s 9ms/step - loss: 2.5025 - accuracy: 0.1038 - val_loss: 2.2990 - val_accuracy: 0.1266\n",
            "Epoch 6/100\n",
            "210/210 [==============================] - 2s 7ms/step - loss: 2.4612 - accuracy: 0.1023 - val_loss: 2.2952 - val_accuracy: 0.1346\n",
            "Epoch 7/100\n",
            "210/210 [==============================] - 2s 7ms/step - loss: 2.4374 - accuracy: 0.1038 - val_loss: 2.2935 - val_accuracy: 0.1399\n",
            "Epoch 8/100\n",
            "210/210 [==============================] - 2s 8ms/step - loss: 2.4176 - accuracy: 0.1044 - val_loss: 2.2928 - val_accuracy: 0.1469\n",
            "Epoch 9/100\n",
            "210/210 [==============================] - 2s 7ms/step - loss: 2.3931 - accuracy: 0.1065 - val_loss: 2.2918 - val_accuracy: 0.1502\n",
            "Epoch 10/100\n",
            "210/210 [==============================] - 2s 8ms/step - loss: 2.3764 - accuracy: 0.1058 - val_loss: 2.2894 - val_accuracy: 0.1561\n",
            "Epoch 11/100\n",
            "210/210 [==============================] - 2s 8ms/step - loss: 2.3668 - accuracy: 0.1055 - val_loss: 2.2896 - val_accuracy: 0.1437\n",
            "Epoch 12/100\n",
            "210/210 [==============================] - 2s 9ms/step - loss: 2.3504 - accuracy: 0.1096 - val_loss: 2.2857 - val_accuracy: 0.1544\n",
            "Epoch 13/100\n",
            "210/210 [==============================] - 2s 8ms/step - loss: 2.3438 - accuracy: 0.1103 - val_loss: 2.2843 - val_accuracy: 0.1420\n",
            "Epoch 14/100\n",
            "210/210 [==============================] - 2s 8ms/step - loss: 2.3361 - accuracy: 0.1100 - val_loss: 2.2820 - val_accuracy: 0.1624\n",
            "Epoch 15/100\n",
            "210/210 [==============================] - 2s 8ms/step - loss: 2.3278 - accuracy: 0.1135 - val_loss: 2.2760 - val_accuracy: 0.1761\n",
            "Epoch 16/100\n",
            "210/210 [==============================] - 2s 8ms/step - loss: 2.3155 - accuracy: 0.1179 - val_loss: 2.2718 - val_accuracy: 0.1672\n",
            "Epoch 17/100\n",
            "210/210 [==============================] - 2s 8ms/step - loss: 2.3078 - accuracy: 0.1234 - val_loss: 2.2593 - val_accuracy: 0.1849\n",
            "Epoch 18/100\n",
            "210/210 [==============================] - 2s 7ms/step - loss: 2.3007 - accuracy: 0.1251 - val_loss: 2.2462 - val_accuracy: 0.2148\n",
            "Epoch 19/100\n",
            "210/210 [==============================] - 2s 7ms/step - loss: 2.2801 - accuracy: 0.1370 - val_loss: 2.2300 - val_accuracy: 0.2132\n",
            "Epoch 20/100\n",
            "210/210 [==============================] - 2s 8ms/step - loss: 2.2655 - accuracy: 0.1462 - val_loss: 2.1995 - val_accuracy: 0.2176\n",
            "Epoch 21/100\n",
            "210/210 [==============================] - 2s 8ms/step - loss: 2.2387 - accuracy: 0.1601 - val_loss: 2.1698 - val_accuracy: 0.2234\n",
            "Epoch 22/100\n",
            "210/210 [==============================] - 2s 7ms/step - loss: 2.2158 - accuracy: 0.1680 - val_loss: 2.1422 - val_accuracy: 0.2270\n",
            "Epoch 23/100\n",
            "210/210 [==============================] - 2s 8ms/step - loss: 2.1912 - accuracy: 0.1780 - val_loss: 2.0935 - val_accuracy: 0.2567\n",
            "Epoch 24/100\n",
            "210/210 [==============================] - 2s 7ms/step - loss: 2.1603 - accuracy: 0.1956 - val_loss: 2.0709 - val_accuracy: 0.2725\n",
            "Epoch 25/100\n",
            "210/210 [==============================] - 2s 7ms/step - loss: 2.1288 - accuracy: 0.2097 - val_loss: 2.0183 - val_accuracy: 0.2850\n",
            "Epoch 26/100\n",
            "210/210 [==============================] - 2s 7ms/step - loss: 2.0980 - accuracy: 0.2205 - val_loss: 2.0050 - val_accuracy: 0.2845\n",
            "Epoch 27/100\n",
            "210/210 [==============================] - 2s 7ms/step - loss: 2.0614 - accuracy: 0.2387 - val_loss: 1.9430 - val_accuracy: 0.3035\n",
            "Epoch 28/100\n",
            "210/210 [==============================] - 2s 7ms/step - loss: 2.0289 - accuracy: 0.2472 - val_loss: 1.8721 - val_accuracy: 0.3399\n",
            "Epoch 29/100\n",
            "210/210 [==============================] - 2s 8ms/step - loss: 1.9971 - accuracy: 0.2615 - val_loss: 1.9267 - val_accuracy: 0.3131\n",
            "Epoch 30/100\n",
            "210/210 [==============================] - 2s 7ms/step - loss: 1.9590 - accuracy: 0.2716 - val_loss: 1.8346 - val_accuracy: 0.3483\n",
            "Epoch 31/100\n",
            "210/210 [==============================] - 2s 8ms/step - loss: 1.9277 - accuracy: 0.2811 - val_loss: 1.8220 - val_accuracy: 0.3564\n",
            "Epoch 32/100\n",
            "210/210 [==============================] - 2s 7ms/step - loss: 1.9064 - accuracy: 0.2888 - val_loss: 1.7426 - val_accuracy: 0.3912\n",
            "Epoch 33/100\n",
            "210/210 [==============================] - 2s 8ms/step - loss: 1.8689 - accuracy: 0.3017 - val_loss: 1.7298 - val_accuracy: 0.3991\n",
            "Epoch 34/100\n",
            "210/210 [==============================] - 2s 9ms/step - loss: 1.8513 - accuracy: 0.3097 - val_loss: 1.6344 - val_accuracy: 0.4168\n",
            "Epoch 35/100\n",
            "210/210 [==============================] - 2s 9ms/step - loss: 1.8116 - accuracy: 0.3224 - val_loss: 1.6743 - val_accuracy: 0.4234\n",
            "Epoch 36/100\n",
            "210/210 [==============================] - 2s 8ms/step - loss: 1.7919 - accuracy: 0.3314 - val_loss: 1.5891 - val_accuracy: 0.4686\n",
            "Epoch 37/100\n",
            "210/210 [==============================] - 2s 8ms/step - loss: 1.7658 - accuracy: 0.3390 - val_loss: 1.5810 - val_accuracy: 0.4475\n",
            "Epoch 38/100\n",
            "210/210 [==============================] - 2s 8ms/step - loss: 1.7403 - accuracy: 0.3501 - val_loss: 1.6238 - val_accuracy: 0.4210\n",
            "Epoch 39/100\n",
            "210/210 [==============================] - 2s 8ms/step - loss: 1.7170 - accuracy: 0.3585 - val_loss: 1.5363 - val_accuracy: 0.4988\n",
            "Epoch 40/100\n",
            "210/210 [==============================] - 2s 7ms/step - loss: 1.6951 - accuracy: 0.3675 - val_loss: 1.6027 - val_accuracy: 0.4566\n",
            "Epoch 41/100\n",
            "210/210 [==============================] - 2s 8ms/step - loss: 1.6689 - accuracy: 0.3767 - val_loss: 1.4645 - val_accuracy: 0.4744\n",
            "Epoch 42/100\n",
            "210/210 [==============================] - 2s 8ms/step - loss: 1.6512 - accuracy: 0.3836 - val_loss: 1.4356 - val_accuracy: 0.5085\n",
            "Epoch 43/100\n",
            "210/210 [==============================] - 2s 8ms/step - loss: 1.6390 - accuracy: 0.3901 - val_loss: 1.4279 - val_accuracy: 0.5257\n",
            "Epoch 44/100\n",
            "210/210 [==============================] - 2s 8ms/step - loss: 1.6158 - accuracy: 0.3977 - val_loss: 1.5532 - val_accuracy: 0.4629\n",
            "Epoch 45/100\n",
            "210/210 [==============================] - 2s 8ms/step - loss: 1.6005 - accuracy: 0.4049 - val_loss: 1.4070 - val_accuracy: 0.5232\n",
            "Epoch 46/100\n",
            "210/210 [==============================] - 2s 8ms/step - loss: 1.5766 - accuracy: 0.4108 - val_loss: 1.3295 - val_accuracy: 0.5519\n",
            "Epoch 47/100\n",
            "210/210 [==============================] - 2s 8ms/step - loss: 1.5644 - accuracy: 0.4185 - val_loss: 1.3368 - val_accuracy: 0.5490\n",
            "Epoch 48/100\n",
            "210/210 [==============================] - 2s 8ms/step - loss: 1.5493 - accuracy: 0.4231 - val_loss: 1.3235 - val_accuracy: 0.5611\n",
            "Epoch 49/100\n",
            "210/210 [==============================] - 2s 8ms/step - loss: 1.5394 - accuracy: 0.4280 - val_loss: 1.3314 - val_accuracy: 0.5606\n",
            "Epoch 50/100\n",
            "210/210 [==============================] - 2s 8ms/step - loss: 1.5266 - accuracy: 0.4318 - val_loss: 1.3991 - val_accuracy: 0.5065\n",
            "Epoch 51/100\n",
            "210/210 [==============================] - 2s 8ms/step - loss: 1.5142 - accuracy: 0.4401 - val_loss: 1.3959 - val_accuracy: 0.5371\n",
            "Epoch 52/100\n",
            "210/210 [==============================] - 2s 7ms/step - loss: 1.5008 - accuracy: 0.4458 - val_loss: 1.3071 - val_accuracy: 0.5802\n",
            "Epoch 53/100\n",
            "210/210 [==============================] - 2s 7ms/step - loss: 1.4903 - accuracy: 0.4524 - val_loss: 1.2493 - val_accuracy: 0.5701\n",
            "Epoch 54/100\n",
            "210/210 [==============================] - 2s 7ms/step - loss: 1.4737 - accuracy: 0.4589 - val_loss: 1.2237 - val_accuracy: 0.6110\n",
            "Epoch 55/100\n",
            "210/210 [==============================] - 2s 7ms/step - loss: 1.4699 - accuracy: 0.4632 - val_loss: 1.2873 - val_accuracy: 0.5633\n",
            "Epoch 56/100\n",
            "210/210 [==============================] - 2s 8ms/step - loss: 1.4550 - accuracy: 0.4687 - val_loss: 1.2608 - val_accuracy: 0.5971\n",
            "Epoch 57/100\n",
            "210/210 [==============================] - 2s 8ms/step - loss: 1.4483 - accuracy: 0.4736 - val_loss: 1.1883 - val_accuracy: 0.6289\n",
            "Epoch 58/100\n",
            "210/210 [==============================] - 2s 8ms/step - loss: 1.4358 - accuracy: 0.4802 - val_loss: 1.1722 - val_accuracy: 0.6351\n",
            "Epoch 59/100\n",
            "210/210 [==============================] - 2s 8ms/step - loss: 1.4238 - accuracy: 0.4849 - val_loss: 1.2556 - val_accuracy: 0.5978\n",
            "Epoch 60/100\n",
            "210/210 [==============================] - 2s 8ms/step - loss: 1.4142 - accuracy: 0.4886 - val_loss: 1.1578 - val_accuracy: 0.6195\n",
            "Epoch 61/100\n",
            "210/210 [==============================] - 2s 8ms/step - loss: 1.4060 - accuracy: 0.4936 - val_loss: 1.1737 - val_accuracy: 0.6358\n",
            "Epoch 62/100\n",
            "210/210 [==============================] - 2s 8ms/step - loss: 1.3949 - accuracy: 0.5015 - val_loss: 1.1095 - val_accuracy: 0.6649\n",
            "Epoch 63/100\n",
            "210/210 [==============================] - 2s 8ms/step - loss: 1.3730 - accuracy: 0.5079 - val_loss: 1.1027 - val_accuracy: 0.6751\n",
            "Epoch 64/100\n",
            "210/210 [==============================] - 2s 8ms/step - loss: 1.3765 - accuracy: 0.5098 - val_loss: 1.0915 - val_accuracy: 0.6652\n",
            "Epoch 65/100\n",
            "210/210 [==============================] - 2s 8ms/step - loss: 1.3585 - accuracy: 0.5181 - val_loss: 1.1832 - val_accuracy: 0.6367\n",
            "Epoch 66/100\n",
            "210/210 [==============================] - 2s 8ms/step - loss: 1.3485 - accuracy: 0.5232 - val_loss: 1.1711 - val_accuracy: 0.6197\n",
            "Epoch 67/100\n",
            "210/210 [==============================] - 2s 8ms/step - loss: 1.3341 - accuracy: 0.5274 - val_loss: 1.0652 - val_accuracy: 0.6808\n",
            "Epoch 68/100\n",
            "210/210 [==============================] - 2s 7ms/step - loss: 1.3262 - accuracy: 0.5321 - val_loss: 1.0863 - val_accuracy: 0.6766\n",
            "Epoch 69/100\n",
            "210/210 [==============================] - 2s 7ms/step - loss: 1.3187 - accuracy: 0.5403 - val_loss: 1.0554 - val_accuracy: 0.6973\n",
            "Epoch 70/100\n",
            "210/210 [==============================] - 2s 8ms/step - loss: 1.3079 - accuracy: 0.5431 - val_loss: 1.0859 - val_accuracy: 0.6872\n",
            "Epoch 71/100\n",
            "210/210 [==============================] - 2s 8ms/step - loss: 1.3066 - accuracy: 0.5442 - val_loss: 1.0965 - val_accuracy: 0.6754\n",
            "Epoch 72/100\n",
            "210/210 [==============================] - 2s 7ms/step - loss: 1.2924 - accuracy: 0.5515 - val_loss: 1.0244 - val_accuracy: 0.6968\n",
            "Epoch 73/100\n",
            "210/210 [==============================] - 2s 7ms/step - loss: 1.2801 - accuracy: 0.5587 - val_loss: 1.0302 - val_accuracy: 0.6974\n",
            "Epoch 74/100\n",
            "210/210 [==============================] - 2s 7ms/step - loss: 1.2707 - accuracy: 0.5611 - val_loss: 1.0810 - val_accuracy: 0.6761\n",
            "Epoch 75/100\n",
            "210/210 [==============================] - 2s 7ms/step - loss: 1.2712 - accuracy: 0.5603 - val_loss: 0.9835 - val_accuracy: 0.7163\n",
            "Epoch 76/100\n",
            "210/210 [==============================] - 2s 8ms/step - loss: 1.2625 - accuracy: 0.5642 - val_loss: 1.0160 - val_accuracy: 0.6993\n",
            "Epoch 77/100\n",
            "210/210 [==============================] - 2s 8ms/step - loss: 1.2581 - accuracy: 0.5664 - val_loss: 0.9658 - val_accuracy: 0.7209\n",
            "Epoch 78/100\n",
            "210/210 [==============================] - 2s 7ms/step - loss: 1.2472 - accuracy: 0.5699 - val_loss: 0.9502 - val_accuracy: 0.7365\n",
            "Epoch 79/100\n",
            "210/210 [==============================] - 2s 8ms/step - loss: 1.2312 - accuracy: 0.5782 - val_loss: 1.0525 - val_accuracy: 0.6731\n",
            "Epoch 80/100\n",
            "210/210 [==============================] - 2s 7ms/step - loss: 1.2303 - accuracy: 0.5766 - val_loss: 0.9492 - val_accuracy: 0.7304\n",
            "Epoch 81/100\n",
            "210/210 [==============================] - 2s 8ms/step - loss: 1.2289 - accuracy: 0.5803 - val_loss: 0.9256 - val_accuracy: 0.7372\n",
            "Epoch 82/100\n",
            "210/210 [==============================] - 2s 7ms/step - loss: 1.2194 - accuracy: 0.5841 - val_loss: 1.0191 - val_accuracy: 0.6848\n",
            "Epoch 83/100\n",
            "210/210 [==============================] - 2s 7ms/step - loss: 1.2053 - accuracy: 0.5903 - val_loss: 0.9516 - val_accuracy: 0.7104\n",
            "Epoch 84/100\n",
            "210/210 [==============================] - 2s 8ms/step - loss: 1.1974 - accuracy: 0.5946 - val_loss: 0.9055 - val_accuracy: 0.7344\n",
            "Epoch 85/100\n",
            "210/210 [==============================] - 2s 8ms/step - loss: 1.1945 - accuracy: 0.5950 - val_loss: 0.9155 - val_accuracy: 0.7260\n",
            "Epoch 86/100\n",
            "210/210 [==============================] - 2s 8ms/step - loss: 1.1845 - accuracy: 0.6001 - val_loss: 0.9158 - val_accuracy: 0.7379\n",
            "Epoch 87/100\n",
            "210/210 [==============================] - 2s 8ms/step - loss: 1.1805 - accuracy: 0.6009 - val_loss: 0.9515 - val_accuracy: 0.7154\n",
            "Epoch 88/100\n",
            "210/210 [==============================] - 2s 8ms/step - loss: 1.1774 - accuracy: 0.6020 - val_loss: 0.8722 - val_accuracy: 0.7441\n",
            "Epoch 89/100\n",
            "210/210 [==============================] - 2s 8ms/step - loss: 1.1686 - accuracy: 0.6060 - val_loss: 0.8653 - val_accuracy: 0.7515\n",
            "Epoch 90/100\n",
            "210/210 [==============================] - 2s 8ms/step - loss: 1.1661 - accuracy: 0.6070 - val_loss: 0.8600 - val_accuracy: 0.7602\n",
            "Epoch 91/100\n",
            "210/210 [==============================] - 2s 8ms/step - loss: 1.1558 - accuracy: 0.6129 - val_loss: 0.9807 - val_accuracy: 0.7064\n",
            "Epoch 92/100\n",
            "210/210 [==============================] - 2s 9ms/step - loss: 1.1488 - accuracy: 0.6147 - val_loss: 0.8669 - val_accuracy: 0.7526\n",
            "Epoch 93/100\n",
            "210/210 [==============================] - 2s 8ms/step - loss: 1.1443 - accuracy: 0.6205 - val_loss: 0.8799 - val_accuracy: 0.7499\n",
            "Epoch 94/100\n",
            "210/210 [==============================] - 2s 8ms/step - loss: 1.1326 - accuracy: 0.6219 - val_loss: 0.8687 - val_accuracy: 0.7312\n",
            "Epoch 95/100\n",
            "210/210 [==============================] - 2s 8ms/step - loss: 1.1328 - accuracy: 0.6217 - val_loss: 0.8709 - val_accuracy: 0.7487\n",
            "Epoch 96/100\n",
            "210/210 [==============================] - 2s 8ms/step - loss: 1.1290 - accuracy: 0.6281 - val_loss: 0.8559 - val_accuracy: 0.7502\n",
            "Epoch 97/100\n",
            "210/210 [==============================] - 2s 7ms/step - loss: 1.1174 - accuracy: 0.6283 - val_loss: 0.8501 - val_accuracy: 0.7549\n",
            "Epoch 98/100\n",
            "210/210 [==============================] - 2s 8ms/step - loss: 1.1245 - accuracy: 0.6288 - val_loss: 0.8559 - val_accuracy: 0.7551\n",
            "Epoch 99/100\n",
            "210/210 [==============================] - 2s 8ms/step - loss: 1.1120 - accuracy: 0.6348 - val_loss: 0.9029 - val_accuracy: 0.7290\n",
            "Epoch 100/100\n",
            "210/210 [==============================] - 2s 8ms/step - loss: 1.1048 - accuracy: 0.6355 - val_loss: 0.8645 - val_accuracy: 0.7530\n"
          ],
          "name": "stdout"
        }
      ]
    },
    {
      "cell_type": "code",
      "metadata": {
        "id": "iqzHDLI-5fT9",
        "colab_type": "code",
        "colab": {
          "base_uri": "https://localhost:8080/",
          "height": 51
        },
        "outputId": "c54a21be-38af-485f-d125-a4ed88f8fede"
      },
      "source": [
        "results_3 = keras_model_3.evaluate(X_val, y_val)\n",
        "print('Val_acc using BatchNorm and Dropout adam : ', results_3[1])"
      ],
      "execution_count": null,
      "outputs": [
        {
          "output_type": "stream",
          "text": [
            "1875/1875 [==============================] - 5s 3ms/step - loss: 0.8645 - accuracy: 0.7530\n",
            "Val_acc using BatchNorm and Dropout adam :  0.7530166506767273\n"
          ],
          "name": "stdout"
        }
      ]
    },
    {
      "cell_type": "code",
      "metadata": {
        "id": "CByIHCyY5fUA",
        "colab_type": "code",
        "colab": {
          "base_uri": "https://localhost:8080/",
          "height": 173
        },
        "outputId": "feade1b9-bb12-49a8-e2a2-194f450fe78a"
      },
      "source": [
        "#Store the accuracy results for each model in a dataframe for final comparison\n",
        "tempResultsDf = pd.DataFrame({'Method':['NN_Batch_Drop_adam'], 'accuracy': [results_3[1]]},index={'4'})\n",
        "results_on_val= pd.concat([results_on_val, tempResultsDf])\n",
        "results_on_val = results_on_val[['Method', 'accuracy']]\n",
        "results_on_val"
      ],
      "execution_count": null,
      "outputs": [
        {
          "output_type": "execute_result",
          "data": {
            "text/html": [
              "<div>\n",
              "<style scoped>\n",
              "    .dataframe tbody tr th:only-of-type {\n",
              "        vertical-align: middle;\n",
              "    }\n",
              "\n",
              "    .dataframe tbody tr th {\n",
              "        vertical-align: top;\n",
              "    }\n",
              "\n",
              "    .dataframe thead th {\n",
              "        text-align: right;\n",
              "    }\n",
              "</style>\n",
              "<table border=\"1\" class=\"dataframe\">\n",
              "  <thead>\n",
              "    <tr style=\"text-align: right;\">\n",
              "      <th></th>\n",
              "      <th>Method</th>\n",
              "      <th>accuracy</th>\n",
              "    </tr>\n",
              "  </thead>\n",
              "  <tbody>\n",
              "    <tr>\n",
              "      <th>1</th>\n",
              "      <td>NN</td>\n",
              "      <td>0.908717</td>\n",
              "    </tr>\n",
              "    <tr>\n",
              "      <th>2</th>\n",
              "      <td>NN_Batch_adam</td>\n",
              "      <td>0.831433</td>\n",
              "    </tr>\n",
              "    <tr>\n",
              "      <th>3</th>\n",
              "      <td>NN_Batch_sgd</td>\n",
              "      <td>0.839500</td>\n",
              "    </tr>\n",
              "    <tr>\n",
              "      <th>4</th>\n",
              "      <td>NN_Batch_Drop_adam</td>\n",
              "      <td>0.753017</td>\n",
              "    </tr>\n",
              "  </tbody>\n",
              "</table>\n",
              "</div>"
            ],
            "text/plain": [
              "               Method  accuracy\n",
              "1                  NN  0.908717\n",
              "2       NN_Batch_adam  0.831433\n",
              "3        NN_Batch_sgd  0.839500\n",
              "4  NN_Batch_Drop_adam  0.753017"
            ]
          },
          "metadata": {
            "tags": []
          },
          "execution_count": 89
        }
      ]
    },
    {
      "cell_type": "markdown",
      "metadata": {
        "id": "TQY6tnCD5fUF",
        "colab_type": "text"
      },
      "source": [
        "## Testing NN on test data "
      ]
    },
    {
      "cell_type": "code",
      "metadata": {
        "id": "178dQBBs5fUF",
        "colab_type": "code",
        "colab": {}
      },
      "source": [
        "##Initialize the Artificial Neural Network Classifier\n",
        "keras_model_final = Sequential()"
      ],
      "execution_count": null,
      "outputs": []
    },
    {
      "cell_type": "code",
      "metadata": {
        "id": "MPVWPZvD5fUH",
        "colab_type": "code",
        "colab": {}
      },
      "source": [
        "# Input Layer\n",
        "#Adding Input layer and activation functions ReLU\n",
        "keras_model_final.add(Dense(512, kernel_initializer='he_normal',input_shape = (1024, )))\n",
        "#Adding BatchNormalization Layer\n",
        "keras_model_final.add(BatchNormalization())\n",
        "#Adding Activation function\n",
        "keras_model_final.add(Activation('relu'))\n",
        "\n",
        "#Hidden Layer 1\n",
        "#Adding first Hidden layer\n",
        "keras_model_final.add(Dense(256, kernel_initializer='he_normal'))\n",
        "#Adding BatchNormalization Layer\n",
        "keras_model_final.add(BatchNormalization())\n",
        "#Adding Activation function\n",
        "keras_model_final.add(Activation('relu'))\n",
        "\n",
        "#Hidden Layer 2\n",
        "#Adding second Hidden layer\n",
        "keras_model_final.add(Dense(128, kernel_initializer='he_normal'))\n",
        "#Adding BatchNormalization Layer\n",
        "keras_model_final.add(BatchNormalization())\n",
        "#Adding Activation function\n",
        "keras_model_final.add(Activation('relu'))\n",
        "\n",
        "#Hidden Layer 3\n",
        "#Adding third Hidden layer\n",
        "keras_model_final.add(Dense(64, kernel_initializer='he_normal'))\n",
        "#Adding BatchNormalization Layer\n",
        "keras_model_final.add(BatchNormalization())\n",
        "#Adding Activation function\n",
        "keras_model_final.add(Activation('relu'))\n",
        "\n",
        "#Hidden Layer 4\n",
        "#Adding fourth Hidden layer\n",
        "keras_model_final.add(Dense(32, kernel_initializer='he_normal'))\n",
        "#Adding BatchNormalization Layer\n",
        "keras_model_final.add(BatchNormalization())\n",
        "#Adding Activation function\n",
        "keras_model_final.add(Activation('relu'))\n",
        "\n",
        "# Output Layer\n",
        "#Adding output layer which is of 10 nodes (digidts)\n",
        "keras_model_final.add(Dense(10))\n",
        "#Adding Activation function\n",
        "# Here, we are using softmax function because we have multiclass classsification\n",
        "keras_model_final.add(Activation('softmax'))"
      ],
      "execution_count": null,
      "outputs": []
    },
    {
      "cell_type": "code",
      "metadata": {
        "id": "h67Oy08H5fUJ",
        "colab_type": "code",
        "colab": {
          "base_uri": "https://localhost:8080/",
          "height": 731
        },
        "outputId": "a799302d-bbf8-4b42-ac2c-b081de389c92"
      },
      "source": [
        "keras_model_final.summary()"
      ],
      "execution_count": null,
      "outputs": [
        {
          "output_type": "stream",
          "text": [
            "Model: \"sequential_6\"\n",
            "_________________________________________________________________\n",
            "Layer (type)                 Output Shape              Param #   \n",
            "=================================================================\n",
            "dense_42 (Dense)             (None, 512)               524800    \n",
            "_________________________________________________________________\n",
            "batch_normalization_25 (Batc (None, 512)               2048      \n",
            "_________________________________________________________________\n",
            "activation_42 (Activation)   (None, 512)               0         \n",
            "_________________________________________________________________\n",
            "dense_43 (Dense)             (None, 256)               131328    \n",
            "_________________________________________________________________\n",
            "batch_normalization_26 (Batc (None, 256)               1024      \n",
            "_________________________________________________________________\n",
            "activation_43 (Activation)   (None, 256)               0         \n",
            "_________________________________________________________________\n",
            "dense_44 (Dense)             (None, 128)               32896     \n",
            "_________________________________________________________________\n",
            "batch_normalization_27 (Batc (None, 128)               512       \n",
            "_________________________________________________________________\n",
            "activation_44 (Activation)   (None, 128)               0         \n",
            "_________________________________________________________________\n",
            "dense_45 (Dense)             (None, 64)                8256      \n",
            "_________________________________________________________________\n",
            "batch_normalization_28 (Batc (None, 64)                256       \n",
            "_________________________________________________________________\n",
            "activation_45 (Activation)   (None, 64)                0         \n",
            "_________________________________________________________________\n",
            "dense_46 (Dense)             (None, 32)                2080      \n",
            "_________________________________________________________________\n",
            "batch_normalization_29 (Batc (None, 32)                128       \n",
            "_________________________________________________________________\n",
            "activation_46 (Activation)   (None, 32)                0         \n",
            "_________________________________________________________________\n",
            "dense_47 (Dense)             (None, 10)                330       \n",
            "_________________________________________________________________\n",
            "activation_47 (Activation)   (None, 10)                0         \n",
            "=================================================================\n",
            "Total params: 703,658\n",
            "Trainable params: 701,674\n",
            "Non-trainable params: 1,984\n",
            "_________________________________________________________________\n"
          ],
          "name": "stdout"
        }
      ]
    },
    {
      "cell_type": "code",
      "metadata": {
        "id": "EApWKgDh5fUM",
        "colab_type": "code",
        "colab": {}
      },
      "source": [
        "#Setting the learning rate in sgd\n",
        "sgd = optimizers.Adam(lr = 0.0001)\n",
        "# compiling the ANN classifier\n",
        "keras_model_final.compile(optimizer = sgd, loss = 'categorical_crossentropy', metrics = ['accuracy'])"
      ],
      "execution_count": null,
      "outputs": []
    },
    {
      "cell_type": "code",
      "metadata": {
        "id": "lBs-gAEc5fUO",
        "colab_type": "code",
        "colab": {
          "base_uri": "https://localhost:8080/",
          "height": 1000
        },
        "outputId": "6a4f6437-d9d1-4eb2-e569-c57e57def039"
      },
      "source": [
        "# Fitting the ANN to the Training data\n",
        "history_final = keras_model_final.fit(X_train, y_train, validation_data=(X_test,y_test),batch_size = 200, epochs = 100, verbose = 1)"
      ],
      "execution_count": null,
      "outputs": [
        {
          "output_type": "stream",
          "text": [
            "Epoch 1/100\n",
            "210/210 [==============================] - 1s 7ms/step - loss: 2.1202 - accuracy: 0.2538 - val_loss: 2.0773 - val_accuracy: 0.2806\n",
            "Epoch 2/100\n",
            "210/210 [==============================] - 1s 5ms/step - loss: 1.5677 - accuracy: 0.5241 - val_loss: 1.6177 - val_accuracy: 0.5034\n",
            "Epoch 3/100\n",
            "210/210 [==============================] - 1s 5ms/step - loss: 1.2815 - accuracy: 0.6372 - val_loss: 1.4017 - val_accuracy: 0.5862\n",
            "Epoch 4/100\n",
            "210/210 [==============================] - 1s 5ms/step - loss: 1.0915 - accuracy: 0.6982 - val_loss: 1.1897 - val_accuracy: 0.6584\n",
            "Epoch 5/100\n",
            "210/210 [==============================] - 1s 5ms/step - loss: 0.9527 - accuracy: 0.7341 - val_loss: 1.1907 - val_accuracy: 0.6426\n",
            "Epoch 6/100\n",
            "210/210 [==============================] - 1s 5ms/step - loss: 0.8470 - accuracy: 0.7628 - val_loss: 1.0457 - val_accuracy: 0.6930\n",
            "Epoch 7/100\n",
            "210/210 [==============================] - 1s 5ms/step - loss: 0.7674 - accuracy: 0.7828 - val_loss: 1.0337 - val_accuracy: 0.6937\n",
            "Epoch 8/100\n",
            "210/210 [==============================] - 1s 5ms/step - loss: 0.7009 - accuracy: 0.7994 - val_loss: 0.9562 - val_accuracy: 0.7147\n",
            "Epoch 9/100\n",
            "210/210 [==============================] - 1s 5ms/step - loss: 0.6416 - accuracy: 0.8154 - val_loss: 0.9261 - val_accuracy: 0.7182\n",
            "Epoch 10/100\n",
            "210/210 [==============================] - 1s 5ms/step - loss: 0.5951 - accuracy: 0.8280 - val_loss: 0.9331 - val_accuracy: 0.7113\n",
            "Epoch 11/100\n",
            "210/210 [==============================] - 1s 5ms/step - loss: 0.5527 - accuracy: 0.8384 - val_loss: 0.8847 - val_accuracy: 0.7260\n",
            "Epoch 12/100\n",
            "210/210 [==============================] - 1s 5ms/step - loss: 0.5172 - accuracy: 0.8497 - val_loss: 0.9023 - val_accuracy: 0.7159\n",
            "Epoch 13/100\n",
            "210/210 [==============================] - 1s 5ms/step - loss: 0.4870 - accuracy: 0.8586 - val_loss: 0.9175 - val_accuracy: 0.7104\n",
            "Epoch 14/100\n",
            "210/210 [==============================] - 1s 5ms/step - loss: 0.4570 - accuracy: 0.8662 - val_loss: 0.9123 - val_accuracy: 0.7196\n",
            "Epoch 15/100\n",
            "210/210 [==============================] - 1s 5ms/step - loss: 0.4268 - accuracy: 0.8760 - val_loss: 0.8857 - val_accuracy: 0.7307\n",
            "Epoch 16/100\n",
            "210/210 [==============================] - 1s 5ms/step - loss: 0.4054 - accuracy: 0.8815 - val_loss: 0.8775 - val_accuracy: 0.7291\n",
            "Epoch 17/100\n",
            "210/210 [==============================] - 1s 5ms/step - loss: 0.3799 - accuracy: 0.8891 - val_loss: 0.9481 - val_accuracy: 0.7123\n",
            "Epoch 18/100\n",
            "210/210 [==============================] - 1s 5ms/step - loss: 0.3594 - accuracy: 0.8955 - val_loss: 0.8441 - val_accuracy: 0.7414\n",
            "Epoch 19/100\n",
            "210/210 [==============================] - 1s 5ms/step - loss: 0.3405 - accuracy: 0.9009 - val_loss: 0.8636 - val_accuracy: 0.7347\n",
            "Epoch 20/100\n",
            "210/210 [==============================] - 1s 5ms/step - loss: 0.3225 - accuracy: 0.9059 - val_loss: 0.8703 - val_accuracy: 0.7394\n",
            "Epoch 21/100\n",
            "210/210 [==============================] - 1s 5ms/step - loss: 0.3075 - accuracy: 0.9110 - val_loss: 0.8913 - val_accuracy: 0.7344\n",
            "Epoch 22/100\n",
            "210/210 [==============================] - 1s 5ms/step - loss: 0.2888 - accuracy: 0.9180 - val_loss: 0.8246 - val_accuracy: 0.7469\n",
            "Epoch 23/100\n",
            "210/210 [==============================] - 1s 5ms/step - loss: 0.2777 - accuracy: 0.9195 - val_loss: 0.9789 - val_accuracy: 0.7153\n",
            "Epoch 24/100\n",
            "210/210 [==============================] - 1s 6ms/step - loss: 0.2630 - accuracy: 0.9237 - val_loss: 0.8136 - val_accuracy: 0.7581\n",
            "Epoch 25/100\n",
            "210/210 [==============================] - 1s 5ms/step - loss: 0.2557 - accuracy: 0.9264 - val_loss: 0.8975 - val_accuracy: 0.7387\n",
            "Epoch 26/100\n",
            "210/210 [==============================] - 1s 5ms/step - loss: 0.2383 - accuracy: 0.9312 - val_loss: 1.0022 - val_accuracy: 0.7151\n",
            "Epoch 27/100\n",
            "210/210 [==============================] - 1s 5ms/step - loss: 0.2294 - accuracy: 0.9346 - val_loss: 0.9965 - val_accuracy: 0.7160\n",
            "Epoch 28/100\n",
            "210/210 [==============================] - 1s 5ms/step - loss: 0.2158 - accuracy: 0.9389 - val_loss: 0.9351 - val_accuracy: 0.7343\n",
            "Epoch 29/100\n",
            "210/210 [==============================] - 1s 5ms/step - loss: 0.2078 - accuracy: 0.9407 - val_loss: 0.8469 - val_accuracy: 0.7578\n",
            "Epoch 30/100\n",
            "210/210 [==============================] - 1s 5ms/step - loss: 0.2009 - accuracy: 0.9417 - val_loss: 1.1166 - val_accuracy: 0.7141\n",
            "Epoch 31/100\n",
            "210/210 [==============================] - 1s 5ms/step - loss: 0.1985 - accuracy: 0.9421 - val_loss: 1.0197 - val_accuracy: 0.7162\n",
            "Epoch 32/100\n",
            "210/210 [==============================] - 1s 6ms/step - loss: 0.1832 - accuracy: 0.9472 - val_loss: 0.9429 - val_accuracy: 0.7384\n",
            "Epoch 33/100\n",
            "210/210 [==============================] - 1s 5ms/step - loss: 0.1756 - accuracy: 0.9497 - val_loss: 1.0047 - val_accuracy: 0.7400\n",
            "Epoch 34/100\n",
            "210/210 [==============================] - 1s 5ms/step - loss: 0.1723 - accuracy: 0.9520 - val_loss: 1.0968 - val_accuracy: 0.7112\n",
            "Epoch 35/100\n",
            "210/210 [==============================] - 1s 5ms/step - loss: 0.1659 - accuracy: 0.9528 - val_loss: 0.9650 - val_accuracy: 0.7508\n",
            "Epoch 36/100\n",
            "210/210 [==============================] - 1s 5ms/step - loss: 0.1595 - accuracy: 0.9556 - val_loss: 0.9659 - val_accuracy: 0.7348\n",
            "Epoch 37/100\n",
            "210/210 [==============================] - 1s 6ms/step - loss: 0.1494 - accuracy: 0.9585 - val_loss: 0.9583 - val_accuracy: 0.7437\n",
            "Epoch 38/100\n",
            "210/210 [==============================] - 1s 5ms/step - loss: 0.1460 - accuracy: 0.9586 - val_loss: 1.0180 - val_accuracy: 0.7387\n",
            "Epoch 39/100\n",
            "210/210 [==============================] - 1s 5ms/step - loss: 0.1406 - accuracy: 0.9596 - val_loss: 0.9926 - val_accuracy: 0.7396\n",
            "Epoch 40/100\n",
            "210/210 [==============================] - 1s 5ms/step - loss: 0.1370 - accuracy: 0.9614 - val_loss: 1.0387 - val_accuracy: 0.7296\n",
            "Epoch 41/100\n",
            "210/210 [==============================] - 1s 5ms/step - loss: 0.1286 - accuracy: 0.9636 - val_loss: 1.0088 - val_accuracy: 0.7381\n",
            "Epoch 42/100\n",
            "210/210 [==============================] - 1s 5ms/step - loss: 0.1228 - accuracy: 0.9654 - val_loss: 0.9574 - val_accuracy: 0.7509\n",
            "Epoch 43/100\n",
            "210/210 [==============================] - 1s 5ms/step - loss: 0.1267 - accuracy: 0.9632 - val_loss: 1.2647 - val_accuracy: 0.7031\n",
            "Epoch 44/100\n",
            "210/210 [==============================] - 1s 5ms/step - loss: 0.1148 - accuracy: 0.9677 - val_loss: 1.0006 - val_accuracy: 0.7416\n",
            "Epoch 45/100\n",
            "210/210 [==============================] - 1s 5ms/step - loss: 0.1144 - accuracy: 0.9678 - val_loss: 0.9625 - val_accuracy: 0.7518\n",
            "Epoch 46/100\n",
            "210/210 [==============================] - 1s 6ms/step - loss: 0.1121 - accuracy: 0.9678 - val_loss: 1.1693 - val_accuracy: 0.7229\n",
            "Epoch 47/100\n",
            "210/210 [==============================] - 1s 6ms/step - loss: 0.1124 - accuracy: 0.9675 - val_loss: 0.9783 - val_accuracy: 0.7599\n",
            "Epoch 48/100\n",
            "210/210 [==============================] - 1s 5ms/step - loss: 0.1067 - accuracy: 0.9700 - val_loss: 0.9999 - val_accuracy: 0.7536\n",
            "Epoch 49/100\n",
            "210/210 [==============================] - 1s 5ms/step - loss: 0.1026 - accuracy: 0.9714 - val_loss: 1.0783 - val_accuracy: 0.7422\n",
            "Epoch 50/100\n",
            "210/210 [==============================] - 1s 5ms/step - loss: 0.1025 - accuracy: 0.9712 - val_loss: 1.0007 - val_accuracy: 0.7519\n",
            "Epoch 51/100\n",
            "210/210 [==============================] - 1s 5ms/step - loss: 0.0941 - accuracy: 0.9732 - val_loss: 1.0823 - val_accuracy: 0.7431\n",
            "Epoch 52/100\n",
            "210/210 [==============================] - 1s 6ms/step - loss: 0.0936 - accuracy: 0.9728 - val_loss: 1.1342 - val_accuracy: 0.7306\n",
            "Epoch 53/100\n",
            "210/210 [==============================] - 1s 6ms/step - loss: 0.0929 - accuracy: 0.9736 - val_loss: 1.0610 - val_accuracy: 0.7429\n",
            "Epoch 54/100\n",
            "210/210 [==============================] - 1s 5ms/step - loss: 0.0924 - accuracy: 0.9739 - val_loss: 1.2625 - val_accuracy: 0.7158\n",
            "Epoch 55/100\n",
            "210/210 [==============================] - 1s 5ms/step - loss: 0.0904 - accuracy: 0.9735 - val_loss: 0.9770 - val_accuracy: 0.7691\n",
            "Epoch 56/100\n",
            "210/210 [==============================] - 1s 5ms/step - loss: 0.0847 - accuracy: 0.9753 - val_loss: 1.2618 - val_accuracy: 0.7137\n",
            "Epoch 57/100\n",
            "210/210 [==============================] - 1s 5ms/step - loss: 0.0811 - accuracy: 0.9772 - val_loss: 1.1291 - val_accuracy: 0.7428\n",
            "Epoch 58/100\n",
            "210/210 [==============================] - 1s 6ms/step - loss: 0.0884 - accuracy: 0.9735 - val_loss: 1.2878 - val_accuracy: 0.7135\n",
            "Epoch 59/100\n",
            "210/210 [==============================] - 1s 5ms/step - loss: 0.0876 - accuracy: 0.9742 - val_loss: 1.2088 - val_accuracy: 0.7294\n",
            "Epoch 60/100\n",
            "210/210 [==============================] - 1s 5ms/step - loss: 0.0775 - accuracy: 0.9775 - val_loss: 1.3197 - val_accuracy: 0.7173\n",
            "Epoch 61/100\n",
            "210/210 [==============================] - 1s 6ms/step - loss: 0.0701 - accuracy: 0.9798 - val_loss: 1.3318 - val_accuracy: 0.7108\n",
            "Epoch 62/100\n",
            "210/210 [==============================] - 1s 5ms/step - loss: 0.0745 - accuracy: 0.9787 - val_loss: 1.1190 - val_accuracy: 0.7501\n",
            "Epoch 63/100\n",
            "210/210 [==============================] - 1s 5ms/step - loss: 0.0818 - accuracy: 0.9755 - val_loss: 1.2220 - val_accuracy: 0.7338\n",
            "Epoch 64/100\n",
            "210/210 [==============================] - 1s 6ms/step - loss: 0.0722 - accuracy: 0.9792 - val_loss: 0.9850 - val_accuracy: 0.7700\n",
            "Epoch 65/100\n",
            "210/210 [==============================] - 1s 5ms/step - loss: 0.0655 - accuracy: 0.9820 - val_loss: 1.1094 - val_accuracy: 0.7513\n",
            "Epoch 66/100\n",
            "210/210 [==============================] - 1s 6ms/step - loss: 0.0781 - accuracy: 0.9767 - val_loss: 1.0883 - val_accuracy: 0.7571\n",
            "Epoch 67/100\n",
            "210/210 [==============================] - 1s 6ms/step - loss: 0.0700 - accuracy: 0.9795 - val_loss: 1.1507 - val_accuracy: 0.7386\n",
            "Epoch 68/100\n",
            "210/210 [==============================] - 1s 6ms/step - loss: 0.0762 - accuracy: 0.9769 - val_loss: 1.2165 - val_accuracy: 0.7387\n",
            "Epoch 69/100\n",
            "210/210 [==============================] - 1s 6ms/step - loss: 0.0692 - accuracy: 0.9794 - val_loss: 1.1597 - val_accuracy: 0.7534\n",
            "Epoch 70/100\n",
            "210/210 [==============================] - 1s 6ms/step - loss: 0.0658 - accuracy: 0.9808 - val_loss: 1.2026 - val_accuracy: 0.7420\n",
            "Epoch 71/100\n",
            "210/210 [==============================] - 1s 6ms/step - loss: 0.0611 - accuracy: 0.9827 - val_loss: 1.1127 - val_accuracy: 0.7564\n",
            "Epoch 72/100\n",
            "210/210 [==============================] - 1s 6ms/step - loss: 0.0625 - accuracy: 0.9811 - val_loss: 1.2016 - val_accuracy: 0.7471\n",
            "Epoch 73/100\n",
            "210/210 [==============================] - 1s 6ms/step - loss: 0.0577 - accuracy: 0.9831 - val_loss: 1.3230 - val_accuracy: 0.7080\n",
            "Epoch 74/100\n",
            "210/210 [==============================] - 1s 5ms/step - loss: 0.0642 - accuracy: 0.9818 - val_loss: 1.0199 - val_accuracy: 0.7697\n",
            "Epoch 75/100\n",
            "210/210 [==============================] - 1s 5ms/step - loss: 0.0586 - accuracy: 0.9830 - val_loss: 1.3125 - val_accuracy: 0.7193\n",
            "Epoch 76/100\n",
            "210/210 [==============================] - 1s 5ms/step - loss: 0.0537 - accuracy: 0.9851 - val_loss: 1.0738 - val_accuracy: 0.7631\n",
            "Epoch 77/100\n",
            "210/210 [==============================] - 1s 5ms/step - loss: 0.0550 - accuracy: 0.9840 - val_loss: 1.4057 - val_accuracy: 0.7129\n",
            "Epoch 78/100\n",
            "210/210 [==============================] - 1s 5ms/step - loss: 0.0648 - accuracy: 0.9806 - val_loss: 1.3543 - val_accuracy: 0.7302\n",
            "Epoch 79/100\n",
            "210/210 [==============================] - 1s 5ms/step - loss: 0.0607 - accuracy: 0.9823 - val_loss: 1.3519 - val_accuracy: 0.7334\n",
            "Epoch 80/100\n",
            "210/210 [==============================] - 1s 5ms/step - loss: 0.0585 - accuracy: 0.9827 - val_loss: 1.1261 - val_accuracy: 0.7621\n",
            "Epoch 81/100\n",
            "210/210 [==============================] - 1s 5ms/step - loss: 0.0495 - accuracy: 0.9853 - val_loss: 1.2754 - val_accuracy: 0.7364\n",
            "Epoch 82/100\n",
            "210/210 [==============================] - 1s 6ms/step - loss: 0.0504 - accuracy: 0.9845 - val_loss: 1.4070 - val_accuracy: 0.7204\n",
            "Epoch 83/100\n",
            "210/210 [==============================] - 1s 5ms/step - loss: 0.0549 - accuracy: 0.9841 - val_loss: 1.4078 - val_accuracy: 0.7242\n",
            "Epoch 84/100\n",
            "210/210 [==============================] - 1s 6ms/step - loss: 0.0589 - accuracy: 0.9826 - val_loss: 1.3568 - val_accuracy: 0.7404\n",
            "Epoch 85/100\n",
            "210/210 [==============================] - 1s 6ms/step - loss: 0.0560 - accuracy: 0.9828 - val_loss: 1.2781 - val_accuracy: 0.7366\n",
            "Epoch 86/100\n",
            "210/210 [==============================] - 1s 5ms/step - loss: 0.0496 - accuracy: 0.9857 - val_loss: 1.1349 - val_accuracy: 0.7611\n",
            "Epoch 87/100\n",
            "210/210 [==============================] - 1s 5ms/step - loss: 0.0443 - accuracy: 0.9872 - val_loss: 1.2814 - val_accuracy: 0.7427\n",
            "Epoch 88/100\n",
            "210/210 [==============================] - 1s 5ms/step - loss: 0.0484 - accuracy: 0.9864 - val_loss: 1.4193 - val_accuracy: 0.7197\n",
            "Epoch 89/100\n",
            "210/210 [==============================] - 1s 5ms/step - loss: 0.0552 - accuracy: 0.9826 - val_loss: 1.2934 - val_accuracy: 0.7491\n",
            "Epoch 90/100\n",
            "210/210 [==============================] - 1s 5ms/step - loss: 0.0531 - accuracy: 0.9839 - val_loss: 1.3629 - val_accuracy: 0.7356\n",
            "Epoch 91/100\n",
            "210/210 [==============================] - 1s 5ms/step - loss: 0.0430 - accuracy: 0.9874 - val_loss: 1.4041 - val_accuracy: 0.7183\n",
            "Epoch 92/100\n",
            "210/210 [==============================] - 1s 5ms/step - loss: 0.0505 - accuracy: 0.9851 - val_loss: 1.5493 - val_accuracy: 0.6982\n",
            "Epoch 93/100\n",
            "210/210 [==============================] - 1s 5ms/step - loss: 0.0457 - accuracy: 0.9866 - val_loss: 1.1739 - val_accuracy: 0.7641\n",
            "Epoch 94/100\n",
            "210/210 [==============================] - 1s 5ms/step - loss: 0.0487 - accuracy: 0.9850 - val_loss: 1.3286 - val_accuracy: 0.7391\n",
            "Epoch 95/100\n",
            "210/210 [==============================] - 1s 5ms/step - loss: 0.0477 - accuracy: 0.9860 - val_loss: 1.3139 - val_accuracy: 0.7363\n",
            "Epoch 96/100\n",
            "210/210 [==============================] - 1s 5ms/step - loss: 0.0468 - accuracy: 0.9856 - val_loss: 1.2951 - val_accuracy: 0.7523\n",
            "Epoch 97/100\n",
            "210/210 [==============================] - 1s 5ms/step - loss: 0.0441 - accuracy: 0.9867 - val_loss: 1.2616 - val_accuracy: 0.7553\n",
            "Epoch 98/100\n",
            "210/210 [==============================] - 1s 5ms/step - loss: 0.0373 - accuracy: 0.9893 - val_loss: 1.2129 - val_accuracy: 0.7652\n",
            "Epoch 99/100\n",
            "210/210 [==============================] - 1s 5ms/step - loss: 0.0537 - accuracy: 0.9831 - val_loss: 1.3603 - val_accuracy: 0.7313\n",
            "Epoch 100/100\n",
            "210/210 [==============================] - 1s 5ms/step - loss: 0.0473 - accuracy: 0.9858 - val_loss: 1.4298 - val_accuracy: 0.7177\n"
          ],
          "name": "stdout"
        }
      ]
    },
    {
      "cell_type": "code",
      "metadata": {
        "id": "bO2n-6gd5fUQ",
        "colab_type": "code",
        "colab": {
          "base_uri": "https://localhost:8080/",
          "height": 51
        },
        "outputId": "eed91c03-6e52-4525-92cc-8156a5027c91"
      },
      "source": [
        "results_final = keras_model_final.evaluate(X_test, y_test)\n",
        "print('Test accuracy : ', results_final[1])"
      ],
      "execution_count": null,
      "outputs": [
        {
          "output_type": "stream",
          "text": [
            "563/563 [==============================] - 2s 3ms/step - loss: 1.4298 - accuracy: 0.7177\n",
            "Test accuracy :  0.7177222371101379\n"
          ],
          "name": "stdout"
        }
      ]
    },
    {
      "cell_type": "markdown",
      "metadata": {
        "id": "lQIdfx485fUS",
        "colab_type": "text"
      },
      "source": [
        "#### Predicting the digits using NN classifier on test data"
      ]
    },
    {
      "cell_type": "markdown",
      "metadata": {
        "id": "_CtyNRR85fUT",
        "colab_type": "text"
      },
      "source": [
        "#### Image 1"
      ]
    },
    {
      "cell_type": "code",
      "metadata": {
        "id": "uDo_RLsG5fUT",
        "colab_type": "code",
        "colab": {
          "base_uri": "https://localhost:8080/",
          "height": 283
        },
        "outputId": "5fb1a02d-55f6-4d8e-9da5-a2030ccd0cae"
      },
      "source": [
        "#Showing the image\n",
        "plt.imshow(X_test[5].reshape(32,32),cmap='gray')"
      ],
      "execution_count": null,
      "outputs": [
        {
          "output_type": "execute_result",
          "data": {
            "text/plain": [
              "<matplotlib.image.AxesImage at 0x7f9840f5efd0>"
            ]
          },
          "metadata": {
            "tags": []
          },
          "execution_count": 96
        },
        {
          "output_type": "display_data",
          "data": {
            "image/png": "[encoded data removed]",
            "text/plain": [
              "<Figure size 432x288 with 1 Axes>"
            ]
          },
          "metadata": {
            "tags": [],
            "needs_background": "light"
          }
        }
      ]
    },
    {
      "cell_type": "code",
      "metadata": {
        "id": "8_5AULDO5fUV",
        "colab_type": "code",
        "colab": {
          "base_uri": "https://localhost:8080/",
          "height": 105
        },
        "outputId": "eb899817-da4d-4485-a1ee-1e5d172f390c"
      },
      "source": [
        "#Predicting the digits\n",
        "keras_model_final.predict_classes(X_test)[5]"
      ],
      "execution_count": null,
      "outputs": [
        {
          "output_type": "stream",
          "text": [
            "WARNING:tensorflow:From <ipython-input-97-d20ad044a4d7>:2: Sequential.predict_classes (from tensorflow.python.keras.engine.sequential) is deprecated and will be removed after 2021-01-01.\n",
            "Instructions for updating:\n",
            "Please use instead:* `np.argmax(model.predict(x), axis=-1)`,   if your model does multi-class classification   (e.g. if it uses a `softmax` last-layer activation).* `(model.predict(x) > 0.5).astype(\"int32\")`,   if your model does binary classification   (e.g. if it uses a `sigmoid` last-layer activation).\n"
          ],
          "name": "stdout"
        },
        {
          "output_type": "execute_result",
          "data": {
            "text/plain": [
              "9"
            ]
          },
          "metadata": {
            "tags": []
          },
          "execution_count": 97
        }
      ]
    },
    {
      "cell_type": "markdown",
      "metadata": {
        "id": "2TRmm66c5fUX",
        "colab_type": "text"
      },
      "source": [
        "#### Image 2"
      ]
    },
    {
      "cell_type": "code",
      "metadata": {
        "id": "D6YDOsUC5fUX",
        "colab_type": "code",
        "colab": {
          "base_uri": "https://localhost:8080/",
          "height": 283
        },
        "outputId": "d4654616-080f-44c1-b2bb-abc27549a29a"
      },
      "source": [
        "#Showing the image\n",
        "plt.imshow(X_test[10].reshape(32,32),cmap='gray')"
      ],
      "execution_count": null,
      "outputs": [
        {
          "output_type": "execute_result",
          "data": {
            "text/plain": [
              "<matplotlib.image.AxesImage at 0x7f9840689b38>"
            ]
          },
          "metadata": {
            "tags": []
          },
          "execution_count": 98
        },
        {
          "output_type": "display_data",
          "data": {
            "image/png": "[encoded data removed]",
            "text/plain": [
              "<Figure size 432x288 with 1 Axes>"
            ]
          },
          "metadata": {
            "tags": [],
            "needs_background": "light"
          }
        }
      ]
    },
    {
      "cell_type": "code",
      "metadata": {
        "id": "V87gV__T5fUZ",
        "colab_type": "code",
        "colab": {
          "base_uri": "https://localhost:8080/",
          "height": 34
        },
        "outputId": "f53723ab-ab93-4672-bfb2-3d4a77657ae3"
      },
      "source": [
        "#Predicting the digits\n",
        "keras_model_final.predict_classes(X_test)[10]"
      ],
      "execution_count": null,
      "outputs": [
        {
          "output_type": "execute_result",
          "data": {
            "text/plain": [
              "8"
            ]
          },
          "metadata": {
            "tags": []
          },
          "execution_count": 99
        }
      ]
    },
    {
      "cell_type": "markdown",
      "metadata": {
        "id": "8flii0yd5fUb",
        "colab_type": "text"
      },
      "source": [
        "#### Image 3"
      ]
    },
    {
      "cell_type": "code",
      "metadata": {
        "id": "AwjXxYvJ5fUb",
        "colab_type": "code",
        "colab": {
          "base_uri": "https://localhost:8080/",
          "height": 283
        },
        "outputId": "3890edd5-b5a4-4814-fe46-3fbd7b39a303"
      },
      "source": [
        "#Showing the image\n",
        "plt.imshow(X_test[112].reshape(32,32),cmap='gray')"
      ],
      "execution_count": null,
      "outputs": [
        {
          "output_type": "execute_result",
          "data": {
            "text/plain": [
              "<matplotlib.image.AxesImage at 0x7f9840675208>"
            ]
          },
          "metadata": {
            "tags": []
          },
          "execution_count": 100
        },
        {
          "output_type": "display_data",
          "data": {
            "image/png": "[encoded data removed]",
            "text/plain": [
              "<Figure size 432x288 with 1 Axes>"
            ]
          },
          "metadata": {
            "tags": [],
            "needs_background": "light"
          }
        }
      ]
    },
    {
      "cell_type": "code",
      "metadata": {
        "id": "JvtXuzi65fUd",
        "colab_type": "code",
        "colab": {
          "base_uri": "https://localhost:8080/",
          "height": 34
        },
        "outputId": "095fac71-4251-45bc-d129-57a2dd50828f"
      },
      "source": [
        "#Predicting the digits\n",
        "keras_model_final.predict_classes(X_test)[112]"
      ],
      "execution_count": null,
      "outputs": [
        {
          "output_type": "execute_result",
          "data": {
            "text/plain": [
              "9"
            ]
          },
          "metadata": {
            "tags": []
          },
          "execution_count": 101
        }
      ]
    },
    {
      "cell_type": "code",
      "metadata": {
        "id": "ZGJpY1o55fUe",
        "colab_type": "code",
        "colab": {
          "base_uri": "https://localhost:8080/",
          "height": 34
        },
        "outputId": "b4878eef-5493-43e3-a928-7b4bbcf01867"
      },
      "source": [
        "#Predicting for all images\n",
        "y_pred=keras_model_final.predict_classes(X_test)\n",
        "print(y_pred)"
      ],
      "execution_count": null,
      "outputs": [
        {
          "output_type": "stream",
          "text": [
            "[7 7 2 ... 7 8 2]\n"
          ],
          "name": "stdout"
        }
      ]
    },
    {
      "cell_type": "markdown",
      "metadata": {
        "id": "J_wz7sZH5fUg",
        "colab_type": "text"
      },
      "source": [
        "# Differences and trade-offs between traditional KNN and NN classifiers with the help of classification metrics "
      ]
    },
    {
      "cell_type": "markdown",
      "metadata": {
        "id": "hnyb7GPY5fUg",
        "colab_type": "text"
      },
      "source": [
        "* KNN requires more time to find the nearest neibhours. It takes less time to train the model. It took more than 24hrs to find the best neighbour(k). However, Neural Network takes more time to train the model.\n",
        "* In KNN, we have only one hyperparameter k while in NN we have so many hyperparameters(Hidden Layers, Hidden Units,learning Rate, Number of Epochs, activations Functions).\n",
        "* KNN classification metrics shows that the accuracy is 46%. The digit 4 and 6 are classified correctly and achieved approx 60% accuracy. the other digits are not predicted correclty.\n",
        "* Using NN with batchNormalization we got 74.7% accuracy. We have predicted the classification of the images correctly."
      ]
    },
    {
      "cell_type": "code",
      "metadata": {
        "id": "f0JXxJbJ5fUg",
        "colab_type": "code",
        "colab": {}
      },
      "source": [
        ""
      ],
      "execution_count": null,
      "outputs": []
    }
  ]
}